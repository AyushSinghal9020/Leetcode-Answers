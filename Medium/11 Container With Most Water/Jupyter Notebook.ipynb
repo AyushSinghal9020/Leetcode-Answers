{
  "nbformat": 4,
  "nbformat_minor": 0,
  "metadata": {
    "colab": {
      "provenance": [],
      "toc_visible": true
    },
    "kernelspec": {
      "name": "python3",
      "display_name": "Python 3"
    },
    "language_info": {
      "name": "python"
    }
  },
  "cells": [
    {
      "cell_type": "markdown",
      "source": [
        "# Question 11 \n",
        "## Container With Most Water\n",
        "### Problem Statement - \n",
        "\n",
        "You are given an `integer` `array` height of length `n`. There are `n` vertical lines drawn such that the two endpoints of the `ith` line are `(i, 0)` and `(i, height[i])`.\n",
        "\n",
        "Find two lines that together with the `x-axis` form a container, such that the container contains the most water.\n",
        "\n",
        "Return the maximum amount of water a container can store.\n",
        "\n",
        "Notice that you may not slant the container.\n",
        "\n",
        "### Examples\n",
        "#### Example 1\n",
        "<img src = \"https://s3-lc-upload.s3.amazonaws.com/uploads/2018/07/17/question_11.jpg\">\n",
        "\n",
        "Input: `height = [1,8,6,2,5,4,8,3,7]`\n",
        "\n",
        "Output: `49`\n",
        "\n",
        "**Explanation**: The above vertical lines are represented by array [1,8,6,2,5,4,8,3,7]. In this case, the max area of water (blue section) the container can contain is 49.\n",
        "\n",
        "#### Example 2\n",
        "Input: `height = [1,1]`\n",
        "Output: `1`\n",
        "\n",
        "### Constraints\n",
        "* `n == height.length`\n",
        "* `2 <= n <= 105`\n",
        "* `0 <= height[i] <= 104`\n",
        "\n"
      ],
      "metadata": {
        "id": "L-tIiog30K6H"
      }
    },
    {
      "cell_type": "markdown",
      "source": [
        "First of all we can see that this diagram gives us a lot of intution about how the problem should be shouled. To find the maximum area we will simply need to iterate over whole container twice, one from one end and one from another. Through this we will be able to capture every possible area/size of the container. We will be taking the exmaple hiehgt for the sample. For instance we will pretend the are is zero "
      ],
      "metadata": {
        "id": "NBwu7OiT1qXO"
      }
    },
    {
      "cell_type": "code",
      "source": [
        "height = [1,8,6,2,5,4,8,3,7]\n",
        "area = 0\n",
        "for i in range(len(height)):\n",
        "    for j in range(len(height)):pass"
      ],
      "metadata": {
        "id": "ssr-AohH0KeQ"
      },
      "execution_count": 9,
      "outputs": []
    },
    {
      "cell_type": "markdown",
      "source": [
        "Now we need to check which part has the higher value"
      ],
      "metadata": {
        "id": "yzE-753i22U6"
      }
    },
    {
      "cell_type": "code",
      "source": [
        "height = [1,8,6,2,5,4,8,3,7]\n",
        "area = 0\n",
        "for i in range(len(height)):\n",
        "    for j in range(len(height)):\n",
        "        if height[i] > height[j]:pass\n",
        "        else:pass"
      ],
      "metadata": {
        "id": "8G4jYvaG3JMs"
      },
      "execution_count": 10,
      "outputs": []
    },
    {
      "cell_type": "markdown",
      "source": [
        "Now we need to find the smaller one and try to make the bigger one of same height"
      ],
      "metadata": {
        "id": "zBNOK_MK3RaU"
      }
    },
    {
      "cell_type": "code",
      "source": [
        "height = [1,8,6,2,5,4,8,3,7]\n",
        "area = 0\n",
        "for i in range(len(height)):\n",
        "    for j in range(len(height)):\n",
        "        if height[i] > height[j]:\n",
        "            diff = height[i] - height[j]\n",
        "        else:\n",
        "            diff = height[j] - height[i]"
      ],
      "metadata": {
        "id": "BE26xsZq3lCb"
      },
      "execution_count": null,
      "outputs": []
    },
    {
      "cell_type": "markdown",
      "source": [
        "Now our second last step is to calculate the area "
      ],
      "metadata": {
        "id": "cefBXilN3w9a"
      }
    },
    {
      "cell_type": "code",
      "source": [
        "height = [1,8,6,2,5,4,8,3,7]\n",
        "area = 0\n",
        "for i in range(len(height)):\n",
        "    for j in range(len(height)):\n",
        "        if height[i] > height[j]:\n",
        "            diff = height[i] - height[j]\n",
        "        else:\n",
        "            diff = height[j] - height[i]\n",
        "        if i > j:\n",
        "            sample_area = (height[i] - diff) * (i - j)\n",
        "        else:\n",
        "            sample_area = (height[i] - diff) * (j - i)"
      ],
      "metadata": {
        "id": "IhZgrSYI4B-r"
      },
      "execution_count": null,
      "outputs": []
    },
    {
      "cell_type": "markdown",
      "source": [
        "Now our last step is just to check if the output sample area is greater than the area or not, and if is, we will replace it with that one and move forward the iteration"
      ],
      "metadata": {
        "id": "BNPWCM424U_q"
      }
    },
    {
      "cell_type": "code",
      "source": [
        "height = [1,8,6,2,5,4,8,3,7]\n",
        "area = 0\n",
        "for i in range(len(height)):\n",
        "    for j in range(len(height)):\n",
        "        if height[i] > height[j]:\n",
        "            diff = height[i] - height[j]\n",
        "        else:\n",
        "            diff = height[j] - height[i]\n",
        "        if i > j:\n",
        "            sample_area = (height[i] - diff) * (i - j)\n",
        "        else:\n",
        "            sample_area = (height[i] - diff) * (j - i)\n",
        "        if sample_area > area:\n",
        "            area = sample_area"
      ],
      "metadata": {
        "id": "zV-O2fUG4Urb"
      },
      "execution_count": null,
      "outputs": []
    },
    {
      "cell_type": "markdown",
      "source": [
        "And now we will do some beautification to the code "
      ],
      "metadata": {
        "id": "VNYxe08D40Ii"
      }
    },
    {
      "cell_type": "code",
      "source": [
        "class Solution:\n",
        "    def maxArea(self, height: List[int]) -> int:\n",
        "        \n",
        "        area = 0\n",
        "        \n",
        "        for i in range(len(height)):\n",
        "        \n",
        "            for j in range(len(height)):\n",
        "        \n",
        "                if height[i] > height[j]:\n",
        "        \n",
        "                    diff = height[i] - height[j]\n",
        "        \n",
        "                else :\n",
        "        \n",
        "                    diff = height[j] - height[i]\n",
        "        \n",
        "                if i > j:\n",
        "        \n",
        "                    sample_area = (height[i] - diff) * (i - j)\n",
        "        \n",
        "                else :\n",
        "        \n",
        "                    sample_area = (height[i] - diff) * (j - i)\n",
        "        \n",
        "                if sample_area > area:\n",
        "                \n",
        "                    area = sample_area\n",
        "        \n",
        "        return area"
      ],
      "metadata": {
        "id": "RCP22mmZuWVh"
      },
      "execution_count": null,
      "outputs": []
    }
  ]
}
