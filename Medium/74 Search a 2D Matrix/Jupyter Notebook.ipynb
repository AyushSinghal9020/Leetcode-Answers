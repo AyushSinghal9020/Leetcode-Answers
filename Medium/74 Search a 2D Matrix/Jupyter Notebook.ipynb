{
  "nbformat": 4,
  "nbformat_minor": 0,
  "metadata": {
    "colab": {
      "provenance": []
    },
    "kernelspec": {
      "name": "python3",
      "display_name": "Python 3"
    },
    "language_info": {
      "name": "python"
    }
  },
  "cells": [
    {
      "cell_type": "markdown",
      "source": [
        "# Question 74\n",
        "## Search a 2D Matrix\n",
        "### Problem Statement - \n",
        "\n",
        "You are given an `m x n` integer matrix` matrix with the following two properties:\n",
        "\n",
        "* Each row is sorted in non-decreasing order.\n",
        "* The first integer of each row is greater than the last integer of the previous row.\n",
        "\n",
        "Given an integer `target`, return `true` if `target` is in `matrix` or `false` otherwise.\n",
        "\n",
        "You must write a solution in `O(log(m * n))` time complexity.\n",
        " \n",
        "### Examples\n",
        "#### Example 1\n",
        "\n",
        "<img src = \"https://assets.leetcode.com/uploads/2020/10/05/mat.jpg\">\n",
        "\n",
        "**Input**: `matrix = [[1,3,5,7],[10,11,16,20],[23,30,34,60]], target = 3`\n",
        "\n",
        "**Output**: `true`\n",
        "#### Example 2\n",
        "\n",
        "**Input**: nums = [1,3,5,6], target = 2\n",
        "\n",
        "**Output**: 1\n",
        "\n",
        "#### Example 2\n",
        "\n",
        "<img src = \"https://assets.leetcode.com/uploads/2020/10/05/mat2.jpg\">\n",
        "\n",
        "**Input**: `matrix = [[1,3,5,7],[10,11,16,20],[23,30,34,60]], target = 13`\n",
        "\n",
        "**Output**: `false`\n",
        "\n",
        "### Constraints\n",
        "\n",
        "* `m == matrix.length`\n",
        "* `n == matrix[i].length`\n",
        "* `1 <= m, n <= 100`\n",
        "* `-104 <= matrix[i][j], target <= 104`\n",
        "\n"
      ],
      "metadata": {
        "id": "L-tIiog30K6H"
      }
    },
    {
      "cell_type": "markdown",
      "source": [
        "For a dummy lets consider the first example `matrix = [[1,3,5,7],[10,11,16,20],[23,30,34,60]], target = 3`\n",
        "\n",
        "\n",
        "\n",
        "\n"
      ],
      "metadata": {
        "id": "cjKWseZq5-Au"
      }
    },
    {
      "cell_type": "code",
      "source": [
        "matrix = [[1,3,5,7],[10,11,16,20],[23,30,34,60]]\n",
        "target = 3"
      ],
      "metadata": {
        "id": "rjELu7Vo6M_7"
      },
      "execution_count": 16,
      "outputs": []
    },
    {
      "cell_type": "markdown",
      "source": [
        "We cannot directly search in the list of list, but what we can do is to check in one of the lists"
      ],
      "metadata": {
        "id": "9zShaPBZ6dz0"
      }
    },
    {
      "cell_type": "code",
      "source": [
        "for i in matrix :\n",
        "    if target in i:pass\n",
        "    else:pass"
      ],
      "metadata": {
        "id": "8zuQBTFmG55U"
      },
      "execution_count": 17,
      "outputs": []
    },
    {
      "cell_type": "markdown",
      "source": [
        "Now what we can do is, if the element exist in the list, return `True` else `False`"
      ],
      "metadata": {
        "id": "vUpyiuaWHRpv"
      }
    },
    {
      "cell_type": "code",
      "source": [
        "for i in matrix :\n",
        "    if target in i:print(True)\n",
        "    else:print(False)"
      ],
      "metadata": {
        "colab": {
          "base_uri": "https://localhost:8080/"
        },
        "id": "36ae_3Acz6X-",
        "outputId": "4420632a-3f45-491b-a1ae-a7d682c581cc"
      },
      "execution_count": 18,
      "outputs": [
        {
          "output_type": "stream",
          "name": "stdout",
          "text": [
            "True\n",
            "False\n",
            "False\n"
          ]
        }
      ]
    },
    {
      "cell_type": "markdown",
      "source": [
        "But we are getting a lot of outputs, we only need one, for this we can break the loop at the first occurence "
      ],
      "metadata": {
        "id": "Zf-BAlF5MysP"
      }
    },
    {
      "cell_type": "code",
      "source": [
        "for i in matrix :\n",
        "    if target in i:\n",
        "        print(True)\n",
        "        break\n",
        "    else:\n",
        "        print(False)\n",
        "        break"
      ],
      "metadata": {
        "colab": {
          "base_uri": "https://localhost:8080/"
        },
        "id": "KboWGhseM8T_",
        "outputId": "29940b43-9d16-469f-bd85-30bcb33b1a8c"
      },
      "execution_count": 19,
      "outputs": [
        {
          "output_type": "stream",
          "name": "stdout",
          "text": [
            "True\n"
          ]
        }
      ]
    },
    {
      "cell_type": "markdown",
      "source": [
        "This can be considered as the solution but you will get erros on this `[[1],[3]]\n",
        "3`"
      ],
      "metadata": {
        "id": "O_DAWPSXHNW9"
      }
    },
    {
      "cell_type": "markdown",
      "source": [
        "To rectify this, what we can do is to make another list and then check if there is True in the list or not like this "
      ],
      "metadata": {
        "id": "VDJJ0_R-NRBA"
      }
    },
    {
      "cell_type": "code",
      "source": [
        "out_list = []\n",
        "for i in matrix :\n",
        "    if target in i : out_list.append(\"True\")\n",
        "    else:out_list.append(\"False\")\n",
        "\n",
        "if \"True\" in out_list:return True\n",
        "else: return False"
      ],
      "metadata": {
        "id": "XIz0gx02NfUX"
      },
      "execution_count": null,
      "outputs": []
    },
    {
      "cell_type": "markdown",
      "source": [
        "Now this can be considered as the solution, now we just need to beautify a ittle bit "
      ],
      "metadata": {
        "id": "xV3CwXNPNgVf"
      }
    },
    {
      "cell_type": "code",
      "source": [
        "class Solution:\n",
        "    def searchMatrix(self, matrix: List[List[int]], target: int) -> bool:\n",
        "            out_list = []\n",
        "            for i in matrix :\n",
        "                if target in i : out_list.append(\"True\")\n",
        "                else:out_list.append(\"False\")\n",
        "\n",
        "            if \"True\" in out_list:return True\n",
        "            else: return False"
      ],
      "metadata": {
        "id": "WgkdeOSRJlzN"
      },
      "execution_count": null,
      "outputs": []
    }
  ]
}