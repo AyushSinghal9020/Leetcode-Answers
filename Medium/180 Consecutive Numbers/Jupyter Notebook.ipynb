{
  "nbformat": 4,
  "nbformat_minor": 0,
  "metadata": {
    "colab": {
      "provenance": []
    },
    "kernelspec": {
      "name": "python3",
      "display_name": "Python 3"
    },
    "language_info": {
      "name": "python"
    }
  },
  "cells": [
    {
      "cell_type": "markdown",
      "source": [
        "# Question 189\n",
        "## Rotate Array\n",
        "### Problem Statement - \n",
        "\n",
        "Given an integer array `nums`, rotate the array to the right by `k` steps, where `k` is non-negative.\n",
        "\n",
        " \n",
        "### Examples\n",
        "#### Example 1\n",
        "\n",
        "**Input**: nums = [1,2,3,4,5,6,7], k = 3\n",
        "\n",
        "**Output**: [5,6,7,1,2,3,4]\n",
        "\n",
        "**Explanation**:\n",
        "\n",
        "rotate 1 steps to the right: [7,1,2,3,4,5,6]\n",
        "\n",
        "rotate 2 steps to the right: [6,7,1,2,3,4,5]\n",
        "\n",
        "rotate 3 steps to the right: [5,6,7,1,2,3,4]\n",
        "\n",
        "#### Example 2\n",
        "\n",
        "**Input**: nums = [-1,-100,3,99], k = 2\n",
        "\n",
        "**Output**: [3,99,-1,-100]\n",
        "\n",
        "**Explanation**: \n",
        "\n",
        "rotate 1 steps to the right: [99,-1,-100,3]\n",
        "\n",
        "rotate 2 steps to the right: [3,99,-1,-100]\n",
        "\n",
        "### Constraints\n",
        "* `1 <= nums.length <= 105`\n",
        "* `-231 <= nums[i] <= 231 - 1`\n",
        "* `0 <= k <= 105`\n",
        "\n",
        "### Follow Up\n",
        "* Try to come up with as many solutions as you can. There are at least three different ways to solve this problem.\n",
        "* Could you do it in-place with O(1) extra space?"
      ],
      "metadata": {
        "id": "L-tIiog30K6H"
      }
    },
    {
      "cell_type": "markdown",
      "source": [
        "For a dummy lets consider the first example `nums = [1,2,3,4,5,6,7]`, `k = 3`\n",
        "\n",
        "\n",
        "\n",
        "\n"
      ],
      "metadata": {
        "id": "cjKWseZq5-Au"
      }
    },
    {
      "cell_type": "code",
      "source": [
        "nums = [1,2,3,4,5,6,7]\n",
        "k = 3"
      ],
      "metadata": {
        "id": "rjELu7Vo6M_7"
      },
      "execution_count": 9,
      "outputs": []
    },
    {
      "cell_type": "markdown",
      "source": [
        "# Method 1"
      ],
      "metadata": {
        "id": "5-dCGhy-y_T-"
      }
    },
    {
      "cell_type": "markdown",
      "source": [
        "If somehow we are able to to place one element , in our case which is `7` and place it before `1` like this `[7 , 1 , 2 , 3 , 4 , 5 , 6]`, then it would become easier for us and then we just need to do the same thing a number of times"
      ],
      "metadata": {
        "id": "9zShaPBZ6dz0"
      }
    },
    {
      "cell_type": "markdown",
      "source": [
        "For removing one element with its index known, we use `list.pop(index)`, and the index, we ca use two conventions\n",
        "* `-1`\n",
        "* `len(list) - 1`"
      ],
      "metadata": {
        "id": "vUpyiuaWHRpv"
      }
    },
    {
      "cell_type": "code",
      "source": [
        "nums.pop(-1)"
      ],
      "metadata": {
        "colab": {
          "base_uri": "https://localhost:8080/"
        },
        "id": "36ae_3Acz6X-",
        "outputId": "68cbb112-d70c-49d0-f34e-8d74461d9436"
      },
      "execution_count": 6,
      "outputs": [
        {
          "output_type": "execute_result",
          "data": {
            "text/plain": [
              "7"
            ]
          },
          "metadata": {},
          "execution_count": 6
        }
      ]
    },
    {
      "cell_type": "code",
      "source": [
        "nums.pop(len(nums) - 1)"
      ],
      "metadata": {
        "colab": {
          "base_uri": "https://localhost:8080/"
        },
        "id": "Jxg0WMgfz9A2",
        "outputId": "9e0424ce-c0e0-4eb5-ae39-a18162eb2580"
      },
      "execution_count": 10,
      "outputs": [
        {
          "output_type": "execute_result",
          "data": {
            "text/plain": [
              "7"
            ]
          },
          "metadata": {},
          "execution_count": 10
        }
      ]
    },
    {
      "cell_type": "markdown",
      "source": [
        "For adding this element into the list we can use the `list.insert(index , element)` function "
      ],
      "metadata": {
        "id": "vi_Lj8_V0GNg"
      }
    },
    {
      "cell_type": "code",
      "source": [
        "nums.insert(0 , \"x\")"
      ],
      "metadata": {
        "id": "Nn5IplrX0Owv"
      },
      "execution_count": 11,
      "outputs": []
    },
    {
      "cell_type": "code",
      "source": [
        "nums"
      ],
      "metadata": {
        "colab": {
          "base_uri": "https://localhost:8080/"
        },
        "id": "x1TPnIt30RmG",
        "outputId": "191252a9-6a41-4d28-ba0f-a0c08e79cac8"
      },
      "execution_count": 12,
      "outputs": [
        {
          "output_type": "execute_result",
          "data": {
            "text/plain": [
              "['x', 1, 2, 3, 4, 5, 6]"
            ]
          },
          "metadata": {},
          "execution_count": 12
        }
      ]
    },
    {
      "cell_type": "markdown",
      "source": [
        "Now we need to intialize `nums` again "
      ],
      "metadata": {
        "id": "h6eQ0SJK0WWm"
      }
    },
    {
      "cell_type": "code",
      "source": [
        "nums = [1,2,3,4,5,6,7]"
      ],
      "metadata": {
        "id": "N68KN63THRMv"
      },
      "execution_count": 13,
      "outputs": []
    },
    {
      "cell_type": "markdown",
      "source": [
        "Doing for the poped element, we can do this "
      ],
      "metadata": {
        "id": "7VuHeJEuHYAf"
      }
    },
    {
      "cell_type": "code",
      "source": [
        "nums.insert(0 , nums.pop(-1))"
      ],
      "metadata": {
        "id": "r9XCYn9UHNwH"
      },
      "execution_count": 14,
      "outputs": []
    },
    {
      "cell_type": "code",
      "source": [
        "nums"
      ],
      "metadata": {
        "colab": {
          "base_uri": "https://localhost:8080/"
        },
        "id": "sNguyMM80seP",
        "outputId": "17489be9-ffed-4ebd-948e-fa716c220638"
      },
      "execution_count": 15,
      "outputs": [
        {
          "output_type": "execute_result",
          "data": {
            "text/plain": [
              "[7, 1, 2, 3, 4, 5, 6]"
            ]
          },
          "metadata": {},
          "execution_count": 15
        }
      ]
    },
    {
      "cell_type": "markdown",
      "source": [
        "Now we need to intialize `nums` again "
      ],
      "metadata": {
        "id": "nGg6z7uD0xyF"
      }
    },
    {
      "cell_type": "code",
      "source": [
        "nums = [1,2,3,4,5,6,7]"
      ],
      "metadata": {
        "id": "_9Ci4ATR00M0"
      },
      "execution_count": 16,
      "outputs": []
    },
    {
      "cell_type": "markdown",
      "source": [
        "Now we just need to do this iteratively "
      ],
      "metadata": {
        "id": "-516hqBCHfcA"
      }
    },
    {
      "cell_type": "code",
      "source": [
        "for _ in range(k):\n",
        "    nums.insert(0 , nums.pop(-1))"
      ],
      "metadata": {
        "id": "QAoqzrkLxbab"
      },
      "execution_count": 17,
      "outputs": []
    },
    {
      "cell_type": "code",
      "source": [
        "nums"
      ],
      "metadata": {
        "colab": {
          "base_uri": "https://localhost:8080/"
        },
        "id": "kZ5oPqV5xu5W",
        "outputId": "68669eb2-8f80-462f-9921-e4bfb661aefd"
      },
      "execution_count": 18,
      "outputs": [
        {
          "output_type": "execute_result",
          "data": {
            "text/plain": [
              "[5, 6, 7, 1, 2, 3, 4]"
            ]
          },
          "metadata": {},
          "execution_count": 18
        }
      ]
    },
    {
      "cell_type": "markdown",
      "source": [
        "Now we just need to make a function and beautify it "
      ],
      "metadata": {
        "id": "JyZy9Rh105xc"
      }
    },
    {
      "cell_type": "code",
      "source": [
        "class Solution:\n",
        "    def rotate(self, nums: List[int], k: int) -> None:\n",
        "        for i in range(k):\n",
        "            nums.insert(0 , nums.pop(-1))\n",
        "\n",
        "        return nums"
      ],
      "metadata": {
        "id": "EGWD12Bt1AfV"
      },
      "execution_count": null,
      "outputs": []
    }
  ]
}
