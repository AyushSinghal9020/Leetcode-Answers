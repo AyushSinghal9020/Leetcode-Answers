{
 "cells": [
  {
   "cell_type": "markdown",
   "metadata": {},
   "source": [
    "# Question 2182"
   ]
  },
  {
   "cell_type": "markdown",
   "metadata": {},
   "source": [
    "### Construct String With Repeat Limit"
   ]
  },
  {
   "cell_type": "markdown",
   "metadata": {},
   "source": [
    "### Probelm Statement :-"
   ]
  },
  {
   "cell_type": "markdown",
   "metadata": {},
   "source": [
    "You are given a `string` `s` and an `integer` `repeatLimit`. Construct a new `string` `repeatLimitedString` using the characters of `s` such that no letter appears **more than** `repeatLimit` times **in a row**. You do **not** have to use all characters from `s`.\n",
    "\n",
    "Return the **lexicographically largest** `repeatLimitedString` possible.\n",
    "\n",
    "A string `a` is **lexicographically larger** than a `string` `b` if in the first position where `a` and `b` differ, string `a`has a letter that appears later in the alphabet than the corresponding letter in `b`. If the first `min(a.length, b.length)` characters do not differ, then the longer string is the lexicographically larger one."
   ]
  },
  {
   "cell_type": "markdown",
   "metadata": {},
   "source": [
    "### Examples"
   ]
  },
  {
   "cell_type": "markdown",
   "metadata": {},
   "source": [
    "#### Example 1"
   ]
  },
  {
   "cell_type": "markdown",
   "metadata": {},
   "source": [
    "#### Example :"
   ]
  },
  {
   "cell_type": "markdown",
   "metadata": {},
   "source": [
    "    Input : \n",
    "        s = 'cczazcc' , repeatLimit = 3\n",
    "    Output : \n",
    "        'zzcccac'\n"
   ]
  },
  {
   "cell_type": "markdown",
   "metadata": {},
   "source": [
    "#### Explanation : \n"
   ]
  },
  {
   "cell_type": "markdown",
   "metadata": {},
   "source": [
    "We use all of the characters from s to construct the repeatLimitedString \"zzcccac\".\n",
    "- The letter 'a' appears at most 1 time in a row.\n",
    "- The letter 'c' appears at most 3 times in a row.\n",
    "- The letter 'z' appears at most 2 times in a row.\n",
    "Hence, no letter appears more than repeatLimit times in a row and the string is a valid repeatLimitedString.\n",
    "The string is the lexicographically largest repeatLimitedString possible so we return \"zzcccac\".\n",
    "Note that the string \"zzcccca\" is lexicographically larger but the letter 'c' appears more than 3 times in a row, so it is not a valid repeatLimitedString."
   ]
  },
  {
   "cell_type": "markdown",
   "metadata": {},
   "source": [
    "#### Example 2"
   ]
  },
  {
   "cell_type": "markdown",
   "metadata": {},
   "source": [
    "#### Example :\n"
   ]
  },
  {
   "cell_type": "markdown",
   "metadata": {},
   "source": [
    "    Input : \n",
    "        s = \"aababab\", repeatLimit = 2\n",
    "    Output: \n",
    "        \"bbabaa\""
   ]
  },
  {
   "cell_type": "markdown",
   "metadata": {},
   "source": [
    "#### Explanation : \n",
    "\n"
   ]
  },
  {
   "cell_type": "markdown",
   "metadata": {},
   "source": [
    "We use only some of the characters from s to construct the repeatLimitedString \"bbabaa\". \n",
    "- The letter 'a' appears at most 2 times in a row.\n",
    "- The letter 'b' appears at most 2 times in a row.\n",
    "Hence, no letter appears more than repeatLimit times in a row and the string is a valid repeatLimitedString.\n",
    "The string is the lexicographically largest repeatLimitedString possible so we return \"bbabaa\".\n",
    "Note that the string \"bbabaaa\" is lexicographically larger but the letter 'a' appears more than 2 times in a row, so it is not a valid repeatLimitedString."
   ]
  },
  {
   "cell_type": "markdown",
   "metadata": {},
   "source": [
    "#### Index "
   ]
  },
  {
   "cell_type": "markdown",
   "metadata": {},
   "source": [
    "- `sort` => sorts the list \n",
    "- `append` => adds an element at the end of the list\n",
    "- `remove` => remove an element from the end of the list \n",
    "- `len` => returns the lenght of the list"
   ]
  },
  {
   "cell_type": "markdown",
   "metadata": {},
   "source": [
    "#### Solution"
   ]
  },
  {
   "cell_type": "markdown",
   "metadata": {},
   "source": [
    "Lets take the input from the example as the question as the test, we will convert the input as variable in the final soultion "
   ]
  },
  {
   "cell_type": "markdown",
   "metadata": {},
   "source": [
    "First we will convert the string to a list as it is easy to traverse."
   ]
  },
  {
   "cell_type": "code",
   "execution_count": 1,
   "metadata": {},
   "outputs": [],
   "source": [
    "s = 'cczazcc'\n",
    "list = []\n",
    "\n",
    "for i in s:\n",
    "\n",
    "            list.append(i)"
   ]
  },
  {
   "cell_type": "markdown",
   "metadata": {},
   "source": [
    "Lets see how the list looks now "
   ]
  },
  {
   "cell_type": "code",
   "execution_count": 2,
   "metadata": {},
   "outputs": [
    {
     "data": {
      "text/plain": [
       "['c', 'c', 'z', 'a', 'z', 'c', 'c']"
      ]
     },
     "execution_count": 2,
     "metadata": {},
     "output_type": "execute_result"
    }
   ],
   "source": [
    "list\n"
   ]
  },
  {
   "cell_type": "markdown",
   "metadata": {},
   "source": [
    "Now lets make the list in lexicographical order, we will add the repeat limit later on, we will first convert it in the lexicographical order. For this we will simply run the pre-defined/buitl-in function in python as `sort`."
   ]
  },
  {
   "cell_type": "code",
   "execution_count": 3,
   "metadata": {},
   "outputs": [],
   "source": [
    "list.sort()"
   ]
  },
  {
   "cell_type": "markdown",
   "metadata": {},
   "source": [
    "Now lets take a look at the list again "
   ]
  },
  {
   "cell_type": "code",
   "execution_count": 4,
   "metadata": {},
   "outputs": [
    {
     "data": {
      "text/plain": [
       "['a', 'c', 'c', 'c', 'c', 'z', 'z']"
      ]
     },
     "execution_count": 4,
     "metadata": {},
     "output_type": "execute_result"
    }
   ],
   "source": [
    "list"
   ]
  },
  {
   "cell_type": "markdown",
   "metadata": {},
   "source": [
    "Dammn!!, Thats a good list "
   ]
  },
  {
   "cell_type": "markdown",
   "metadata": {},
   "source": [
    "It is very clear that we need to iterate through the list, and the best way ti iteraste through is to run a for loop. As an instance we will just print the value of `j` to run the loop "
   ]
  },
  {
   "cell_type": "code",
   "execution_count": 5,
   "metadata": {},
   "outputs": [
    {
     "name": "stdout",
     "output_type": "stream",
     "text": [
      "0\n",
      "1\n",
      "2\n",
      "3\n",
      "4\n",
      "5\n",
      "6\n"
     ]
    }
   ],
   "source": [
    "for j in range(len(list)) :\n",
    "\n",
    "    print(j)"
   ]
  },
  {
   "cell_type": "markdown",
   "metadata": {},
   "source": [
    "Now we need to know where exactly the alphabets are changing, for this we need to add a `if` condition "
   ]
  },
  {
   "cell_type": "code",
   "execution_count": 11,
   "metadata": {},
   "outputs": [
    {
     "name": "stdout",
     "output_type": "stream",
     "text": [
      "Length of the list is :  7\n",
      "====> 0\n",
      "-----Break Point-----\n",
      "a\n",
      "c\n",
      "====> 1\n",
      "====> 2\n",
      "====> 3\n",
      "====> 4\n",
      "-----Break Point-----\n",
      "c\n",
      "z\n",
      "====> 5\n",
      "====> 6\n"
     ]
    },
    {
     "ename": "IndexError",
     "evalue": "list index out of range",
     "output_type": "error",
     "traceback": [
      "\u001b[0;31m---------------------------------------------------------------------------\u001b[0m",
      "\u001b[0;31mIndexError\u001b[0m                                Traceback (most recent call last)",
      "Cell \u001b[0;32mIn [11], line 6\u001b[0m\n\u001b[1;32m      2\u001b[0m \u001b[39mfor\u001b[39;00m j \u001b[39min\u001b[39;00m \u001b[39mrange\u001b[39m(\u001b[39mlen\u001b[39m(\u001b[39mlist\u001b[39m)) :\n\u001b[1;32m      4\u001b[0m     \u001b[39mprint\u001b[39m(\u001b[39m\"\u001b[39m\u001b[39m====>\u001b[39m\u001b[39m\"\u001b[39m , j)\n\u001b[0;32m----> 6\u001b[0m     \u001b[39mif\u001b[39;00m \u001b[39mlist\u001b[39m[j] \u001b[39m!=\u001b[39m \u001b[39mlist\u001b[39;49m[j\u001b[39m+\u001b[39;49m\u001b[39m1\u001b[39;49m]:\n\u001b[1;32m      8\u001b[0m         \u001b[39mprint\u001b[39m(\u001b[39m\"\u001b[39m\u001b[39m-----Break Point-----\u001b[39m\u001b[39m\"\u001b[39m)\n\u001b[1;32m      9\u001b[0m         \u001b[39mprint\u001b[39m(\u001b[39mlist\u001b[39m[j])\n",
      "\u001b[0;31mIndexError\u001b[0m: list index out of range"
     ]
    }
   ],
   "source": [
    "print(\"Length of the list is : \",len(list))\n",
    "for j in range(len(list)) :\n",
    "    \n",
    "    print(\"====>\" , j)\n",
    "\n",
    "    if list[j] != list[j+1]:\n",
    "        \n",
    "        print(\"-----Break Point-----\")\n",
    "        print(list[j])\n",
    "        print(list[j + 1])\n",
    "    "
   ]
  },
  {
   "cell_type": "markdown",
   "metadata": {},
   "source": [
    "As you can see we got where the alphabets are changing, but also we got an error -> `list index out of range`."
   ]
  },
  {
   "cell_type": "markdown",
   "metadata": {},
   "source": [
    "This error came because, as you can see at the end, the value of `j` was `6`, the typical indexing of the list in programing starts with `0`, even if the `len` of the `list` was 7, the indexing at the list stopped at `6`, and as you can also see that the error came at line `5 -> if list[j] == list[j + 1]`. At this position putting the value of `j` in the `5th` line . `if list[6] == list[6 + 1] -> if list[6] == list[7]`, but there is no element as `list[7]` in the list. And thats why the error came out  "
   ]
  },
  {
   "cell_type": "markdown",
   "metadata": {},
   "source": [
    "To encounter this error we need to add another `if-else condition` that checks till the actual `length` is achieved, and break when it is achieved"
   ]
  },
  {
   "cell_type": "code",
   "execution_count": 13,
   "metadata": {},
   "outputs": [
    {
     "name": "stdout",
     "output_type": "stream",
     "text": [
      "Length of the list is :  7\n",
      "====> 0\n",
      "-----Break Point-----\n",
      "a\n",
      "c\n",
      "====> 1\n",
      "====> 2\n",
      "====> 3\n",
      "====> 4\n",
      "-----Break Point-----\n",
      "c\n",
      "z\n",
      "====> 5\n",
      "====> 6\n"
     ]
    }
   ],
   "source": [
    "print(\"Length of the list is : \",len(list))\n",
    "for j in range(len(list)) :\n",
    "\n",
    "    print(\"====>\" , j)\n",
    "\n",
    "    if j < len(list) - 1:\n",
    "\n",
    "        if list[j] != list[j+1]:\n",
    "            \n",
    "            print(\"-----Break Point-----\")\n",
    "            print(list[j])\n",
    "            print(list[j + 1])\n",
    "    else :\n",
    "        break"
   ]
  },
  {
   "cell_type": "markdown",
   "metadata": {},
   "source": [
    "Now we know where the `break points` are, but the question is asking for a `repeat limit` with it. We need to count the occurance of a particular element in the `list`, and if it exceeds the `repeat limit`, we need to do some `process` there. We dont know what process to do, but we know we need to do something. For this we will take `repeat limit` as `3` as given in the `example`.  "
   ]
  },
  {
   "cell_type": "markdown",
   "metadata": {},
   "source": [
    "Now we know where the `break points` are, but we dont want to do anything there, those are actually good points, we need to watch for the consistency "
   ]
  },
  {
   "cell_type": "code",
   "execution_count": 16,
   "metadata": {},
   "outputs": [
    {
     "name": "stdout",
     "output_type": "stream",
     "text": [
      "Length of the list is :  7\n",
      "====> 0\n",
      "-----Break Point-----\n",
      "a\n",
      "c\n",
      "====> 1\n",
      "We need to watch here comander !!\n",
      "====> 2\n",
      "We need to watch here comander !!\n",
      "====> 3\n",
      "We need to watch here comander !!\n",
      "====> 4\n",
      "-----Break Point-----\n",
      "c\n",
      "z\n",
      "====> 5\n",
      "We need to watch here comander !!\n",
      "====> 6\n"
     ]
    }
   ],
   "source": [
    "print(\"Length of the list is : \",len(list))\n",
    "for j in range(len(list)) :\n",
    "\n",
    "    print(\"====>\" , j)\n",
    "\n",
    "    if j < len(list) - 1:\n",
    "\n",
    "        if list[j] != list[j+1]:\n",
    "\n",
    "            print(\"-----Break Point-----\")\n",
    "            print(list[j])\n",
    "            print(list[j + 1])\n",
    "\n",
    "        else :\n",
    "                    \n",
    "            print(\"We need to watch here comander !!\")\n",
    "\n",
    "    else :\n",
    "\n",
    "        break"
   ]
  },
  {
   "cell_type": "markdown",
   "metadata": {},
   "source": [
    "As the question is asking for a `repeat limit` with it. We need to count the occurance of a particular element in the `list`, and if it exceeds the `repeat limit`, we need to do some `process` there. We dont know what process to do, but we know we need to do something. For this we will take `repeat limit` as `3` as given in the `example`.  "
   ]
  },
  {
   "cell_type": "code",
   "execution_count": 20,
   "metadata": {},
   "outputs": [
    {
     "name": "stdout",
     "output_type": "stream",
     "text": [
      "Length of the list is :  7\n",
      "====> 0\n",
      "-----Break Point-----\n",
      "a\n",
      "c\n",
      "====> 1\n",
      "We need to do something here fast major, we are running short of supplies :(\n",
      "We need to do something here fast major, we are running short of supplies :(\n",
      "We need to do something here fast major, we are running short of supplies :(\n",
      "====> 2\n",
      "We need to do something here fast major, we are running short of supplies :(\n",
      "We need to do something here fast major, we are running short of supplies :(\n",
      "We need to do something here fast major, we are running short of supplies :(\n",
      "====> 3\n",
      "We need to do something here fast major, we are running short of supplies :(\n",
      "We need to do something here fast major, we are running short of supplies :(\n",
      "We need to do something here fast major, we are running short of supplies :(\n",
      "====> 4\n",
      "-----Break Point-----\n",
      "c\n",
      "z\n",
      "====> 5\n",
      "We need to do something here fast major, we are running short of supplies :(\n",
      "We need to do something here fast major, we are running short of supplies :(\n",
      "We need to do something here fast major, we are running short of supplies :(\n",
      "====> 6\n"
     ]
    }
   ],
   "source": [
    "print(\"Length of the list is : \",len(list))\n",
    "\n",
    "for j in range(len(list)) :\n",
    "    \n",
    "    print(\"====>\" , j)\n",
    "    \n",
    "    if j < len(list) - 1:\n",
    "\n",
    "        if list[j] != list[j+1]:\n",
    "\n",
    "            print(\"-----Break Point-----\")\n",
    "            print(list[j])\n",
    "            print(list[j + 1])\n",
    "\n",
    "        else :\n",
    "\n",
    "            count = 0 \n",
    "\n",
    "            while count <= 3:\n",
    "\n",
    "                count = count + 1\n",
    "\n",
    "                if count <= 3 :\n",
    "\n",
    "                    print(\"We need to do something here fast major, we are running short of supplies :(\")\n",
    "    else :\n",
    "\n",
    "        break"
   ]
  },
  {
   "cell_type": "markdown",
   "metadata": {},
   "source": [
    "A reliable way we can addopt is to `pop` the `4th` consequtive element from the `list` and `append` it in the end "
   ]
  },
  {
   "cell_type": "code",
   "execution_count": 25,
   "metadata": {},
   "outputs": [
    {
     "name": "stdout",
     "output_type": "stream",
     "text": [
      "List before processing :  ['a', 'c', 'c', 'c', 'c', 'z', 'z']\n",
      "Length of the list is :  7\n",
      "====> 0\n",
      "-----Break Point-----\n",
      "a\n",
      "c\n",
      "====> 1\n",
      "====> 2\n",
      "====> 3\n",
      "-----Break Point-----\n",
      "c\n",
      "z\n",
      "====> 4\n",
      "====> 5\n",
      "-----Break Point-----\n",
      "z\n",
      "c\n",
      "====> 6\n",
      "List after procesing :  ['a', 'c', 'c', 'c', 'z', 'z', 'c']\n"
     ]
    }
   ],
   "source": [
    "list.sort()\n",
    "print(\"List before processing : \", list)\n",
    "\n",
    "\n",
    "print(\"Length of the list is : \",len(list))\n",
    "\n",
    "for j in range(len(list)) :\n",
    "    \n",
    "    print(\"====>\" , j)\n",
    "    \n",
    "    if j < len(list) - 1:\n",
    "\n",
    "        if list[j] != list[j+1]:\n",
    "\n",
    "            print(\"-----Break Point-----\")\n",
    "            print(list[j])\n",
    "            print(list[j + 1])\n",
    "\n",
    "        else :\n",
    "\n",
    "            count = 0 \n",
    "\n",
    "            while count <= 3:\n",
    "\n",
    "                count = count + 1\n",
    "\n",
    "                if count <= 3:\n",
    "\n",
    "                    list.append(list[j])\n",
    "                    list.remove(list[j])\n",
    "\n",
    "    else :\n",
    "\n",
    "        break\n",
    "\n",
    "print(\"List after procesing : \", list)"
   ]
  },
  {
   "cell_type": "markdown",
   "metadata": {},
   "source": [
    "Now lets remove useless print staements to make it good looking "
   ]
  },
  {
   "cell_type": "code",
   "execution_count": 26,
   "metadata": {},
   "outputs": [
    {
     "name": "stdout",
     "output_type": "stream",
     "text": [
      "List after procesing :  ['a', 'c', 'c', 'c', 'z', 'z', 'c']\n"
     ]
    }
   ],
   "source": [
    "list.sort()\n",
    "\n",
    "for j in range(len(list)) :\n",
    "        \n",
    "    if j < len(list) - 1:\n",
    "\n",
    "        if list[j] != list[j+1]:\n",
    "            \n",
    "            continue\n",
    "        \n",
    "        else :\n",
    "\n",
    "            count = 0 \n",
    "\n",
    "            while count <= 3:\n",
    "\n",
    "                count = count + 1\n",
    "\n",
    "                if count <= 3:\n",
    "\n",
    "                    list.append(list[j])\n",
    "                    list.remove(list[j])\n",
    "\n",
    "    else :\n",
    "\n",
    "        break\n",
    "\n",
    "print(\"List after procesing : \", list)"
   ]
  },
  {
   "cell_type": "markdown",
   "metadata": {},
   "source": [
    "Now lets do a \"Yayyyyyyyyyyyyyyyyyyyyyyyyyyyyyyyyy\""
   ]
  },
  {
   "cell_type": "markdown",
   "metadata": {},
   "source": [
    "#### Solution"
   ]
  },
  {
   "cell_type": "code",
   "execution_count": 27,
   "metadata": {},
   "outputs": [],
   "source": [
    "class Solution:\n",
    "    def repeatLimitedString(self, s: str, repeatLimit: int) -> str:\n",
    "\n",
    "        list = []\n",
    "        output = ''\n",
    "\n",
    "        for i in s:\n",
    "\n",
    "            list.append(i)\n",
    "\n",
    "        list.sort()\n",
    "\n",
    "        for j in range(len(list)) :\n",
    "\n",
    "            if j < len(list) - 1:\n",
    "\n",
    "                if list[j] != list[j+1]:\n",
    "\n",
    "                    continue\n",
    "\n",
    "                else :\n",
    "\n",
    "                    count = 0 \n",
    "\n",
    "                    while count <= repeatLimit:\n",
    "\n",
    "                        count = count + 1\n",
    "\n",
    "                        if count <= repeatLimit:\n",
    "\n",
    "                            list.append(list[j])\n",
    "                            list.remove(list[j])\n",
    "\n",
    "            else :\n",
    "\n",
    "                break\n",
    "\n",
    "\n",
    "        for element in list:\n",
    "            output += element"
   ]
  }
 ],
 "metadata": {
  "kernelspec": {
   "display_name": "Python 3.10.4 64-bit",
   "language": "python",
   "name": "python3"
  },
  "language_info": {
   "codemirror_mode": {
    "name": "ipython",
    "version": 3
   },
   "file_extension": ".py",
   "mimetype": "text/x-python",
   "name": "python",
   "nbconvert_exporter": "python",
   "pygments_lexer": "ipython3",
   "version": "3.10.4"
  },
  "orig_nbformat": 4,
  "vscode": {
   "interpreter": {
    "hash": "3ad933181bd8a04b432d3370b9dc3b0662ad032c4dfaa4e4f1596c548f763858"
   }
  }
 },
 "nbformat": 4,
 "nbformat_minor": 2
}
