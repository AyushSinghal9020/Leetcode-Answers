{
  "nbformat": 4,
  "nbformat_minor": 0,
  "metadata": {
    "colab": {
      "provenance": []
    },
    "kernelspec": {
      "name": "python3",
      "display_name": "Python 3"
    },
    "language_info": {
      "name": "python"
    }
  },
  "cells": [
    {
      "cell_type": "markdown",
      "source": [
        "# Question 29\n",
        "## Divide Two Integers\n",
        "### Problem Statement - \n",
        "\n",
        "Given two integers `dividend` and `divisor`, divide two integers **without** using multiplication, division, and mod operator.\n",
        "\n",
        "The integer division should truncate toward zero, which means losing its fractional part. For example, $8.345$ would be truncated to $8$, and $-2.7335$ would be truncated to $-2$.\n",
        "\n",
        "Return the **quotient** after dividing `dividend` by `divisor`.\n",
        "\n",
        "**Note**: Assume we are dealing with an environment that could only store integers within the **32-bit** signed integer range: $[−2^{31}, 2^{31} − 1]$. For this problem, if the quotient is **strictly greater than** $2^{31} - 1$, then return $2^{31} - 1$, and if the quotient is **strictly less than** $-2^{31}$, then return $-2^{31}$.\n",
        "\n",
        " \n",
        "### Examples\n",
        "#### Example 1\n",
        "\n",
        "**Input**: dividend = $10$, divisor = $3$\n",
        "**Outpu**t: $3$\n",
        "**Explanation**: $\\frac {10}{3}$ = $3.33333..$ which is truncated to 3.\n",
        "\n",
        "#### Example 2\n",
        "**Input**: dividend = $7$, divisor = $-3$\n",
        "**Output**: $-2$\n",
        "**Explanation**: $\\frac {7}{-3}$ = $-2.33333..$ which is truncated to $-2$.\n",
        "\n",
        "### Constraints\n",
        "* $-2^{31}$ <= dividend, divisor <= $2^{31} - 1$\n",
        "* divisor $!= 0$\n",
        " \n",
        "\n"
      ],
      "metadata": {
        "id": "L-tIiog30K6H"
      }
    },
    {
      "cell_type": "markdown",
      "source": [
        "As the question says ` For this problem, if the quotient is ...`, Notice the word `quotient` ?, So a lead is, there will be a varible quotient, that we will be returning as the output of some function "
      ],
      "metadata": {
        "id": "ZDGE9KGimZW-"
      }
    },
    {
      "cell_type": "code",
      "source": [
        "#quotient = This is some varible "
      ],
      "metadata": {
        "id": "WENwEGGumqWN"
      },
      "execution_count": 1,
      "outputs": []
    },
    {
      "cell_type": "markdown",
      "source": [
        "For dummy, lets take `dividend = 10` , `divisor = 3` and `output = 3`.\n",
        "\n",
        "The first intution we get is to, subtract the dividend with the divisor, till dividend is smaller than divisor, and while that loop is running, increment the `quotient` variable everytime."
      ],
      "metadata": {
        "id": "IMWutBCvmpiB"
      }
    },
    {
      "cell_type": "code",
      "source": [
        "dividend = 10\n",
        "divisor = 3\n",
        "quotient = 0\n",
        "while dividend > divisor:\n",
        "    dividend -= divisor\n",
        "    quotient += 1"
      ],
      "metadata": {
        "id": "nhHCB7WonTrM"
      },
      "execution_count": 2,
      "outputs": []
    },
    {
      "cell_type": "code",
      "source": [
        "quotient "
      ],
      "metadata": {
        "colab": {
          "base_uri": "https://localhost:8080/"
        },
        "id": "p9NnsOTtnisl",
        "outputId": "8da2e4b2-7ee7-4d2f-8f20-b1c582252104"
      },
      "execution_count": 3,
      "outputs": [
        {
          "output_type": "execute_result",
          "data": {
            "text/plain": [
              "3"
            ]
          },
          "metadata": {},
          "execution_count": 3
        }
      ]
    },
    {
      "cell_type": "markdown",
      "source": [
        "As we have got our first test case passes, lets first implement it into a function, abd then we will try other test cases "
      ],
      "metadata": {
        "id": "JFt7j8ibnx1l"
      }
    },
    {
      "cell_type": "code",
      "source": [
        "def divide(dividend : int , divisor : int) -> int:\n",
        "    quotient = 0\n",
        "    while dividend > divisor : \n",
        "        dividend -= divisor\n",
        "        quotient += 1\n",
        "    return quotient"
      ],
      "metadata": {
        "id": "HYkRtc10n8O0"
      },
      "execution_count": 4,
      "outputs": []
    },
    {
      "cell_type": "markdown",
      "source": [
        "Our second test case will be `dividend = 7` , `divisor = -3` and `output = -2`"
      ],
      "metadata": {
        "id": "CcuMbEeyoPQE"
      }
    },
    {
      "cell_type": "code",
      "source": [
        "# divide(7 , -3) # This will cause an infinite loop"
      ],
      "metadata": {
        "id": "NfEXF53JojX7"
      },
      "execution_count": 6,
      "outputs": []
    },
    {
      "cell_type": "markdown",
      "source": [
        "As of our code, this input will return an infinite condition. Lets generlize our code to handle this condition \n",
        "\n",
        "For this we just need to add a condtion and do a little bit different things for that "
      ],
      "metadata": {
        "id": "b0361-k0oqm0"
      }
    },
    {
      "cell_type": "code",
      "source": [
        "def divide(dividend : int , divisor : int) -> int:\n",
        "    quotient = 0\n",
        "    if divisor < 0 :\n",
        "        divisor = -divisor\n",
        "        while dividend > divisor : \n",
        "            dividend -= divisor\n",
        "            quotient -= 1\n",
        "        return quotient\n",
        "\n",
        "    else :\n",
        "        while dividend > divisor : \n",
        "            dividend -= divisor\n",
        "            quotient += 1\n",
        "        return quotient\n",
        " \n"
      ],
      "metadata": {
        "id": "5YgF7Trvo82r"
      },
      "execution_count": 12,
      "outputs": []
    },
    {
      "cell_type": "code",
      "source": [
        "divide(7 , -3)"
      ],
      "metadata": {
        "colab": {
          "base_uri": "https://localhost:8080/"
        },
        "id": "DL-n3dO8pRL0",
        "outputId": "56311734-82ce-4540-8bee-c80dc4f89afb"
      },
      "execution_count": 9,
      "outputs": [
        {
          "output_type": "execute_result",
          "data": {
            "text/plain": [
              "-2"
            ]
          },
          "metadata": {},
          "execution_count": 9
        }
      ]
    },
    {
      "cell_type": "markdown",
      "source": [
        "And we got the perfect answer "
      ],
      "metadata": {
        "id": "R-3eYw_BpWUT"
      }
    },
    {
      "cell_type": "markdown",
      "source": [
        "Our third test case will be `dividend = 1` , `divisor = 1` and `output = 1`\n",
        "\n"
      ],
      "metadata": {
        "id": "iZNuV2vbpQwu"
      }
    },
    {
      "cell_type": "code",
      "source": [
        "divide(1 , 1)"
      ],
      "metadata": {
        "colab": {
          "base_uri": "https://localhost:8080/"
        },
        "id": "dW6YON_Up79i",
        "outputId": "c8f38023-59d9-4e7e-eeef-bbd41f58be71"
      },
      "execution_count": 13,
      "outputs": [
        {
          "output_type": "execute_result",
          "data": {
            "text/plain": [
              "0"
            ]
          },
          "metadata": {},
          "execution_count": 13
        }
      ]
    },
    {
      "cell_type": "markdown",
      "source": [
        "That was a wrong output, lets generalize it more "
      ],
      "metadata": {
        "id": "6yua1ghQqDpq"
      }
    },
    {
      "cell_type": "markdown",
      "source": [
        "For this we just need to add another condition"
      ],
      "metadata": {
        "id": "qANicX64p6r2"
      }
    },
    {
      "cell_type": "code",
      "source": [
        "def divide(dividend : int , divisor : int) -> int:\n",
        "    quotient = 0\n",
        "    if dividend == divisor : \n",
        "        return 1\n",
        "    elif divisor < 0 :\n",
        "        divisor = -divisor\n",
        "        while dividend > divisor : \n",
        "            dividend -= divisor\n",
        "            quotient -= 1\n",
        "        return quotient\n",
        "\n",
        "    else :\n",
        "        while dividend > divisor : \n",
        "            dividend -= divisor\n",
        "            quotient += 1\n",
        "        return quotient\n",
        " \n"
      ],
      "metadata": {
        "id": "maBfIhPApw-L"
      },
      "execution_count": 14,
      "outputs": []
    },
    {
      "cell_type": "code",
      "source": [
        "divide(1 , 1)"
      ],
      "metadata": {
        "colab": {
          "base_uri": "https://localhost:8080/"
        },
        "id": "A76hljmBqLVC",
        "outputId": "0082f9fe-0009-4b30-9e31-47f15d718671"
      },
      "execution_count": 15,
      "outputs": [
        {
          "output_type": "execute_result",
          "data": {
            "text/plain": [
              "1"
            ]
          },
          "metadata": {},
          "execution_count": 15
        }
      ]
    },
    {
      "cell_type": "markdown",
      "source": [
        "Our fourth test case will be `dividend = -1` , `divisor = 1` and `output = -1`"
      ],
      "metadata": {
        "id": "l2sLZErAqMgi"
      }
    },
    {
      "cell_type": "code",
      "source": [
        "divide(-1 , 1)"
      ],
      "metadata": {
        "colab": {
          "base_uri": "https://localhost:8080/"
        },
        "id": "4r9XCVndqd0K",
        "outputId": "50f9d130-4fd5-45ae-d53c-1444a2d7653a"
      },
      "execution_count": 16,
      "outputs": [
        {
          "output_type": "execute_result",
          "data": {
            "text/plain": [
              "0"
            ]
          },
          "metadata": {},
          "execution_count": 16
        }
      ]
    },
    {
      "cell_type": "code",
      "source": [],
      "metadata": {
        "id": "zfOX62bMqt7N"
      },
      "execution_count": null,
      "outputs": []
    },
    {
      "cell_type": "markdown",
      "source": [
        "That was a wrong output, we need to make it more generlize \n",
        "\n",
        "We just need to add one more if condition here "
      ],
      "metadata": {
        "id": "rtvVaWuNqg7q"
      }
    },
    {
      "cell_type": "code",
      "source": [
        "def divide(dividend : int , divisor : int) -> int:\n",
        "    quotient = 0\n",
        "    if dividend == divisor : \n",
        "        return 1\n",
        "    if dividend == -divisor :\n",
        "        return -1\n",
        "    elif divisor < 0 :\n",
        "        divisor = -divisor\n",
        "        while dividend > divisor : \n",
        "            dividend -= divisor\n",
        "            quotient -= 1\n",
        "        return quotient\n",
        "\n",
        "    else :\n",
        "        while dividend > divisor : \n",
        "            dividend -= divisor\n",
        "            quotient += 1\n",
        "        return quotient"
      ],
      "metadata": {
        "id": "eEHmJk-vqxU_"
      },
      "execution_count": 18,
      "outputs": []
    },
    {
      "cell_type": "code",
      "source": [
        "divide(-1 , 1)"
      ],
      "metadata": {
        "colab": {
          "base_uri": "https://localhost:8080/"
        },
        "id": "j8lJ-lsJrAub",
        "outputId": "10d39b71-ab5d-40f9-d11b-bd4f70a62607"
      },
      "execution_count": 19,
      "outputs": [
        {
          "output_type": "execute_result",
          "data": {
            "text/plain": [
              "-1"
            ]
          },
          "metadata": {},
          "execution_count": 19
        }
      ]
    },
    {
      "cell_type": "markdown",
      "source": [
        "Now we will add the ranges given by the question as the final touches "
      ],
      "metadata": {
        "id": "qiDH0P_nrMAr"
      }
    },
    {
      "cell_type": "code",
      "source": [
        "def divide(dividend : int , divisor : int) -> int:\n",
        "    quotient = 0\n",
        "    if dividend == divisor : \n",
        "        return 1\n",
        "    if dividend == -divisor :\n",
        "        return -1\n",
        "    elif divisor < 0 :\n",
        "        divisor = -divisor\n",
        "        while dividend > divisor : \n",
        "            dividend -= divisor\n",
        "            quotient -= 1\n",
        "        return quotient\n",
        "\n",
        "    else :\n",
        "        while dividend > divisor : \n",
        "            dividend -= divisor\n",
        "            quotient += 1\n",
        "        return quotient"
      ],
      "metadata": {
        "id": "eJQCUQ3grTPa"
      },
      "execution_count": null,
      "outputs": []
    },
    {
      "cell_type": "markdown",
      "source": [
        "Now lets beautigy our code a little bit as the final touches "
      ],
      "metadata": {
        "id": "-BrdxE9HrjEA"
      }
    },
    {
      "cell_type": "code",
      "source": [
        "class Solution:\n",
        "    \n",
        "    def divide(dividend : int , divisor : int) -> int:\n",
        "    \n",
        "        quotient = 0\n",
        "    \n",
        "        if dividend == divisor : \n",
        "    \n",
        "            return 1\n",
        "    \n",
        "        if dividend == -divisor :\n",
        "    \n",
        "            return -1\n",
        "    \n",
        "        elif divisor < 0 :\n",
        "    \n",
        "            divisor = -divisor\n",
        "    \n",
        "            while dividend > divisor : \n",
        "    \n",
        "                dividend -= divisor\n",
        "                quotient -= 1\n",
        "    \n",
        "            return quotient\n",
        "\n",
        "        else :\n",
        "    \n",
        "            while dividend > divisor : \n",
        "    \n",
        "                dividend -= divisor\n",
        "                quotient += 1\n",
        "    \n",
        "            return quotient"
      ],
      "metadata": {
        "id": "1f3ACkI8rpeD"
      },
      "execution_count": 20,
      "outputs": []
    },
    {
      "cell_type": "markdown",
      "source": [
        "Note - There are several outputs we have ignored, which were vulenerable to out program, as they were considerend useless, and were just diverting the core intution behind the question "
      ],
      "metadata": {
        "id": "JWfd4Wn4sJ6z"
      }
    }
  ]
}