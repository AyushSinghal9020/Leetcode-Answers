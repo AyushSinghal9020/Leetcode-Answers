{
 "cells": [
  {
   "cell_type": "markdown",
   "id": "607ffd6c",
   "metadata": {},
   "source": [
    "# Question 2180"
   ]
  },
  {
   "cell_type": "markdown",
   "id": "dd9feec6",
   "metadata": {},
   "source": [
    "## Count Integers With Even Digit Sum"
   ]
  },
  {
   "cell_type": "markdown",
   "id": "02e106e6",
   "metadata": {},
   "source": [
    "## Problem Statement :-"
   ]
  },
  {
   "cell_type": "markdown",
   "id": "3c50e143",
   "metadata": {},
   "source": [
    "    Given a positive integer num, return the number of positive integers less than or equal to num whose digit sums are even"
   ]
  },
  {
   "cell_type": "markdown",
   "id": "41091f88",
   "metadata": {},
   "source": [
    "### Examples"
   ]
  },
  {
   "cell_type": "markdown",
   "id": "56579b2a",
   "metadata": {},
   "source": [
    "### Example 1"
   ]
  },
  {
   "cell_type": "markdown",
   "id": "64eadeca",
   "metadata": {},
   "source": [
    "### Example : "
   ]
  },
  {
   "cell_type": "markdown",
   "id": "77656a1f",
   "metadata": {},
   "source": [
    "    Input : num = 4\n",
    "    Output : 2"
   ]
  },
  {
   "cell_type": "markdown",
   "id": "5077ca73",
   "metadata": {},
   "source": [
    "### Explanation :"
   ]
  },
  {
   "cell_type": "markdown",
   "id": "6f971045",
   "metadata": {},
   "source": [
    "    The only integers less than or equal to 4 whose digit sums are even are 2 and 4."
   ]
  },
  {
   "cell_type": "markdown",
   "id": "f63ad8b1",
   "metadata": {},
   "source": [
    "### Example 2"
   ]
  },
  {
   "cell_type": "markdown",
   "id": "731f10b9",
   "metadata": {},
   "source": [
    "### Example : "
   ]
  },
  {
   "cell_type": "markdown",
   "id": "7b5657c0",
   "metadata": {},
   "source": [
    "    Input: num = 30\n",
    "    Output: 14"
   ]
  },
  {
   "cell_type": "markdown",
   "id": "323fbaa5",
   "metadata": {},
   "source": [
    "### Expalnation : "
   ]
  },
  {
   "cell_type": "markdown",
   "id": "66afa7c5",
   "metadata": {},
   "source": [
    "    The 14 integers less than or equal to 30 whose digit sums are even are\n",
    "    2, 4, 6, 8, 11, 13, 15, 17, 19, 20, 22, 24, 26, and 28."
   ]
  },
  {
   "cell_type": "markdown",
   "id": "9f17dc8e",
   "metadata": {},
   "source": [
    "## Solution "
   ]
  },
  {
   "cell_type": "code",
   "execution_count": 1,
   "id": "f23121e1",
   "metadata": {},
   "outputs": [],
   "source": [
    "class Solution:\n",
    "    def countEven(self, num: int) -> int:\n",
    "        count = 0\n",
    "        for i in range (num+1):\n",
    "            list = []\n",
    "            k = 0\n",
    "            for j in str(i):\n",
    "                list.append(j)\n",
    "            for l in list:\n",
    "                k = k + int(l)\n",
    "            if k % 2 == 0:       \n",
    "                count = count + 1\n",
    "        return count\n"
   ]
  },
  {
   "cell_type": "code",
   "execution_count": null,
   "id": "3f52ed8b",
   "metadata": {},
   "outputs": [],
   "source": []
  }
 ],
 "metadata": {
  "kernelspec": {
   "display_name": "Python 3 (ipykernel)",
   "language": "python",
   "name": "python3"
  },
  "language_info": {
   "codemirror_mode": {
    "name": "ipython",
    "version": 3
   },
   "file_extension": ".py",
   "mimetype": "text/x-python",
   "name": "python",
   "nbconvert_exporter": "python",
   "pygments_lexer": "ipython3",
   "version": "3.10.5"
  }
 },
 "nbformat": 4,
 "nbformat_minor": 5
}
