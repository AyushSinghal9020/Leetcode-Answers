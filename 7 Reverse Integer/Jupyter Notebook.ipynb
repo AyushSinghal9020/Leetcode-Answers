{
  "nbformat": 4,
  "nbformat_minor": 0,
  "metadata": {
    "colab": {
      "provenance": []
    },
    "kernelspec": {
      "name": "python3",
      "display_name": "Python 3"
    },
    "language_info": {
      "name": "python"
    }
  },
  "cells": [
    {
      "cell_type": "markdown",
      "source": [
        "# Question 7\n",
        "## 7. Reverse Integer\n",
        "## Problem Statement :-\n",
        "\n",
        "Given a signed 32-bit integer `x`, return `x` with its digits reversed. If reversing `x` causes the value to go outside the signed 32-bit integer range `[-231, 231 - 1]`, then return `0`.\n",
        "\n",
        "Assume the environment does not allow you to store `64-bit integers` (signed or unsigned).\n",
        "\n",
        "## Examples\n",
        "\n",
        "### Example 1:\n",
        "#### Exmaple\n",
        "Input: `x = 123`\n",
        "\n",
        "Output: `321`\n",
        "### Example 2:\n",
        "#### Example\n",
        "Input: `x = -123`\n",
        "\n",
        "Output: `-321`\n",
        "### Exmaple 3:\n",
        "#### Exmaple\n",
        "Input: `x = 120`\n",
        "\n",
        "Output: `21`\n",
        "\n",
        "# Constraints:\n",
        "* `-231 <= x <= 231 - 1`"
      ],
      "metadata": {
        "id": "J70pctU_caSC"
      }
    },
    {
      "cell_type": "code",
      "source": [
        "from google.colab import drive\n",
        "drive.mount('/content/drive')"
      ],
      "metadata": {
        "id": "uDHuGeOnko_i"
      },
      "execution_count": null,
      "outputs": []
    },
    {
      "cell_type": "markdown",
      "source": [
        "Lets assume we get a integer like `123`. Now we will chnage this into a `list`\n",
        "\n",
        "---\n",
        "\n"
      ],
      "metadata": {
        "id": "RdRFseK2eg2J"
      }
    },
    {
      "cell_type": "code",
      "source": [
        "x = 123\n",
        "y = list(str(x))\n",
        "y"
      ],
      "metadata": {
        "colab": {
          "base_uri": "https://localhost:8080/"
        },
        "id": "Rz42GW4gcSRQ",
        "outputId": "369dea93-8c1c-4ce2-b304-4072de1c7d4c"
      },
      "execution_count": 94,
      "outputs": [
        {
          "output_type": "execute_result",
          "data": {
            "text/plain": [
              "['1', '2', '3']"
            ]
          },
          "metadata": {},
          "execution_count": 94
        }
      ]
    },
    {
      "cell_type": "markdown",
      "source": [
        "Now as we have list, we will rotate it. Python currently do not have the proper inbuilt function to rotate the list. So we will do it by ourselves"
      ],
      "metadata": {
        "id": "SFKJDix-e4zh"
      }
    },
    {
      "cell_type": "code",
      "source": [
        "z = []\n",
        "for i in range(1 , len(y) + 1):\n",
        "    z.append(y[-i])\n",
        "z"
      ],
      "metadata": {
        "colab": {
          "base_uri": "https://localhost:8080/"
        },
        "id": "Gw7F1QLxe3bY",
        "outputId": "3ef28ce8-cf03-4491-913a-7e72fba9ab1b"
      },
      "execution_count": 95,
      "outputs": [
        {
          "output_type": "execute_result",
          "data": {
            "text/plain": [
              "['3', '2', '1']"
            ]
          },
          "metadata": {},
          "execution_count": 95
        }
      ]
    },
    {
      "cell_type": "markdown",
      "source": [
        "Now we will convert this into a `string` and then into the `integer`"
      ],
      "metadata": {
        "id": "OHDtMlJhf8wL"
      }
    },
    {
      "cell_type": "code",
      "source": [
        "sample_str = \"\"\n",
        "z = int(sample_str.join(z)) \n",
        "z"
      ],
      "metadata": {
        "colab": {
          "base_uri": "https://localhost:8080/"
        },
        "id": "yKeZWdQRfw4R",
        "outputId": "539cc1bb-ceaf-4c52-8149-335fe6400c27"
      },
      "execution_count": 96,
      "outputs": [
        {
          "output_type": "execute_result",
          "data": {
            "text/plain": [
              "321"
            ]
          },
          "metadata": {},
          "execution_count": 96
        }
      ]
    },
    {
      "cell_type": "markdown",
      "source": [
        "Now if we check the data type of this value, it will be integer"
      ],
      "metadata": {
        "id": "2rcgDDWFg3Fx"
      }
    },
    {
      "cell_type": "code",
      "source": [
        "type(z)"
      ],
      "metadata": {
        "colab": {
          "base_uri": "https://localhost:8080/"
        },
        "id": "pNeQFubDgryj",
        "outputId": "02dea16d-2f1c-4840-b4d0-8fdbc5bec7bf"
      },
      "execution_count": 97,
      "outputs": [
        {
          "output_type": "execute_result",
          "data": {
            "text/plain": [
              "int"
            ]
          },
          "metadata": {},
          "execution_count": 97
        }
      ]
    },
    {
      "cell_type": "markdown",
      "source": [
        "So now our solution will look like "
      ],
      "metadata": {
        "id": "1map4yv-hoeH"
      }
    },
    {
      "cell_type": "code",
      "source": [
        "x = 123\n",
        "y = list(str(x))\n",
        "z = []\n",
        "for i in range(1 , len(y) + 1):\n",
        "    z.append(y[-i])\n",
        "sample_str = \"\"\n",
        "z = int(sample_str.join(z)) "
      ],
      "metadata": {
        "id": "4sLmzn7zht3R"
      },
      "execution_count": 98,
      "outputs": []
    },
    {
      "cell_type": "markdown",
      "source": [
        "But there is a case scenario, if the number is having 0 in the right side. Lets assume we have a input of `120`\n",
        "Then the expected output will be `021` but pyton do not accept data like this, So we need to convert this in such a way that is becomes `21`. We can do this if we remove `0s` from the list."
      ],
      "metadata": {
        "id": "171oiYMWhBnY"
      }
    },
    {
      "cell_type": "code",
      "source": [
        "while 0 in z:\n",
        "    z = z.remove(0)"
      ],
      "metadata": {
        "id": "knFcCF2wg9he"
      },
      "execution_count": null,
      "outputs": []
    },
    {
      "cell_type": "markdown",
      "source": [
        "Now our solution has covered one edge case, and looks like this "
      ],
      "metadata": {
        "id": "aQUvXt05iW93"
      }
    },
    {
      "cell_type": "code",
      "source": [
        "x = 123\n",
        "y = list(str(x))\n",
        "z = []\n",
        "for i in range(1 , len(y) + 1):\n",
        "    z.append(y[-i])\n",
        "while 0 in z:\n",
        "    z = z.remove(0)\n",
        "sample_str = \"\"\n",
        "z = int(sample_str.join(z)) "
      ],
      "metadata": {
        "id": "AtaSCuKaicwz"
      },
      "execution_count": null,
      "outputs": []
    },
    {
      "cell_type": "markdown",
      "source": [
        "But there is also one case, if the number is negative. We can convert the str to list with negative but we cannot convert a negative number in list to integer"
      ],
      "metadata": {
        "id": "9Dj3hJftikEm"
      }
    },
    {
      "cell_type": "code",
      "source": [
        "if z[-1] == \"-\":\n",
        "    z.pop(-1)\n",
        "    sample_str = \"\"\n",
        "    z = int(sample_str.join(z))\n",
        "    z = -z\n",
        "else:\n",
        "    sample_str = \"\"\n",
        "    z = int(sample_str.join(z))"
      ],
      "metadata": {
        "id": "DkV3E-cti9iR"
      },
      "execution_count": null,
      "outputs": []
    },
    {
      "cell_type": "markdown",
      "source": [
        "So now our output should be like this "
      ],
      "metadata": {
        "id": "1PkCekJijW8G"
      }
    },
    {
      "cell_type": "code",
      "source": [
        "y = list(str(x))\n",
        "z = []\n",
        "\n",
        "for i in range(1 , len(y) + 1):\n",
        "\n",
        "    z.append(y[-i])\n",
        "\n",
        "while 0 in z:\n",
        "\n",
        "    z = z.remove(0)\n",
        "\n",
        "if z[-1] == \"-\":\n",
        "\n",
        "    z.pop(-1)\n",
        "    str1 = \"\"\n",
        "    z = int(str1.join(z))\n",
        "    z = -z\n",
        "\n",
        "else:\n",
        "\n",
        "    str1 = \"\"\n",
        "    z = int(str1.join(z))"
      ],
      "metadata": {
        "id": "cCZO6FuZjbda"
      },
      "execution_count": null,
      "outputs": []
    },
    {
      "cell_type": "markdown",
      "source": [
        "But we have not taken care of the `32bit` integer format. We will return 0 if the value exceeds"
      ],
      "metadata": {
        "id": "ImItPeZbjm_G"
      }
    },
    {
      "cell_type": "code",
      "source": [
        "if x >= 2**31 or (-x) <= -(2**31):\n",
        "    print(0)\n",
        "else : \n",
        "    y = list(str(x))\n",
        "    z = []\n",
        "\n",
        "    for i in range(1 , len(y) + 1):\n",
        "\n",
        "        z.append(y[-i])\n",
        "\n",
        "    while 0 in z:\n",
        "\n",
        "        z = z.remove(0)\n",
        "\n",
        "    if z[-1] == \"-\":\n",
        "\n",
        "        z.pop(-1)\n",
        "        str1 = \"\"\n",
        "        z = int(str1.join(z))\n",
        "        z = -z\n",
        "\n",
        "    else:\n",
        "\n",
        "        str1 = \"\"\n",
        "        z = int(str1.join(z))"
      ],
      "metadata": {
        "id": "zHCVNuaIj5cw"
      },
      "execution_count": null,
      "outputs": []
    },
    {
      "cell_type": "markdown",
      "source": [
        "So now the actual answer will be like this "
      ],
      "metadata": {
        "id": "pi_V36YBkHhu"
      }
    },
    {
      "cell_type": "code",
      "source": [
        "class Solution:\n",
        "    def reverse(self, x: int) -> int:\n",
        "        if x >= 2**31 or (-x) <= -(2**31):\n",
        "            return 0\n",
        "        else : \n",
        "            y = list(str(x))\n",
        "            z = []\n",
        "\n",
        "            for i in range(1 , len(y) + 1):\n",
        "\n",
        "                z.append(y[-i])\n",
        "\n",
        "            while 0 in z:\n",
        "\n",
        "                z = z.remove(0)\n",
        "\n",
        "            if z[-1] == \"-\":\n",
        "\n",
        "                z.pop(-1)\n",
        "                str1 = \"\"\n",
        "                z = int(str1.join(z))\n",
        "                z = -z\n",
        "\n",
        "            else:\n",
        "\n",
        "                str1 = \"\"\n",
        "                z = int(str1.join(z))\n",
        "        \n",
        "            return z"
      ],
      "metadata": {
        "id": "bM55o1VJkK1H"
      },
      "execution_count": null,
      "outputs": []
    }
  ]
}