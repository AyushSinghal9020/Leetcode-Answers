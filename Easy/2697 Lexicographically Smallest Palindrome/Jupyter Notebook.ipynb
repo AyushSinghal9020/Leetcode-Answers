{
  "cells": [
    {
      "cell_type": "markdown",
      "metadata": {
        "id": "ri8o0UB1P7Fc"
      },
      "source": [
        "# Question 2697\n",
        "****\n",
        "## Lexicographically Smallest Palindrome\n",
        "****\n",
        "### Problem Statement - \n",
        "\n",
        "You are given a string `s` consisting of **lowercase English letters**, and you are allowed to perform operations on it. In one operation, you can **replace** a character in `s` with another lowercase English letter.\n",
        "\n",
        "Your task is to make `s` a **palindrome** with the **minimum number of operations** possible. If there are **multiple palindromes** that can be made using the **minimum** number of operations, make the **lexicographically smallest** one.\n",
        "\n",
        "A string `a` is lexicographically smaller than a string `b` (of the same length) if in the first position where `a` and `b` differ, string a has a letter that appears earlier in the alphabet than the corresponding letter in `b`.\n",
        "\n",
        "*Return the resulting palindrome string*.\n",
        "****\n",
        "### Examples\n",
        "```\n",
        "Input: s = \"egcfe\"\n",
        "\n",
        "Output: \"efcfe\"\n",
        "\n",
        "Explanation: The minimum number of operations to make \"egcfe\" a palindrome is 1, and the lexicographically smallest palindrome string we can get by modifying one character is \"efcfe\", by changing 'g'.\n",
        "```\n",
        "```\n",
        "Input: s = \"abcd\"\n",
        "\n",
        "Output: \"abba\"\n",
        "\n",
        "Explanation: The minimum number of operations to make \"abcd\" a palindrome is 2, and the lexicographically smallest palindrome string we can get by modifying two characters is \"abba\".\n",
        "```\n",
        "```\n",
        "Input: s = \"seven\"\n",
        "\n",
        "Output: \"neven\"\n",
        "\n",
        "Explanation: The minimum number of operations to make \"seven\" a palindrome is 1, and the lexicographically smallest palindrome string we can get by modifying one character is \"neven\".\n",
        "```\n",
        "****\n",
        "### Constraints\n",
        "```\n",
        "1 <= s.length <= 1000\n",
        "\n",
        "s consists of only lowercase \n",
        "English letters.\n",
        "```\n",
        "\n",
        "\n"
      ]
    },
    {
      "cell_type": "markdown",
      "metadata": {
        "id": "QoBHVz0KQgUX"
      },
      "source": [
        "Lets assume we have dummy sample  like this "
      ]
    },
    {
      "cell_type": "code",
      "source": [
        "s = \"egcfe\""
      ],
      "metadata": {
        "id": "5Ly-cJ5NLRYx"
      },
      "execution_count": 1,
      "outputs": []
    },
    {
      "cell_type": "markdown",
      "source": [
        "A first thought might be, to `replace` the `first letters` with the `last letters` but `reversed`. This would work for characters having `even` length, but not be suitable for `odd` ones. Lets first go for the `odd` ones only. \n",
        "\n",
        "The palindorme for this will be `efcfe`\n",
        "\n",
        "A plaindrome will be something that would be same on both the sides, if seen from `middle` \n",
        "\n",
        "Lets first reach the middle one "
      ],
      "metadata": {
        "id": "s6cqJMlLMHj1"
      }
    },
    {
      "cell_type": "code",
      "source": [
        "s[len(s)//2]"
      ],
      "metadata": {
        "id": "_m472SGKMG6N",
        "colab": {
          "base_uri": "https://localhost:8080/",
          "height": 35
        },
        "outputId": "aaca6ea6-2241-4c2f-996e-1bf8263570b8"
      },
      "execution_count": 2,
      "outputs": [
        {
          "output_type": "execute_result",
          "data": {
            "text/plain": [
              "'c'"
            ],
            "application/vnd.google.colaboratory.intrinsic+json": {
              "type": "string"
            }
          },
          "metadata": {},
          "execution_count": 2
        }
      ]
    },
    {
      "cell_type": "markdown",
      "source": [
        "lets not get the letters after this "
      ],
      "metadata": {
        "id": "xCA-Y_ZP3NGk"
      }
    },
    {
      "cell_type": "code",
      "source": [
        "s[len(s)//2 + 1:]"
      ],
      "metadata": {
        "colab": {
          "base_uri": "https://localhost:8080/",
          "height": 35
        },
        "id": "eEnOKzf63UI7",
        "outputId": "2ed307d3-636a-4277-df13-43647dba17bd"
      },
      "execution_count": 5,
      "outputs": [
        {
          "output_type": "execute_result",
          "data": {
            "text/plain": [
              "'fe'"
            ],
            "application/vnd.google.colaboratory.intrinsic+json": {
              "type": "string"
            }
          },
          "metadata": {},
          "execution_count": 5
        }
      ]
    },
    {
      "cell_type": "markdown",
      "source": [
        "Now we just need to reverse this "
      ],
      "metadata": {
        "id": "UQ0j3m7W3WIj"
      }
    },
    {
      "cell_type": "code",
      "source": [
        "s[len(s)//2 + 1:][::-1]"
      ],
      "metadata": {
        "colab": {
          "base_uri": "https://localhost:8080/",
          "height": 35
        },
        "id": "rh13BL2n3Z67",
        "outputId": "c1410b40-bb34-4aaa-81bf-630f1d1ed3ee"
      },
      "execution_count": 6,
      "outputs": [
        {
          "output_type": "execute_result",
          "data": {
            "text/plain": [
              "'ef'"
            ],
            "application/vnd.google.colaboratory.intrinsic+json": {
              "type": "string"
            }
          },
          "metadata": {},
          "execution_count": 6
        }
      ]
    },
    {
      "cell_type": "markdown",
      "source": [
        "Now we just need to add all of this in $1$ `str`"
      ],
      "metadata": {
        "id": "Wog1l-4R3t1D"
      }
    },
    {
      "cell_type": "code",
      "source": [
        "s[len(s)//2 + 1:][::-1] + s[len(s)//2] + s[len(s)//2 + 1:]"
      ],
      "metadata": {
        "colab": {
          "base_uri": "https://localhost:8080/",
          "height": 35
        },
        "id": "gNaBgsBH3zPz",
        "outputId": "b1dbbf7b-9c3c-4e95-8a0a-4d529d8e093e"
      },
      "execution_count": 7,
      "outputs": [
        {
          "output_type": "execute_result",
          "data": {
            "text/plain": [
              "'efcfe'"
            ],
            "application/vnd.google.colaboratory.intrinsic+json": {
              "type": "string"
            }
          },
          "metadata": {},
          "execution_count": 7
        }
      ]
    },
    {
      "cell_type": "markdown",
      "source": [
        "But this will show error for `even` len `str`, like this \n",
        "```\n",
        "\"abcd\"\n",
        "```"
      ],
      "metadata": {
        "id": "C1wM4hE0MQtJ"
      }
    },
    {
      "cell_type": "code",
      "source": [
        "s = \"abcd\"\n",
        "s[len(s)//2 + 1:][::-1] + s[len(s)//2] + s[len(s)//2 + 1:]"
      ],
      "metadata": {
        "colab": {
          "base_uri": "https://localhost:8080/",
          "height": 35
        },
        "id": "VMfYBHgZ4Yy1",
        "outputId": "4f4772ac-b862-424d-e062-1a115628f630"
      },
      "execution_count": 8,
      "outputs": [
        {
          "output_type": "execute_result",
          "data": {
            "text/plain": [
              "'dcd'"
            ],
            "application/vnd.google.colaboratory.intrinsic+json": {
              "type": "string"
            }
          },
          "metadata": {},
          "execution_count": 8
        }
      ]
    },
    {
      "cell_type": "markdown",
      "source": [
        "But the expected output should be `abba`, which is correct \n",
        "\n",
        "One way is to check if the list is `even or odd` at the first place "
      ],
      "metadata": {
        "id": "Yak7Dqeo4cuK"
      }
    },
    {
      "cell_type": "code",
      "source": [
        "if len(s) % 2 == 0:pass\n",
        "else:\n",
        "    s = s[len(s)//2 + 1:][::-1] + s[len(s)//2] + s[len(s)//2 + 1:]"
      ],
      "metadata": {
        "id": "ByhrUVVtMXXy"
      },
      "execution_count": 9,
      "outputs": []
    },
    {
      "cell_type": "markdown",
      "source": [
        "now for the `even` we just need to remove the centre one "
      ],
      "metadata": {
        "id": "RQcxJHDZMaTp"
      }
    },
    {
      "cell_type": "code",
      "source": [
        "if len(s) % 2 == 0:\n",
        "    s = s[:len(s) // 2] + s[:len(s) // 2][::-1]\n",
        "else:\n",
        "    s = s[len(s) // 2 + 1:][::-1] + s[len(s) // 2] + s[len(s) // 2 + 1:]"
      ],
      "metadata": {
        "id": "smrSZaN75IOr"
      },
      "execution_count": 14,
      "outputs": []
    },
    {
      "cell_type": "markdown",
      "source": [
        "But this will show error for \n",
        "```\n",
        "\"gc\"\n",
        "```\n",
        "\n",
        "A simple solution would be just like this "
      ],
      "metadata": {
        "id": "2wXlxmgS5uaC"
      }
    },
    {
      "cell_type": "code",
      "source": [
        "if len(s) % 2 == 0:\n",
        "    if len(s) == 2:\n",
        "        s = min(s) * 2\n",
        "    else:\n",
        "        s = s[:len(s) // 2] + s[:len(s) // 2][::-1]\n",
        "else:\n",
        "    s = s[len(s) // 2 + 1:][::-1] + s[len(s) // 2] + s[len(s) // 2 + 1:]"
      ],
      "metadata": {
        "id": "3FUTKzry7hG0"
      },
      "execution_count": null,
      "outputs": []
    },
    {
      "cell_type": "markdown",
      "source": [
        "But this will show error for \n",
        "```\n",
        "\"amb\"\n",
        "```\n",
        "where the actual output should be `ama`, but this code will give `bmb`. Till now we were actually finding the `palindrome`, not the `smallest palindrome`. For this we can make $2$ palindormes each time and compare the first letter of the `palindorme`"
      ],
      "metadata": {
        "id": "7pBDnorX76Lf"
      }
    },
    {
      "cell_type": "code",
      "source": [
        "if len(s)%2 == 0:\n",
        "    if len(s) == 2:s = min(s) * 2\n",
        "    else:\n",
        "        l = s[:int(len(s)/2)] + s[:int(len(s)/2)][::-1]\n",
        "        k = s[:int(len(s)/2)][::-1] + s[:int(len(s)/2)]\n",
        "        if k[0] < l[0]:s = k\n",
        "        else:s = l \n",
        "else:\n",
        "    l = s[(len(s)//2) + 1:][::-1] + s[len(s)//2] + s[(len(s) // 2 + 1):]\n",
        "    k = s[:(len(s)//2)] + s[len(s)//2] + s[:len(s) // 2][::-1]\n",
        "    if k[0] < l[0]:s = k\n",
        "    else:s = l"
      ],
      "metadata": {
        "id": "KW9cD3Q69kjV"
      },
      "execution_count": null,
      "outputs": []
    },
    {
      "cell_type": "markdown",
      "source": [
        "Now we just need to make a class for this "
      ],
      "metadata": {
        "id": "u69s2X4Z9zLn"
      }
    },
    {
      "cell_type": "code",
      "source": [
        "class Solution:\n",
        "    \n",
        "    def makeSmallestPalindrome(self, s: str) -> str:\n",
        "        \n",
        "        if len(s)%2 == 0:\n",
        "            \n",
        "            if len(s) == 2:\n",
        "                \n",
        "                s = min(s) * 2\n",
        "            \n",
        "            else:\n",
        "                \n",
        "                l = s[:int(len(s)/2)] + s[:int(len(s)/2)][::-1]\n",
        "                k = s[:int(len(s)/2)][::-1] + s[:int(len(s)/2)]\n",
        "                \n",
        "                if k[0] < l[0]:\n",
        "                    \n",
        "                    s = k\n",
        "                \n",
        "                else:\n",
        "                    \n",
        "                    s = l \n",
        "        \n",
        "        else:\n",
        "            \n",
        "            l = s[(len(s)//2) + 1:][::-1] + s[len(s)//2] + s[(len(s) // 2 + 1):]\n",
        "            k = s[:(len(s)//2)] + s[len(s)//2] + s[:len(s) // 2][::-1]\n",
        "            \n",
        "            if k[0] < l[0]:\n",
        "                \n",
        "                s = k\n",
        "            \n",
        "            else:\n",
        "                \n",
        "                s = l\n",
        "\n",
        "        return s"
      ],
      "metadata": {
        "id": "ePl7sB4RgMqU"
      },
      "execution_count": null,
      "outputs": []
    }
  ],
  "metadata": {
    "colab": {
      "provenance": []
    },
    "kernelspec": {
      "display_name": "Python 3",
      "name": "python3"
    },
    "language_info": {
      "name": "python"
    }
  },
  "nbformat": 4,
  "nbformat_minor": 0
}
