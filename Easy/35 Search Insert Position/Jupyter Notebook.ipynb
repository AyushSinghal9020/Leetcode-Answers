{
  "nbformat": 4,
  "nbformat_minor": 0,
  "metadata": {
    "colab": {
      "provenance": []
    },
    "kernelspec": {
      "name": "python3",
      "display_name": "Python 3"
    },
    "language_info": {
      "name": "python"
    }
  },
  "cells": [
    {
      "cell_type": "markdown",
      "source": [
        "# Question 35\n",
        "## Search Insert Position\n",
        "### Problem Statement - \n",
        "\n",
        "Given a sorted array of distinct integers and a target value, return the index if the target is found. If not, return the index where it would be if it were inserted in order.\n",
        "\n",
        "You must write an algorithm with `O(log n)` runtime complexity.\n",
        " \n",
        "### Examples\n",
        "#### Example 1\n",
        "\n",
        "**Input**: nums = [1,3,5,6], target = 5\n",
        "\n",
        "**Output**: 2\n",
        "#### Example 2\n",
        "\n",
        "**Input**: nums = [1,3,5,6], target = 2\n",
        "\n",
        "**Output**: 1\n",
        "\n",
        "#### Example 2\n",
        "\n",
        "**Input**: nums = [1,3,5,6], target = 7\n",
        "\n",
        "**Output**: 4\n",
        "\n",
        "### Constraints\n",
        "\n",
        "* `1 <= nums.length <= 104`\n",
        "* `-10^4 <= nums[i] <= 104`\n",
        "* `nums` contains **distinct** values sorted in **ascending** order.\n",
        "* `-10^ <= target <= 104`"
      ],
      "metadata": {
        "id": "L-tIiog30K6H"
      }
    },
    {
      "cell_type": "markdown",
      "source": [
        "For a dummy lets consider the first example `nums = [1,3,5,6], target = 5`\n",
        "\n",
        "\n",
        "\n",
        "\n"
      ],
      "metadata": {
        "id": "cjKWseZq5-Au"
      }
    },
    {
      "cell_type": "code",
      "source": [
        "nums = [1,3,5,6]\n",
        "target = 5"
      ],
      "metadata": {
        "id": "rjELu7Vo6M_7"
      },
      "execution_count": 3,
      "outputs": []
    },
    {
      "cell_type": "markdown",
      "source": [
        "We need to first check if the element exist in the list or not "
      ],
      "metadata": {
        "id": "9zShaPBZ6dz0"
      }
    },
    {
      "cell_type": "code",
      "source": [
        "if target in nums :pass\n",
        "else :pass"
      ],
      "metadata": {
        "id": "8zuQBTFmG55U"
      },
      "execution_count": 4,
      "outputs": []
    },
    {
      "cell_type": "markdown",
      "source": [
        "Now if the element is already in the list, we just need to return the index of that element"
      ],
      "metadata": {
        "id": "vUpyiuaWHRpv"
      }
    },
    {
      "cell_type": "code",
      "source": [
        "if target in nums :print(nums.index(target))\n",
        "else :pass"
      ],
      "metadata": {
        "colab": {
          "base_uri": "https://localhost:8080/"
        },
        "id": "36ae_3Acz6X-",
        "outputId": "a7f2c7fe-86c9-4ca2-a7cf-ec3bd4d94d40"
      },
      "execution_count": 5,
      "outputs": [
        {
          "output_type": "stream",
          "name": "stdout",
          "text": [
            "2\n"
          ]
        }
      ]
    },
    {
      "cell_type": "markdown",
      "source": [
        "This can be the solution if the `target` value is always found in the `nums`. But what if it is not, like this `nums = [1,3,5,6], target = 2`"
      ],
      "metadata": {
        "id": "O_DAWPSXHNW9"
      }
    },
    {
      "cell_type": "code",
      "source": [
        "nums = [1,3,5,6]\n",
        "target = 2"
      ],
      "metadata": {
        "id": "Jxg0WMgfz9A2"
      },
      "execution_count": 6,
      "outputs": []
    },
    {
      "cell_type": "markdown",
      "source": [
        "Then we will add the element in the list and then sort the list, and then find the index of the list "
      ],
      "metadata": {
        "id": "w_Sf7mYyHf3s"
      }
    },
    {
      "cell_type": "code",
      "source": [
        "if target in nums:\n",
        "    print(nums.index(target))\n",
        "else :\n",
        "    nums.append(target)\n",
        "    nums.sort()\n",
        "    print(nums.index(target))"
      ],
      "metadata": {
        "colab": {
          "base_uri": "https://localhost:8080/"
        },
        "id": "ywdPih5kE4rW",
        "outputId": "82af52a1-ced1-4724-ecd8-ca34b871f9b8"
      },
      "execution_count": 7,
      "outputs": [
        {
          "output_type": "stream",
          "name": "stdout",
          "text": [
            "1\n"
          ]
        }
      ]
    },
    {
      "cell_type": "markdown",
      "source": [
        "We have acheived our solution, now we just need to beautify this a little bit "
      ],
      "metadata": {
        "id": "FfwzjGmwHq5D"
      }
    },
    {
      "cell_type": "code",
      "source": [
        "class Solution:\n",
        "    \n",
        "    def searchInsert(self, nums: List[int], target: int) -> int:\n",
        "    \n",
        "        if target in nums:\n",
        "    \n",
        "            return nums.index(target)\n",
        "    \n",
        "        else :\n",
        "    \n",
        "            nums.append(target)\n",
        "            nums.sort()\n",
        "    \n",
        "            return nums.index(target)"
      ],
      "metadata": {
        "id": "oU4MF_P8H1zb"
      },
      "execution_count": null,
      "outputs": []
    }
  ]
}