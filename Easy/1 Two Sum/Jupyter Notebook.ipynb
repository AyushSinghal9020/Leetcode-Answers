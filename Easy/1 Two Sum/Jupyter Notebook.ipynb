{
 "cells": [
  {
   "cell_type": "markdown",
   "metadata": {},
   "source": [
    "# Question 1"
   ]
  },
  {
   "cell_type": "markdown",
   "metadata": {},
   "source": [
    "### Two Sum"
   ]
  },
  {
   "cell_type": "markdown",
   "metadata": {},
   "source": [
    "### Problem Statement :-"
   ]
  },
  {
   "cell_type": "markdown",
   "metadata": {},
   "source": [
    "Given an array of integers `nums` and an integer `target`, return *indices of the two numbers such that they add up to `target`*.\n",
    "\n",
    "You may assume that each input would have **exactly one solution**, and you may not use the *same element twice*.\n",
    "\n",
    "You can return the answer in any order."
   ]
  },
  {
   "cell_type": "markdown",
   "metadata": {},
   "source": [
    "### Examples"
   ]
  },
  {
   "cell_type": "markdown",
   "metadata": {},
   "source": [
    "#### Example 1"
   ]
  },
  {
   "cell_type": "markdown",
   "metadata": {},
   "source": [
    "##### Example :"
   ]
  },
  {
   "cell_type": "markdown",
   "metadata": {},
   "source": [
    "    Input: \n",
    "        nums = [2,7,11,15] \n",
    "        target = 9\n",
    "    Output: \n",
    "        [0,1]"
   ]
  },
  {
   "cell_type": "markdown",
   "metadata": {},
   "source": [
    "#### Explanation \n"
   ]
  },
  {
   "cell_type": "markdown",
   "metadata": {},
   "source": [
    "Because `nums[0] + nums[1] == 9`, we return `[0, 1]`."
   ]
  },
  {
   "cell_type": "markdown",
   "metadata": {},
   "source": [
    "#### Example 2"
   ]
  },
  {
   "cell_type": "markdown",
   "metadata": {},
   "source": [
    "#### Example :-"
   ]
  },
  {
   "cell_type": "markdown",
   "metadata": {},
   "source": [
    "    Input: \n",
    "        nums = [3,2,4]\n",
    "        target = 6\n",
    "    Output: \n",
    "        [1,2]"
   ]
  },
  {
   "cell_type": "markdown",
   "metadata": {},
   "source": [
    "### Example 3"
   ]
  },
  {
   "cell_type": "markdown",
   "metadata": {},
   "source": [
    "#### Example "
   ]
  },
  {
   "cell_type": "markdown",
   "metadata": {},
   "source": [
    "    Input:\n",
    "        nums = [3,3]\n",
    "        target = 6\n",
    "    Output: \n",
    "        [0,1]"
   ]
  },
  {
   "cell_type": "markdown",
   "metadata": {},
   "source": [
    "#### Constraints :"
   ]
  },
  {
   "cell_type": "markdown",
   "metadata": {},
   "source": [
    "- `2 <= nums.length <= 104`\n",
    "- `-109 <= nums[i] <= 109`\n",
    "- `-109 <= target <= 109`\n",
    "- **Only one valid answer exists**."
   ]
  },
  {
   "cell_type": "markdown",
   "metadata": {},
   "source": [
    "#### Follow-Up"
   ]
  },
  {
   "cell_type": "markdown",
   "metadata": {},
   "source": [
    "Can you come up with an algorithm that is less than `O(n2)` time complexity?"
   ]
  },
  {
   "cell_type": "markdown",
   "metadata": {},
   "source": [
    "#### Solution"
   ]
  },
  {
   "cell_type": "markdown",
   "metadata": {},
   "source": [
    "Lets take the input from the example as the question as the test, we will convert the input as variable in the final soultion"
   ]
  },
  {
   "cell_type": "code",
   "execution_count": 2,
   "metadata": {},
   "outputs": [],
   "source": [
    "s = [2,7,11,15]\n",
    "t = 9\n",
    "o = []"
   ]
  },
  {
   "cell_type": "markdown",
   "metadata": {},
   "source": [
    "As we have the sum of two `elements` from the `list`, we are sure we need to `traverse` the `list` twice with different `variable` each time. \n",
    "Or in other words, we need to make a connection among each `element` of the `list`, and thus `trvaerse` the `list` twice. For `traversing` we will use the `for loop`, as we have two `traverse` twice, we will use `nested for loop`. As in the explanation of example the `index` of the `list` `element` is given in the `output`. So we will use the `len function` for more convinince "
   ]
  },
  {
   "cell_type": "markdown",
   "metadata": {},
   "source": [
    "Lets print the value for testing the loops "
   ]
  },
  {
   "cell_type": "code",
   "execution_count": 4,
   "metadata": {},
   "outputs": [
    {
     "name": "stdout",
     "output_type": "stream",
     "text": [
      "i >  0\n",
      "j ===>  0\n",
      "j ===>  1\n",
      "j ===>  2\n",
      "j ===>  3\n",
      "i >  1\n",
      "j ===>  0\n",
      "j ===>  1\n",
      "j ===>  2\n",
      "j ===>  3\n",
      "i >  2\n",
      "j ===>  0\n",
      "j ===>  1\n",
      "j ===>  2\n",
      "j ===>  3\n",
      "i >  3\n",
      "j ===>  0\n",
      "j ===>  1\n",
      "j ===>  2\n",
      "j ===>  3\n"
     ]
    }
   ],
   "source": [
    "for i in range(0 , len(s)):\n",
    "\n",
    "    print(\"i > \", i)\n",
    "    \n",
    "    for j in range(0, len(s)):\n",
    "    \n",
    "        print(\"j ===> \", j)"
   ]
  },
  {
   "cell_type": "markdown",
   "metadata": {},
   "source": [
    "Now we will check for the condition and do some process there "
   ]
  },
  {
   "cell_type": "code",
   "execution_count": 6,
   "metadata": {},
   "outputs": [
    {
     "name": "stdout",
     "output_type": "stream",
     "text": [
      "0 1\n",
      "we will do some process here !\n",
      "1 0\n",
      "we will do some process here !\n"
     ]
    }
   ],
   "source": [
    "for i in range(0 , len(s)):\n",
    "\n",
    "    for j in range(0, len(s)):\n",
    "\n",
    "        if s[i] + s[j] == t:\n",
    "\n",
    "            print(i, j)\n",
    "            print(\"we will do some process here !\")"
   ]
  },
  {
   "cell_type": "markdown",
   "metadata": {},
   "source": [
    "The solution is completed here but there would be some critcal case scenarios where the program would be not efficient such as\n",
    "- If the element is just half of the target \n",
    "- If element that is half of the target repeats\n"
   ]
  },
  {
   "cell_type": "markdown",
   "metadata": {},
   "source": [
    "For countering the scenarios we will have to add three if-else condtions "
   ]
  },
  {
   "cell_type": "code",
   "execution_count": 7,
   "metadata": {},
   "outputs": [
    {
     "name": "stdout",
     "output_type": "stream",
     "text": [
      "We will have to do some process here. \n",
      "We will have to do some process here \n",
      "We will have to do some process here. \n",
      "We will have to do some process here \n"
     ]
    }
   ],
   "source": [
    "for i in range(0 , len(s)):\n",
    "    for j in range(0, len(s)):\n",
    "        if i != j:\n",
    "            if s[i] + s[j] == t:\n",
    "                if i in o:\n",
    "                    continue\n",
    "                else :\n",
    "                    print(\"We will have to do some process here. \")\n",
    "                if j in o:\n",
    "                    continue\n",
    "                else : \n",
    "                    print(\"We will have to do some process here \")"
   ]
  },
  {
   "cell_type": "markdown",
   "metadata": {},
   "source": [
    "The best process is to add the element to the output list "
   ]
  },
  {
   "cell_type": "code",
   "execution_count": 8,
   "metadata": {},
   "outputs": [],
   "source": [
    "for i in range(0 , len(s)):\n",
    "    for j in range(0, len(s)):\n",
    "        if i != j:\n",
    "            if s[i] + s[j] == t:\n",
    "                if i in o:\n",
    "                    continue\n",
    "                else :\n",
    "                    o.append(i)\n",
    "                if j in o:\n",
    "                    continue\n",
    "                else : \n",
    "                    o.append(j)"
   ]
  },
  {
   "cell_type": "markdown",
   "metadata": {},
   "source": [
    "#### Solution"
   ]
  },
  {
   "cell_type": "code",
   "execution_count": null,
   "metadata": {},
   "outputs": [],
   "source": [
    "class Solution:\n",
    "    def twoSum(self, s, t):\n",
    "        for i in range(0 , len(s)):\n",
    "            for j in range(0, len(s)):\n",
    "                if i != j:\n",
    "                    if s[i] + s[j] == t:\n",
    "                        if i in o:\n",
    "                            continue\n",
    "                        else :\n",
    "                            o.append(i)\n",
    "                        if j in o:\n",
    "                            continue\n",
    "                        else : \n",
    "                            o.append(j)\n",
    "        return o"
   ]
  }
 ],
 "metadata": {
  "kernelspec": {
   "display_name": "Python 3.10.4 64-bit",
   "language": "python",
   "name": "python3"
  },
  "language_info": {
   "codemirror_mode": {
    "name": "ipython",
    "version": 3
   },
   "file_extension": ".py",
   "mimetype": "text/x-python",
   "name": "python",
   "nbconvert_exporter": "python",
   "pygments_lexer": "ipython3",
   "version": "3.10.4"
  },
  "orig_nbformat": 4,
  "vscode": {
   "interpreter": {
    "hash": "3ad933181bd8a04b432d3370b9dc3b0662ad032c4dfaa4e4f1596c548f763858"
   }
  }
 },
 "nbformat": 4,
 "nbformat_minor": 2
}
