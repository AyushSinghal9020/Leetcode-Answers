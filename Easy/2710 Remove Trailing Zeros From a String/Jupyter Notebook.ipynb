{
  "cells": [
    {
      "cell_type": "markdown",
      "metadata": {
        "id": "ri8o0UB1P7Fc"
      },
      "source": [
        "# Question 2710\n",
        "****\n",
        "## Removing Trailing Zeros From a String\n",
        "****\n",
        "### Problem Statement - \n",
        "\n",
        "Given a **positive** integer `num` represented as a string, return the integer `num` without trailing zeros as a string.\n",
        "****\n",
        "### Examples\n",
        "```\n",
        "Input: num = \"51230100\"\n",
        "\n",
        "Output: \"512301\"\n",
        "\n",
        "Explanation: Integer \"51230100\" has 2 trailing zeros, we remove them and return integer \"512301\".\n",
        "```\n",
        "```\n",
        "Input: num = \"123\"\n",
        "\n",
        "Output: \"123\"\n",
        "\n",
        "Explanation: Integer \"123\" has no trailing zeros, we return integer \"123\".\n",
        "```\n",
        "****\n",
        "### Constraints\n",
        "```\n",
        "1 <= num.length <= 1000\n",
        "\n",
        "num consists of only digits.\n",
        "\n",
        "num doesn't have any leading zeros.\n",
        "```\n",
        "\n",
        "\n"
      ]
    },
    {
      "cell_type": "markdown",
      "metadata": {
        "id": "QoBHVz0KQgUX"
      },
      "source": [
        "Lets assume we have dummy sample  like this "
      ]
    },
    {
      "cell_type": "code",
      "execution_count": 97,
      "metadata": {
        "id": "pKafjUZ88CFq"
      },
      "outputs": [],
      "source": [
        "num = \"51230100\""
      ]
    },
    {
      "cell_type": "markdown",
      "metadata": {
        "id": "kBaGoHuEQn-t"
      },
      "source": [
        "First lets try to check if this string contains a $0$ at the `trail`."
      ]
    },
    {
      "cell_type": "code",
      "source": [
        "num[-1] == \"0\""
      ],
      "metadata": {
        "id": "mTkmyUlw0IMZ",
        "colab": {
          "base_uri": "https://localhost:8080/"
        },
        "outputId": "085047c6-a2dd-4b81-ceee-965f3242e5e6"
      },
      "execution_count": 98,
      "outputs": [
        {
          "output_type": "execute_result",
          "data": {
            "text/plain": [
              "True"
            ]
          },
          "metadata": {},
          "execution_count": 98
        }
      ]
    },
    {
      "cell_type": "markdown",
      "source": [
        "Now we will replace the string with a string same as this but leaving the last element"
      ],
      "metadata": {
        "id": "s_D2MYmB0ip2"
      }
    },
    {
      "cell_type": "code",
      "source": [
        "num[:-1]"
      ],
      "metadata": {
        "id": "hiqBDFbL0ocW",
        "colab": {
          "base_uri": "https://localhost:8080/",
          "height": 35
        },
        "outputId": "474fcd0a-aab9-4c3d-812c-e632b253c23f"
      },
      "execution_count": 99,
      "outputs": [
        {
          "output_type": "execute_result",
          "data": {
            "text/plain": [
              "'5123010'"
            ],
            "application/vnd.google.colaboratory.intrinsic+json": {
              "type": "string"
            }
          },
          "metadata": {},
          "execution_count": 99
        }
      ]
    },
    {
      "cell_type": "markdown",
      "source": [
        "Now we just need to do this in loop "
      ],
      "metadata": {
        "id": "MV_qGKu9_DcO"
      }
    },
    {
      "cell_type": "code",
      "source": [
        "while num[-1] == \"0\":\n",
        "    num = num[:-1]\n",
        "num"
      ],
      "metadata": {
        "colab": {
          "base_uri": "https://localhost:8080/",
          "height": 35
        },
        "id": "Pljlgj4R_GfF",
        "outputId": "3eb4dbac-15a7-4d0e-dfc1-48dce9d9e92e"
      },
      "execution_count": 100,
      "outputs": [
        {
          "output_type": "execute_result",
          "data": {
            "text/plain": [
              "'512301'"
            ],
            "application/vnd.google.colaboratory.intrinsic+json": {
              "type": "string"
            }
          },
          "metadata": {},
          "execution_count": 100
        }
      ]
    },
    {
      "cell_type": "markdown",
      "source": [
        "Now lets put this in a function"
      ],
      "metadata": {
        "id": "-AT08X5_1Ags"
      }
    },
    {
      "cell_type": "code",
      "source": [
        "class Solution:\n",
        "    \n",
        "    def removeTrailingZeros(self, num: str) -> str:\n",
        "        \n",
        "        while num[-1] == \"0\":\n",
        "            \n",
        "            num = num[:-1]\n",
        "        \n",
        "        return num"
      ],
      "metadata": {
        "id": "O4Gw8n470_00"
      },
      "execution_count": null,
      "outputs": []
    }
  ],
  "metadata": {
    "colab": {
      "provenance": []
    },
    "kernelspec": {
      "display_name": "Python 3",
      "name": "python3"
    },
    "language_info": {
      "name": "python"
    }
  },
  "nbformat": 4,
  "nbformat_minor": 0
}
