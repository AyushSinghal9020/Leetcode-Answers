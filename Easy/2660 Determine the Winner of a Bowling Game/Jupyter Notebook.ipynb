{
  "cells": [
    {
      "cell_type": "markdown",
      "metadata": {
        "id": "ri8o0UB1P7Fc"
      },
      "source": [
        "# Question 2660\n",
        "****\n",
        "## Determine the Winner of a Bowling Game\n",
        "****\n",
        "### Problem Statement -\n",
        "\n",
        "You are given two **0-indexed** integer arrays `player1` and `player2`, that represent the number of pins that player 1 and player 2 hit in a bowling game, respectively.\n",
        "\n",
        "The bowling game consists of `n` turns, and the number of pins in each turn is exactly `10`.\n",
        "\n",
        "Assume a player hit `xi` pins in the `ith` turn. The value of the `ith` turn for the player is:\n",
        "\n",
        "* `2xi` if the player hit `10` pins in any of the previous two turns.\n",
        "* Otherwise, It is `xi`.\n",
        "The score of the player is the sum of the values of their `n` turns.\n",
        "\n",
        "Return\n",
        "\n",
        "* 1 if the score of player 1 is more than the score of player 2,\n",
        "* 2 if the score of player 2 is more than the score of player 1, and\n",
        "* 0 in case of a draw.\n",
        "****\n",
        "### Examples\n",
        "```\n",
        "Input: player1 = [4,10,7,9], player2 = [6,5,2,3]\n",
        "\n",
        "Output: 1\n",
        "\n",
        "Explanation: The score of player1 is 4 + 10 + 2*7 + 2*9 = 46.\n",
        "The score of player2 is 6 + 5 + 2 + 3 = 16.\n",
        "Score of player1 is more than the score of player2, so, player1 is the winner, and the answer is 1.\n",
        "```\n",
        "```\n",
        "Input: player1 = [3,5,7,6], player2 = [8,10,10,2]\n",
        "\n",
        "Output: 2\n",
        "\n",
        "Explanation: The score of player1 is 3 + 5 + 7 + 6 = 21.\n",
        "The score of player2 is 8 + 10 + 2*10 + 2*2 = 42.\n",
        "Score of player2 is more than the score of player1, so, player2 is the winner, and the answer is 2.\n",
        "```\n",
        "```\n",
        "Input: player1 = [2,3], player2 = [4,1]\n",
        "\n",
        "Output: 0\n",
        "\n",
        "Explanation: The score of player1 is 2 + 3 = 5\n",
        "The score of player2 is 4 + 1 = 5\n",
        "The score of player1 equals to the score of player2, so, there is a draw, and the answer is 0.\n",
        "```\n",
        "****\n",
        "### Constraints\n",
        "```\n",
        "n == player1.length == player2.length\n",
        "\n",
        "1 <= n <= 1000\n",
        "\n",
        "0 <= player1[i], player2[i] <= 10\n",
        "```\n",
        "\n",
        "\n"
      ]
    },
    {
      "cell_type": "markdown",
      "metadata": {
        "id": "QoBHVz0KQgUX"
      },
      "source": [
        "Lets assume we have dummy sample  like this"
      ]
    },
    {
      "cell_type": "code",
      "source": [
        "player1 = [4,10,7,9]\n",
        "player2 = [6,5,2,3]"
      ],
      "metadata": {
        "id": "5Ly-cJ5NLRYx"
      },
      "execution_count": 25,
      "outputs": []
    },
    {
      "cell_type": "markdown",
      "source": [
        "First lets try to iterate all over the list"
      ],
      "metadata": {
        "id": "s6cqJMlLMHj1"
      }
    },
    {
      "cell_type": "code",
      "source": [
        "for score in player1:pass\n",
        "for score in player2:pass"
      ],
      "metadata": {
        "id": "_m472SGKMG6N"
      },
      "execution_count": 26,
      "outputs": []
    },
    {
      "cell_type": "markdown",
      "source": [
        "Now we will try to get the sum of the socres of these players"
      ],
      "metadata": {
        "id": "xCA-Y_ZP3NGk"
      }
    },
    {
      "cell_type": "code",
      "source": [
        "score_1 = 0\n",
        "score_2 = 0\n",
        "\n",
        "for score in player1:score_1 += score\n",
        "for score in player2:score_2 += score\n",
        "\n",
        "score_1 , score_2"
      ],
      "metadata": {
        "colab": {
          "base_uri": "https://localhost:8080/"
        },
        "id": "eEnOKzf63UI7",
        "outputId": "a947008e-6a33-4619-e7ef-2be9d9eeb0e0"
      },
      "execution_count": 28,
      "outputs": [
        {
          "output_type": "execute_result",
          "data": {
            "text/plain": [
              "(30, 16)"
            ]
          },
          "metadata": {},
          "execution_count": 28
        }
      ]
    },
    {
      "cell_type": "markdown",
      "source": [
        "Now we will track if the list contained `10` or not"
      ],
      "metadata": {
        "id": "UQ0j3m7W3WIj"
      }
    },
    {
      "cell_type": "code",
      "source": [
        "player_1_s = []\n",
        "player_2_s = []\n",
        "\n",
        "for score in player1:\n",
        "    if 10 not in player_1_s:player_1_s.append(score)\n",
        "    else : player_1_s.append(score * 2)\n",
        "\n",
        "for score in player2:\n",
        "    if 10 not in player_2_s:player_2_s.append(score)\n",
        "    else:player_2_s.append(score * 2)\n",
        "\n",
        "score_1 = sum(player_1_s)\n",
        "score_2 = sum(player_2_s)\n",
        "\n",
        "score_1 , score_2"
      ],
      "metadata": {
        "colab": {
          "base_uri": "https://localhost:8080/"
        },
        "id": "rh13BL2n3Z67",
        "outputId": "13816d27-e2d4-4eab-dd59-03245405e128"
      },
      "execution_count": 31,
      "outputs": [
        {
          "output_type": "execute_result",
          "data": {
            "text/plain": [
              "(46, 16)"
            ]
          },
          "metadata": {},
          "execution_count": 31
        }
      ]
    },
    {
      "cell_type": "markdown",
      "source": [
        "And we are done, we are good to go now"
      ],
      "metadata": {
        "id": "Wog1l-4R3t1D"
      }
    },
    {
      "cell_type": "code",
      "source": [
        "class Solution:\n",
        "\n",
        "    def isWinner(self, player1: list[int], player2: list[int]) -> int:\n",
        "\n",
        "        player_1_s = []\n",
        "        player_2_s = []\n",
        "\n",
        "        for score in player1:\n",
        "\n",
        "            if 10 not in player_1_s:player_1_s.append(score)\n",
        "            else : player_1_s.append(score * 2)\n",
        "\n",
        "        for score in player2:\n",
        "\n",
        "            if 10 not in player_2_s:player_2_s.append(score)\n",
        "            else:player_2_s.append(score * 2)\n",
        "\n",
        "        score_1 = sum(player_1_s)\n",
        "        score_2 = sum(player_2_s)\n",
        "\n",
        "        if score_1 > score_2:return 1\n",
        "        elif score_1 < score_2:return 2\n",
        "        else : return 0"
      ],
      "metadata": {
        "id": "gNaBgsBH3zPz"
      },
      "execution_count": 32,
      "outputs": []
    }
  ],
  "metadata": {
    "colab": {
      "provenance": []
    },
    "kernelspec": {
      "display_name": "Python 3",
      "name": "python3"
    },
    "language_info": {
      "name": "python"
    }
  },
  "nbformat": 4,
  "nbformat_minor": 0
}
