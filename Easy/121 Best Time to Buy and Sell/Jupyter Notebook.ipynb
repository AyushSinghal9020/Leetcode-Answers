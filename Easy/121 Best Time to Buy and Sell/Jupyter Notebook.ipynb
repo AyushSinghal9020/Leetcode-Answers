{
  "nbformat": 4,
  "nbformat_minor": 0,
  "metadata": {
    "colab": {
      "provenance": []
    },
    "kernelspec": {
      "name": "python3",
      "display_name": "Python 3"
    },
    "language_info": {
      "name": "python"
    }
  },
  "cells": [
    {
      "cell_type": "markdown",
      "source": [
        "# Question 121\n",
        "## Best Time to Buy and sell\n",
        "### Problem Statement - \n",
        "\n",
        "You are given an array `prices` where `prices[i]` is the price of a given stock on the `ith day`.\n",
        "\n",
        "You want to maximize your profit by choosing a **single day** to buy one stock and choosing a **different day in the future** to sell that stock.\n",
        "\n",
        "Return the maximum profit you can achieve from this transaction. If you cannot achieve any profit, return `0`.\n",
        "\n",
        "### Examples\n",
        "#### Example 1\n",
        "```\n",
        "Input: prices = [7,1,5,3,6,4]\n",
        "\n",
        "Output: 5\n",
        "\n",
        "Explanation: Buy on day 2 (price = 1) and sell on day 5 (price = 6), profit = 6-1 = 5.\n",
        "Note that buying on day 2 and selling on day 1 is not allowed because you must buy before you sell.\n",
        "\n",
        "```\n",
        "\n",
        "#### Example 2\n",
        "```\n",
        "Input: prices = [7,6,4,3,1]\n",
        "\n",
        "Output: 0\n",
        "\n",
        "Explanation: In this case, no transactions are done and the max profit = 0.\n",
        "```\n",
        "### Constraints\n",
        "```\n",
        "\n",
        "1 <= prices.length <= 105\n",
        "\n",
        "0 <= prices[i] <= 104\n",
        "```\n",
        "\n"
      ],
      "metadata": {
        "id": "ri8o0UB1P7Fc"
      }
    },
    {
      "cell_type": "markdown",
      "source": [
        "Lets assume we have prices like this "
      ],
      "metadata": {
        "id": "QoBHVz0KQgUX"
      }
    },
    {
      "cell_type": "code",
      "execution_count": 63,
      "metadata": {
        "id": "pKafjUZ88CFq"
      },
      "outputs": [],
      "source": [
        "sample_array = [1 , 2 , 3 , 4 , 5]"
      ]
    },
    {
      "cell_type": "markdown",
      "source": [
        "A straight forward answer could be "
      ],
      "metadata": {
        "id": "kBaGoHuEQn-t"
      }
    },
    {
      "cell_type": "code",
      "source": [
        "max(sample_array) - min(sample_array)"
      ],
      "metadata": {
        "colab": {
          "base_uri": "https://localhost:8080/"
        },
        "id": "fleB1pv6-jsm",
        "outputId": "6f8634be-7556-408d-f874-08ae4efb349f"
      },
      "execution_count": 64,
      "outputs": [
        {
          "output_type": "execute_result",
          "data": {
            "text/plain": [
              "4"
            ]
          },
          "metadata": {},
          "execution_count": 64
        }
      ]
    },
    {
      "cell_type": "markdown",
      "source": [
        "Now lets say the array is changed a little bit"
      ],
      "metadata": {
        "id": "fNeYH1nZQxrl"
      }
    },
    {
      "cell_type": "code",
      "source": [
        "sample_array = [5 , 1 , 2 , 3 , 4]"
      ],
      "metadata": {
        "id": "WE2kC4yQHvSM"
      },
      "execution_count": 65,
      "outputs": []
    },
    {
      "cell_type": "markdown",
      "source": [
        "Applying the same solution we get "
      ],
      "metadata": {
        "id": "0emhPfNDQ7-_"
      }
    },
    {
      "cell_type": "code",
      "source": [
        "max(sample_array) - min(sample_array)"
      ],
      "metadata": {
        "colab": {
          "base_uri": "https://localhost:8080/"
        },
        "id": "_flZBKTRQ-k1",
        "outputId": "42ee879b-c9e3-4c39-d513-2b758cdada74"
      },
      "execution_count": 66,
      "outputs": [
        {
          "output_type": "execute_result",
          "data": {
            "text/plain": [
              "4"
            ]
          },
          "metadata": {},
          "execution_count": 66
        }
      ]
    },
    {
      "cell_type": "markdown",
      "source": [
        "But there is a problem, it is written that, you cannot do this, basically you cannot sell a stock, before actually buying it. One way to counter this is just `pop()` the first value, if the first value is `max()`"
      ],
      "metadata": {
        "id": "OC-qGGgsRAbN"
      }
    },
    {
      "cell_type": "code",
      "source": [
        "if sample_array.index(max(sample_array)) == 0:sample_array.pop(0)\n",
        "max(sample_array) - min(sample_array)"
      ],
      "metadata": {
        "colab": {
          "base_uri": "https://localhost:8080/"
        },
        "id": "6gnH0gX6RW7t",
        "outputId": "a7546ff8-9064-4761-9253-170e7e0807ef"
      },
      "execution_count": 67,
      "outputs": [
        {
          "output_type": "execute_result",
          "data": {
            "text/plain": [
              "3"
            ]
          },
          "metadata": {},
          "execution_count": 67
        }
      ]
    },
    {
      "cell_type": "markdown",
      "source": [
        "And thats the correct answer, but what if we have list like this "
      ],
      "metadata": {
        "id": "cgkG7k3SRips"
      }
    },
    {
      "cell_type": "code",
      "source": [
        "sample_array = [6 , 5 , 1 , 2 , 3 , 4]"
      ],
      "metadata": {
        "id": "YnP4VgzZRnQl"
      },
      "execution_count": 68,
      "outputs": []
    },
    {
      "cell_type": "markdown",
      "source": [
        "So rather than rmeoving $1$ time only, we can run a `while` loop, for the same condition "
      ],
      "metadata": {
        "id": "MWcvwJ3ERqkl"
      }
    },
    {
      "cell_type": "code",
      "source": [
        "while sample_array.index(max(sample_array)) == 0:sample_array.pop(0)\n",
        "max(sample_array) - min(sample_array)"
      ],
      "metadata": {
        "colab": {
          "base_uri": "https://localhost:8080/"
        },
        "id": "ku-iuPIQR2qU",
        "outputId": "e392a0ac-bef7-4fa6-eab9-2c644d981a54"
      },
      "execution_count": 69,
      "outputs": [
        {
          "output_type": "execute_result",
          "data": {
            "text/plain": [
              "3"
            ]
          },
          "metadata": {},
          "execution_count": 69
        }
      ]
    },
    {
      "cell_type": "markdown",
      "source": [
        "Now lets assume we have this list"
      ],
      "metadata": {
        "id": "wtzKAWRRRMIN"
      }
    },
    {
      "cell_type": "code",
      "source": [
        "sample_array = [4 , 2 , 5 , 1 , 3]"
      ],
      "metadata": {
        "id": "2jtHvJmJSDns"
      },
      "execution_count": 77,
      "outputs": []
    },
    {
      "cell_type": "code",
      "source": [
        "while sample_array.index(max(sample_array)) == 0:sample_array.pop(0)\n",
        "max(sample_array) - min(sample_array)"
      ],
      "metadata": {
        "colab": {
          "base_uri": "https://localhost:8080/"
        },
        "id": "hGLbwqXbSYts",
        "outputId": "7a302721-ea99-43a6-cd44-15368497ab58"
      },
      "execution_count": 72,
      "outputs": [
        {
          "output_type": "execute_result",
          "data": {
            "text/plain": [
              "4"
            ]
          },
          "metadata": {},
          "execution_count": 72
        }
      ]
    },
    {
      "cell_type": "markdown",
      "source": [
        "But the answet should be $3$ rather. So what we can do is check a condition "
      ],
      "metadata": {
        "id": "doCLjU9-SVaE"
      }
    },
    {
      "cell_type": "code",
      "source": [
        "if sample_array.index(max(sample_array)) < sample_array.index(min(sample_array)):pass"
      ],
      "metadata": {
        "id": "Q1a2SZZbSvFt"
      },
      "execution_count": 75,
      "outputs": []
    },
    {
      "cell_type": "markdown",
      "source": [
        "And `pop()` the max element if the condtion is true"
      ],
      "metadata": {
        "id": "vFKZMKB2TCCD"
      }
    },
    {
      "cell_type": "code",
      "source": [
        "if sample_array.index(max(sample_array)) < sample_array.index(min(sample_array)):\n",
        "    sample_array.pop(sample_array.index(max(sample_array)))"
      ],
      "metadata": {
        "id": "o5uDTX0VTIti"
      },
      "execution_count": 76,
      "outputs": []
    },
    {
      "cell_type": "markdown",
      "source": [
        "But we need another condition, `else` with finding the same thing"
      ],
      "metadata": {
        "id": "-VlVACAYTboi"
      }
    },
    {
      "cell_type": "code",
      "source": [
        "if sample_array.index(max(sample_array)) < sample_array.index(min(sample_array)):\n",
        "    sample_array.pop(sample_array.index(max(sample_array)))\n",
        "else :print((max(sample_array) - min(sample_array)))"
      ],
      "metadata": {
        "id": "spSa_hazTlea"
      },
      "execution_count": 79,
      "outputs": []
    },
    {
      "cell_type": "markdown",
      "source": [
        "And we need to do this iteratively for the len of list "
      ],
      "metadata": {
        "id": "3ikiQWevUzlL"
      }
    },
    {
      "cell_type": "code",
      "source": [
        "for _ in sample_array:\n",
        "    if sample_array.index(max(sample_array)) < sample_array.index(min(sample_array)):sample_array.pop(sample_array.index(max(sample_array)))\n",
        "    else :print((max(sample_array) - min(sample_array)))"
      ],
      "metadata": {
        "colab": {
          "base_uri": "https://localhost:8080/"
        },
        "id": "5ckCjx5fU34Z",
        "outputId": "a3819e65-eba1-45a5-a0c9-71acc306ba15"
      },
      "execution_count": 80,
      "outputs": [
        {
          "output_type": "stream",
          "name": "stdout",
          "text": [
            "2\n",
            "2\n",
            "2\n"
          ]
        }
      ]
    },
    {
      "cell_type": "markdown",
      "source": [
        "And actually the correct answet is $2$, but we dont need it multiple times, we just need it $1$ time, correct way would be adding a `break` statement at the end "
      ],
      "metadata": {
        "id": "UJOnqn8bVC3y"
      }
    },
    {
      "cell_type": "code",
      "source": [
        "for _ in sample_array:\n",
        "    \n",
        "    if sample_array.index(max(sample_array)) < sample_array.index(min(sample_array)):\n",
        "        \n",
        "        sample_array.pop(sample_array.index(max(sample_array)))\n",
        "    else :\n",
        "        \n",
        "        print((max(sample_array) - min(sample_array)))\n",
        "\n",
        "        break"
      ],
      "metadata": {
        "colab": {
          "base_uri": "https://localhost:8080/"
        },
        "id": "IIGgJpNAVCCa",
        "outputId": "9ca38ee9-5465-4ee3-aa17-a91540c7b89f"
      },
      "execution_count": 81,
      "outputs": [
        {
          "output_type": "stream",
          "name": "stdout",
          "text": [
            "2\n"
          ]
        }
      ]
    },
    {
      "cell_type": "markdown",
      "source": [
        "Now lets assume we have this list "
      ],
      "metadata": {
        "id": "8Xp1h-eoVXVh"
      }
    },
    {
      "cell_type": "code",
      "source": [
        "sample_array = [2 , 4 , 1]"
      ],
      "metadata": {
        "id": "RirkXX-LVbHw"
      },
      "execution_count": 84,
      "outputs": []
    },
    {
      "cell_type": "code",
      "source": [
        "for _ in sample_array:\n",
        "    \n",
        "    if sample_array.index(max(sample_array)) < sample_array.index(min(sample_array)):\n",
        "        \n",
        "        sample_array.pop(sample_array.index(max(sample_array)))\n",
        "    else :\n",
        "        \n",
        "        print((max(sample_array) - min(sample_array)))\n",
        "\n",
        "        break"
      ],
      "metadata": {
        "id": "wFWEnG_hVeFx"
      },
      "execution_count": 85,
      "outputs": []
    },
    {
      "cell_type": "markdown",
      "source": [
        "We ran the cell and it gave nothing, means the answer was $0$, but the actual answer is $2$, the problem is $4$ comming in between, \n",
        "\n",
        "One way to counter this, is to make a lookup table, that has the record of differences till the largest number, if at the end `(max(sample_array) - min(sample_array)) < max(diffrences)`, than the actual answer is that `max(diffrences)`\n",
        "\n",
        "And we get our final answer "
      ],
      "metadata": {
        "id": "mjKFdHN7VgpR"
      }
    },
    {
      "cell_type": "code",
      "source": [
        "class Solution:\n",
        "    def maxProfit(self, prices: list[int]) -> int:\n",
        "\n",
        "        lu = list()\n",
        "\n",
        "        while prices.index(max(prices)) == 0:#---------|\n",
        "#------------------------------------------------------|Removing Max element at the begining \n",
        "            prices.pop(0)#-----------------------------|\n",
        "\n",
        "        for i in range(0 , prices.index(max(prices))):#\n",
        "#----------------------------------------------------------|\n",
        "            lu.append(max(prices) - prices[i])#------------|\n",
        "#----------------------------------------------------------|\n",
        "        if len(lu) != 0: #---------------------------------|\n",
        "#----------------------------------------------------------|Look Up table \n",
        "            maxi = max(lu)#--------------------------------|\n",
        "#----------------------------------------------------------|\n",
        "        else :#--------------------------------------------|\n",
        "#----------------------------------------------------------|\n",
        "            maxi = 0#--------------------------------------|\n",
        "\n",
        "        for _ in sample_array:\n",
        "\n",
        "            if len(prices) == 0:\n",
        "                \n",
        "                return 0\n",
        "            \n",
        "            elif prices.index(max(prices)) < prices.index(min(prices)):\n",
        "                \n",
        "                prices.pop(prices.index(max(prices)))\n",
        "                count += 1\n",
        "\n",
        "            else:\n",
        "                \n",
        "                if max(prices) - min(prices) >= maxi:\n",
        "                    \n",
        "                    return max(prices) - min(prices)\n",
        "\n",
        "                else :\n",
        "                    \n",
        "                    return maxi"
      ],
      "metadata": {
        "id": "H8DYng1V8cLB"
      },
      "execution_count": 60,
      "outputs": []
    }
  ]
}