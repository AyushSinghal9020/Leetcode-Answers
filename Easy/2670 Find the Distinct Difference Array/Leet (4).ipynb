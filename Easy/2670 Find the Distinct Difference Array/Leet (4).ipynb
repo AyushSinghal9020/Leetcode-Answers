{
  "cells": [
    {
      "cell_type": "markdown",
      "metadata": {
        "id": "ri8o0UB1P7Fc"
      },
      "source": [
        "<img src = \"https://raw.githubusercontent.com/AyushSinghal9020/AyushSinghal9020/main/Screenshot%202023-06-24%20123402.png\">\n",
        "\n",
        "# Question 2670\n",
        "****\n",
        "## Find the Distinct Difference Array\n",
        "****\n",
        "### Problem Statement -\n",
        "\n",
        "You are given a **0-indexed** array `nums` of length `n`.\n",
        "\n",
        "The **distinct difference** array of `nums` is an array `diff` of length `n` such that `diff[i]` is equal to the number of distinct elements in the suffix `nums[i + 1, ..., n - 1]` **subtracted from** the number of distinct elements in the prefix `nums[0, ..., i]`.\n",
        "\n",
        "Return the **distinct difference** array of `nums`.\n",
        "\n",
        "Note that `nums[i, ..., j]` denotes the subarray of `nums` starting at index `i` and ending at index `j` inclusive. Particularly, if `i > j` then `nums[i, ..., j]` denotes an empty subarray.\n",
        "****\n",
        "### Examples\n",
        "```\n",
        "Input: nums = [1,2,3,4,5]\n",
        "\n",
        "Output: [-3,-1,1,3,5]\n",
        "\n",
        "Explanation: For index i = 0, there is 1 element in the prefix and 4 distinct elements in the suffix. Thus, diff[0] = 1 - 4 = -3.\n",
        "For index i = 1, there are 2 distinct elements in the prefix and 3 distinct elements in the suffix. Thus, diff[1] = 2 - 3 = -1.\n",
        "For index i = 2, there are 3 distinct elements in the prefix and 2 distinct elements in the suffix. Thus, diff[2] = 3 - 2 = 1.\n",
        "For index i = 3, there are 4 distinct elements in the prefix and 1 distinct element in the suffix. Thus, diff[3] = 4 - 1 = 3.\n",
        "For index i = 4, there are 5 distinct elements in the prefix and no elements in the suffix. Thus, diff[4] = 5 - 0 = 5.\n",
        "```\n",
        "```\n",
        "Input: nums = [3,2,3,4,2]\n",
        "\n",
        "Output: [-2,-1,0,2,3]\n",
        "\n",
        "Explanation: For index i = 0, there is 1 element in the prefix and 3 distinct elements in the suffix. Thus, diff[0] = 1 - 3 = -2.\n",
        "For index i = 1, there are 2 distinct elements in the prefix and 3 distinct elements in the suffix. Thus, diff[1] = 2 - 3 = -1.\n",
        "For index i = 2, there are 2 distinct elements in the prefix and 2 distinct elements in the suffix. Thus, diff[2] = 2 - 2 = 0.\n",
        "For index i = 3, there are 3 distinct elements in the prefix and 1 distinct element in the suffix. Thus, diff[3] = 3 - 1 = 2.\n",
        "For index i = 4, there are 3 distinct elements in the prefix and no elements in the suffix. Thus, diff[4] = 3 - 0 = 3.\n",
        "```\n",
        "****\n",
        "### Constraints\n",
        "```\n",
        "1 <= n == nums.length <= 50\n",
        "\n",
        "1 <= nums[i] <= 50\n",
        "```\n",
        "\n",
        "\n"
      ]
    },
    {
      "cell_type": "markdown",
      "metadata": {
        "id": "QoBHVz0KQgUX"
      },
      "source": [
        "Lets assume we have dummy sample  like this"
      ]
    },
    {
      "cell_type": "code",
      "source": [
        "nums = [3,2,3,4,2]"
      ],
      "metadata": {
        "id": "5Ly-cJ5NLRYx"
      },
      "execution_count": 27,
      "outputs": []
    },
    {
      "cell_type": "markdown",
      "source": [
        "First lets try to iterate all over the list"
      ],
      "metadata": {
        "id": "s6cqJMlLMHj1"
      }
    },
    {
      "cell_type": "code",
      "source": [
        "for i in range(len(nums)):pass"
      ],
      "metadata": {
        "id": "_m472SGKMG6N"
      },
      "execution_count": 28,
      "outputs": []
    },
    {
      "cell_type": "markdown",
      "source": [
        "Now we will try to create 2 different arrays, `pref` `suf`. which will store the information of the elements `before and after the iteration`."
      ],
      "metadata": {
        "id": "xCA-Y_ZP3NGk"
      }
    },
    {
      "cell_type": "code",
      "source": [
        "for i in range(len(nums)):\n",
        "    pref = nums[:i]\n",
        "    suf = nums[i:]\n",
        "    print(pref , suf)"
      ],
      "metadata": {
        "colab": {
          "base_uri": "https://localhost:8080/"
        },
        "id": "eEnOKzf63UI7",
        "outputId": "0b71d352-4ae0-4017-f3c2-4b82143f3ba6"
      },
      "execution_count": 30,
      "outputs": [
        {
          "output_type": "stream",
          "name": "stdout",
          "text": [
            "[] [3, 2, 3, 4, 2]\n",
            "[3] [2, 3, 4, 2]\n",
            "[3, 2] [3, 4, 2]\n",
            "[3, 2, 3] [4, 2]\n",
            "[3, 2, 3, 4] [2]\n"
          ]
        }
      ]
    },
    {
      "cell_type": "markdown",
      "source": [
        "So we got a kind of a triangular shape for the output.\n",
        "\n",
        "Now lets try to get the unique elements of these `lists`"
      ],
      "metadata": {
        "id": "UQ0j3m7W3WIj"
      }
    },
    {
      "cell_type": "code",
      "source": [
        "for i in range(len(nums)):\n",
        "    pref = nums[:i]\n",
        "    suf = nums[i:]\n",
        "    print(set(pref) , set(suf))"
      ],
      "metadata": {
        "colab": {
          "base_uri": "https://localhost:8080/"
        },
        "id": "rh13BL2n3Z67",
        "outputId": "12bffeb5-ac52-4a51-885d-3964def6cc0d"
      },
      "execution_count": 31,
      "outputs": [
        {
          "output_type": "stream",
          "name": "stdout",
          "text": [
            "set() {2, 3, 4}\n",
            "{3} {2, 3, 4}\n",
            "{2, 3} {2, 3, 4}\n",
            "{2, 3} {2, 4}\n",
            "{2, 3, 4} {2}\n"
          ]
        }
      ]
    },
    {
      "cell_type": "markdown",
      "source": [
        "Now we just need to take the difference of their lenghts"
      ],
      "metadata": {
        "id": "Wog1l-4R3t1D"
      }
    },
    {
      "cell_type": "code",
      "source": [
        "for i in range(len(nums)):\n",
        "    pref = nums[:i]\n",
        "    suf = nums[i:]\n",
        "    print(len(set(pref)) - len(set(suf)))"
      ],
      "metadata": {
        "colab": {
          "base_uri": "https://localhost:8080/"
        },
        "id": "gNaBgsBH3zPz",
        "outputId": "fe9eb19d-cfd9-4e32-a81d-e726dc76cb08"
      },
      "execution_count": 33,
      "outputs": [
        {
          "output_type": "stream",
          "name": "stdout",
          "text": [
            "-3\n",
            "-2\n",
            "-1\n",
            "0\n",
            "2\n"
          ]
        }
      ]
    },
    {
      "cell_type": "markdown",
      "source": [
        "But this is not our solution, its like\n",
        "```\n",
        "[-2,-1,0,2,3]\n",
        "```"
      ],
      "metadata": {
        "id": "TfCk6StHRWVg"
      }
    },
    {
      "cell_type": "markdown",
      "source": [
        "We actually just need to increase our limits of the ranges"
      ],
      "metadata": {
        "id": "phnXFat8RhcV"
      }
    },
    {
      "cell_type": "code",
      "source": [
        "for i in range(len(nums)):\n",
        "    pref = nums[:i+ 1]\n",
        "    suf = nums[i+ 1:]\n",
        "    print(len(set(pref)) - len(set(suf)))"
      ],
      "metadata": {
        "colab": {
          "base_uri": "https://localhost:8080/"
        },
        "id": "-p0fDMNzRstw",
        "outputId": "53da896e-2f24-4deb-c924-1f0cf925979d"
      },
      "execution_count": 35,
      "outputs": [
        {
          "output_type": "stream",
          "name": "stdout",
          "text": [
            "-2\n",
            "-1\n",
            "0\n",
            "2\n",
            "3\n"
          ]
        }
      ]
    },
    {
      "cell_type": "markdown",
      "source": [
        "And we got the actual answer.\n",
        "\n",
        "This now can be merely done in a `list comprehension`"
      ],
      "metadata": {
        "id": "21ZaTe-bR0sm"
      }
    },
    {
      "cell_type": "code",
      "source": [
        "out = [\n",
        "    len(set(nums[: i + 1])) - len(set(nums[i + 1 : ]))\n",
        "    for i in range(len(nums))\n",
        "]\n",
        "out"
      ],
      "metadata": {
        "colab": {
          "base_uri": "https://localhost:8080/"
        },
        "id": "iujtH-CQSFkl",
        "outputId": "2bf30396-e416-4eb8-8a28-40a32fe84436"
      },
      "execution_count": 37,
      "outputs": [
        {
          "output_type": "execute_result",
          "data": {
            "text/plain": [
              "[-2, -1, 0, 2, 3]"
            ]
          },
          "metadata": {},
          "execution_count": 37
        }
      ]
    },
    {
      "cell_type": "markdown",
      "source": [
        "Now we just need to beautify a little bit"
      ],
      "metadata": {
        "id": "C1wM4hE0MQtJ"
      }
    },
    {
      "cell_type": "code",
      "source": [
        "class Solution:\n",
        "\n",
        "    def distinctDifferenceArray(self, nums: list[int]) -> list[int]:\n",
        "\n",
        "        out = [\n",
        "            len(set(nums[: i + 1])) - len(set(nums[i + 1 : ]))\n",
        "            for i in range(len(nums))\n",
        "            ]\n",
        "\n",
        "        return out"
      ],
      "metadata": {
        "id": "VMfYBHgZ4Yy1"
      },
      "execution_count": 38,
      "outputs": []
    }
  ],
  "metadata": {
    "colab": {
      "provenance": []
    },
    "kernelspec": {
      "display_name": "Python 3",
      "name": "python3"
    },
    "language_info": {
      "name": "python"
    }
  },
  "nbformat": 4,
  "nbformat_minor": 0
}