{
  "nbformat": 4,
  "nbformat_minor": 0,
  "metadata": {
    "colab": {
      "provenance": []
    },
    "kernelspec": {
      "name": "python3",
      "display_name": "Python 3"
    },
    "language_info": {
      "name": "python"
    }
  },
  "cells": [
    {
      "cell_type": "markdown",
      "source": [
        "# Question 88\n",
        "## Merge Sorted Array\n",
        "### Problem Statement - \n",
        "\n",
        "You are given two integer arrays `nums1` and `nums2`, sorted in **non-decreasing order**, and two integers `m` and `n`, representing the number of elements in `nums1` and `nums2` respectively.\n",
        "\n",
        "**Merge** `nums1` and `nums2` into a single array sorted in **non-decreasing order**.\n",
        "\n",
        "The final sorted array should not be returned by the function, but instead be stored inside the array `nums1`. To accommodate this, `nums1` has a length of `m + n`, where the first `m` elements denote the elements that should be merged, and the last `n` elements are set to $0$ and should be ignored. `nums2` has a length of `n`.\n",
        " \n",
        "### Examples\n",
        "#### Example 1\n",
        "```\n",
        "Input: nums1 = [1,2,3,0,0,0], m = 3, nums2 = [2,5,6], n = 3\n",
        "\n",
        "Output: [1,2,2,3,5,6]\n",
        "\n",
        "Explanation: The arrays we are merging are [1,2,3] and [2,5,6].\n",
        "The result of the merge is [1,2,2,3,5,6] with the underlined elements coming from nums1.\n",
        "```\n",
        "\n",
        "#### Example 2\n",
        "```\n",
        "Input: nums1 = [1], m = 1, nums2 = [], n = 0\n",
        "\n",
        "Output: [1]\n",
        "\n",
        "Explanation: The arrays we are merging are [1] and [].\n",
        "The result of the merge is [1].\n",
        "```\n",
        "\n",
        "#### Example 3 \n",
        "```\n",
        "Input: nums1 = [0], m = 0, nums2 = [1], n = 1\n",
        "\n",
        "Output: [1]\n",
        "\n",
        "Explanation: The arrays we are merging are [] and [1].\n",
        "The result of the merge is [1].\n",
        "Note that because m = 0, there are no elements in nums1. The 0 is only there to ensure the merge result can fit in nums1.\n",
        "```\n",
        "\n",
        "### Constraints\n",
        "```\n",
        "nums1.length == m + n\n",
        "\n",
        "nums2.length == n\n",
        "\n",
        "0 <= m, n <= 200\n",
        "\n",
        "1 <= m + n <= 200\n",
        "\n",
        "-109 <= nums1[i], nums2[j] <= 109\n",
        "```\n",
        "\n"
      ],
      "metadata": {
        "id": "L-tIiog30K6H"
      }
    },
    {
      "cell_type": "markdown",
      "source": [
        "For a dummy lets consider the first example `nums1 = [1,2,3,0,0,0], m = 3, nums2 = [2,5,6], n = 3`\n",
        "\n",
        "\n",
        "\n",
        "\n"
      ],
      "metadata": {
        "id": "cjKWseZq5-Au"
      }
    },
    {
      "cell_type": "code",
      "source": [
        "nums1 = [1,2,3,0,0,0]\n",
        "m = 3\n",
        "nums2 = [2,5,6]\n",
        "n = 3"
      ],
      "metadata": {
        "id": "rjELu7Vo6M_7"
      },
      "execution_count": 73,
      "outputs": []
    },
    {
      "cell_type": "markdown",
      "source": [
        "It is given that the length of `nums1` is the original lenght of `nums1` $+$ `nums2`. Our first move should be eliminating the elements of the extra lenght"
      ],
      "metadata": {
        "id": "9zShaPBZ6dz0"
      }
    },
    {
      "cell_type": "code",
      "source": [
        "nums1 = nums1[:len(nums2)] \n",
        "nums1"
      ],
      "metadata": {
        "id": "8zuQBTFmG55U",
        "colab": {
          "base_uri": "https://localhost:8080/"
        },
        "outputId": "8d1ea6e5-5cfd-4616-a949-28c3dc1d51fc"
      },
      "execution_count": 62,
      "outputs": [
        {
          "output_type": "execute_result",
          "data": {
            "text/plain": [
              "[1, 2, 3]"
            ]
          },
          "metadata": {},
          "execution_count": 62
        }
      ]
    },
    {
      "cell_type": "markdown",
      "source": [
        "One way we can approach this problem, is to run a `for` loop for `nums2` and check for evey element of `nums1` if it is greater or smaller "
      ],
      "metadata": {
        "id": "gqHMJHTqJim2"
      }
    },
    {
      "cell_type": "code",
      "source": [
        "for i in nums2:\n",
        "    for j in range(len(nums1)):\n",
        "        if i < nums1[j]:\n",
        "            pass\n",
        "        # We need to do something here major !!!"
      ],
      "metadata": {
        "id": "Y2a8Biv0KNMh"
      },
      "execution_count": 63,
      "outputs": []
    },
    {
      "cell_type": "markdown",
      "source": [
        "One thing we can do here is to add the element at the given index "
      ],
      "metadata": {
        "id": "B7ASUWO6OWXd"
      }
    },
    {
      "cell_type": "code",
      "source": [
        "nums1 = [1,2,3,0,0,0]\n",
        "nums1 = nums1[:len(nums2)] \n",
        "for i in nums2:\n",
        "    for j in range(len(nums1)):\n",
        "        if i < nums1[j]:\n",
        "            nums1.insert(j , i)\n",
        "nums1"
      ],
      "metadata": {
        "colab": {
          "base_uri": "https://localhost:8080/"
        },
        "id": "flxi5PHNOVYz",
        "outputId": "9149b7a9-f94a-4665-8368-c8b4139a1050"
      },
      "execution_count": 74,
      "outputs": [
        {
          "output_type": "execute_result",
          "data": {
            "text/plain": [
              "[1, 2, 2, 3]"
            ]
          },
          "metadata": {},
          "execution_count": 74
        }
      ]
    },
    {
      "cell_type": "markdown",
      "source": [
        "Now we just need to add the rest of the `nums2` to `nums1`"
      ],
      "metadata": {
        "id": "xkPZG6WbPjmF"
      }
    },
    {
      "cell_type": "code",
      "source": [
        "nums1 = [1,2,3,0,0,0]\n",
        "nums1 = nums1[:len(nums2)] \n",
        "for i in nums2:\n",
        "    for j in range(len(nums1)):\n",
        "        if i < nums1[j]:\n",
        "            nums1.insert(j , i)\n",
        "nums1 = nums1 + nums2\n",
        "nums1"
      ],
      "metadata": {
        "colab": {
          "base_uri": "https://localhost:8080/"
        },
        "id": "n6TZeLx3Psmj",
        "outputId": "a3f9e034-a1e3-46e0-a5d3-157f6188e02e"
      },
      "execution_count": 75,
      "outputs": [
        {
          "output_type": "execute_result",
          "data": {
            "text/plain": [
              "[1, 2, 2, 3, 2, 5, 6]"
            ]
          },
          "metadata": {},
          "execution_count": 75
        }
      ]
    },
    {
      "cell_type": "markdown",
      "source": [
        "Here we missed one thing, we also need to remove the element from the `nums2` if it is added to `nums1`"
      ],
      "metadata": {
        "id": "zNTq2Hf3PxVQ"
      }
    },
    {
      "cell_type": "code",
      "source": [
        "nums1 = [1,2,3,0,0,0]\n",
        "nums1 = nums1[:len(nums2)] \n",
        "for i in nums2:\n",
        "    for j in range(len(nums1)):\n",
        "        if i < nums1[j]:\n",
        "            nums1.insert(j , i)\n",
        "            nums2.pop(0)\n",
        "nums1 = nums1 + nums2\n",
        "nums1"
      ],
      "metadata": {
        "colab": {
          "base_uri": "https://localhost:8080/"
        },
        "id": "EM7FiBNBP8tT",
        "outputId": "8db1455e-cb53-42e1-9a76-00d4ca5f63d0"
      },
      "execution_count": 76,
      "outputs": [
        {
          "output_type": "execute_result",
          "data": {
            "text/plain": [
              "[1, 2, 2, 3, 5, 6]"
            ]
          },
          "metadata": {},
          "execution_count": 76
        }
      ]
    },
    {
      "cell_type": "markdown",
      "source": [
        "To counter an edge case, we actually break the loop if the element is added "
      ],
      "metadata": {
        "id": "erFQXgvDQAT6"
      }
    },
    {
      "cell_type": "code",
      "source": [
        "nums1 = [1,2,3,0,0,0]\n",
        "nums2 = [2 , 5 , 6]\n",
        "nums1 = nums1[:len(nums2)] \n",
        "for i in nums2:\n",
        "    for j in range(len(nums1)):\n",
        "        if i < nums1[j]:\n",
        "            nums1.insert(j , i)\n",
        "            nums2.pop(0)\n",
        "            break\n",
        "nums1 = nums1 + nums2\n",
        "nums1"
      ],
      "metadata": {
        "colab": {
          "base_uri": "https://localhost:8080/"
        },
        "id": "c6vAccR7QGCS",
        "outputId": "67f9fc39-9fdc-45d9-e123-f471f9ad2eaa"
      },
      "execution_count": 78,
      "outputs": [
        {
          "output_type": "execute_result",
          "data": {
            "text/plain": [
              "[1, 2, 2, 3, 5, 6]"
            ]
          },
          "metadata": {},
          "execution_count": 78
        }
      ]
    },
    {
      "cell_type": "markdown",
      "source": [
        "And our solution is done, now we just need to put of all of into a function "
      ],
      "metadata": {
        "id": "Y_fkOvAeQMBq"
      }
    },
    {
      "cell_type": "code",
      "source": [
        "class Solution:\n",
        "    def merge(self, nums1: list[int], m: int, nums2: list[int], n: int) -> None:\n",
        "        nums1 = nums1[:len(nums2)]\n",
        "        for i in nums2:\n",
        "            for j in range(len(nums1)):\n",
        "                if i < nums1[j]:\n",
        "                    nums1.insert(j , i)\n",
        "                    nums2.pop(0)\n",
        "                    break\n",
        "        nums1 = nums1 + nums2\n",
        "        return nums1"
      ],
      "metadata": {
        "id": "RwX7Of56gon2"
      },
      "execution_count": 79,
      "outputs": []
    }
  ]
}