{
  "cells": [
    {
      "cell_type": "markdown",
      "metadata": {
        "id": "ri8o0UB1P7Fc"
      },
      "source": [
        "<img src=\"https://i.ibb.co/CvsYJMN/Row-with-maximum-ones.png\">\n",
        "\n",
        "# Question 2643\n",
        "****\n",
        "## Row With Maximum Ones\n",
        "\n",
        "****\n",
        "### Problem Statement -\n",
        "\n",
        "Given a `m x n` binary matrix `mat`, find the **0-indexed** position of the row that contains the **maximum** count of **ones**, and the number of ones in that row.\n",
        "\n",
        "In case there are multiple rows that have the maximum count of ones, the row with the **smallest row number** should be selected.\n",
        "\n",
        "*Return an array containing the index of the row, and the number of ones in it.*\n",
        "****\n",
        "### Examples\n",
        "```\n",
        "Input: mat = [[0,1],[1,0]]\n",
        "\n",
        "Output: [0,1]\n",
        "\n",
        "Explanation: Both rows have the same number of 1's. So we return the index of the smaller row, 0, and the maximum count of ones (1). So, the answer is [0,1].\n",
        "```\n",
        "```\n",
        "Input: mat = [[0,0,0],[0,1,1]]\n",
        "\n",
        "Output: [1,2]\n",
        "\n",
        "Explanation: The row indexed 1 has the maximum count of ones (2). So we return its index, 1, and the count. So, the answer is [1,2].\n",
        "```\n",
        "```\n",
        "Input: mat = [[0,0],[1,1],[0,0]]\n",
        "\n",
        "Output: [1,2]\n",
        "\n",
        "Explanation: The row indexed 1 has the maximum count of ones (2). So the answer is [1,2].\n",
        "```\n",
        "****\n",
        "### Constraints\n",
        "```\n",
        "m == mat.length\n",
        "\n",
        "n == mat[i].length\n",
        "\n",
        "1 <= m, n <= 100\n",
        "\n",
        "mat[i][j] is either 0 or 1.\n",
        "```\n",
        "\n",
        "\n"
      ]
    },
    {
      "cell_type": "markdown",
      "metadata": {
        "id": "QoBHVz0KQgUX"
      },
      "source": [
        "Lets assume we have dummy sample  like this"
      ]
    },
    {
      "cell_type": "code",
      "source": [
        "mat = [[0,0],[1,1],[0,0]]"
      ],
      "metadata": {
        "id": "5Ly-cJ5NLRYx"
      },
      "execution_count": 1,
      "outputs": []
    },
    {
      "cell_type": "markdown",
      "source": [
        "Lets make a list of the sum of these values, the values with the largest sum will have the most $1s$."
      ],
      "metadata": {
        "id": "Xn_qgx9poG2E"
      }
    },
    {
      "cell_type": "code",
      "source": [
        "y = [sum(row) for row in mat]\n",
        "y"
      ],
      "metadata": {
        "colab": {
          "base_uri": "https://localhost:8080/"
        },
        "id": "Gyrsg8juoEbs",
        "outputId": "5348fa89-1124-41d7-f39b-56fab7317f52"
      },
      "execution_count": 2,
      "outputs": [
        {
          "output_type": "execute_result",
          "data": {
            "text/plain": [
              "[0, 2, 0]"
            ]
          },
          "metadata": {},
          "execution_count": 2
        }
      ]
    },
    {
      "cell_type": "markdown",
      "source": [
        "Now we just need to find the maximum element and its index"
      ],
      "metadata": {
        "id": "Xyo2voHpoW78"
      }
    },
    {
      "cell_type": "code",
      "source": [
        "y = [sum(row) for row in mat]\n",
        "\n",
        "maxi = 0\n",
        "ind = 0\n",
        "\n",
        "for index , i in enumerate(y):\n",
        "\n",
        "    if i > maxi:\n",
        "\n",
        "        maxi = i\n",
        "        ind = index\n",
        "\n",
        "[ind , maxi]"
      ],
      "metadata": {
        "colab": {
          "base_uri": "https://localhost:8080/"
        },
        "id": "DaTHg8QvodPE",
        "outputId": "d0dd4769-4f96-4e8c-9fd6-5cf842270889"
      },
      "execution_count": 5,
      "outputs": [
        {
          "output_type": "execute_result",
          "data": {
            "text/plain": [
              "[1, 2]"
            ]
          },
          "metadata": {},
          "execution_count": 5
        }
      ]
    },
    {
      "cell_type": "markdown",
      "source": [
        "And we got the correct answer"
      ],
      "metadata": {
        "id": "83IfmcZtomHm"
      }
    },
    {
      "cell_type": "code",
      "source": [
        "class Solution:\n",
        "\n",
        "    def rowAndMaximumOnes(self, mat: list[list[int]]) -> list[int]:\n",
        "\n",
        "        y = [sum(row) for row in mat]\n",
        "\n",
        "        maxi = 0\n",
        "        ind = 0\n",
        "\n",
        "        for index , i in enumerate(y):\n",
        "\n",
        "            if i > maxi:\n",
        "\n",
        "                maxi = i\n",
        "                ind = index\n",
        "\n",
        "\n",
        "        return [ind , maxi]"
      ],
      "metadata": {
        "id": "ElHJofBAn6ho"
      },
      "execution_count": 6,
      "outputs": []
    }
  ],
  "metadata": {
    "colab": {
      "provenance": []
    },
    "kernelspec": {
      "display_name": "Python 3",
      "name": "python3"
    },
    "language_info": {
      "name": "python"
    }
  },
  "nbformat": 4,
  "nbformat_minor": 0
}
