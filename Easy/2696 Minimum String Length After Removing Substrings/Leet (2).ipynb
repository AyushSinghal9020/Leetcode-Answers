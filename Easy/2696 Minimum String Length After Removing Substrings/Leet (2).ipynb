{
  "cells": [
    {
      "cell_type": "markdown",
      "metadata": {
        "id": "ri8o0UB1P7Fc"
      },
      "source": [
        "# Question 2696\n",
        "****\n",
        "## Minimum String Length After Removing Substrings\n",
        "****\n",
        "### Problem Statement - \n",
        "\n",
        "You are given a string s consisting only of **uppercase** English letters.\n",
        "\n",
        "You can apply some operations to this string where, in one operation, you can remove **any** occurrence of one of the substrings `\"AB\"` or `\"CD\"` from `s`.\n",
        "\n",
        "Return the **minimum** possible length of the resulting string that you can obtain.\n",
        "\n",
        "**Note** that the string concatenates after removing the substring and could produce new `\"AB\"` or `\"CD\"` substrings.\n",
        "****\n",
        "### Examples\n",
        "```\n",
        "Input: s = \"ABFCACDB\"\n",
        "\n",
        "Output: 2\n",
        "\n",
        "Explanation: We can do the following operations:\n",
        "- Remove the substring \"ABFCACDB\", so s = \"FCACDB\".\n",
        "- Remove the substring \"FCACDB\", so s = \"FCAB\".\n",
        "- Remove the substring \"FCAB\", so s = \"FC\".\n",
        "So the resulting length of the string is 2.\n",
        "It can be shown that it is the minimum length that we can obtain.\n",
        "```\n",
        "```\n",
        "Input: s = \"ACBBD\"\n",
        "\n",
        "Output: 5\n",
        "\n",
        "Explanation: We cannot do any operations on the string so the length remains the same.\n",
        "```\n",
        "****\n",
        "### Constraints\n",
        "```\n",
        "1 <= s.length <= 100\n",
        "\n",
        "s consists only of uppercase English letters.\n",
        "```\n",
        "\n",
        "\n"
      ]
    },
    {
      "cell_type": "markdown",
      "metadata": {
        "id": "QoBHVz0KQgUX"
      },
      "source": [
        "Lets assume we have dummy sample  like this "
      ]
    },
    {
      "cell_type": "code",
      "source": [
        "s = \"ABFCACDB\""
      ],
      "metadata": {
        "id": "5Ly-cJ5NLRYx"
      },
      "execution_count": null,
      "outputs": []
    },
    {
      "cell_type": "markdown",
      "source": [
        "Lets first check if the word contains the letters or not"
      ],
      "metadata": {
        "id": "s6cqJMlLMHj1"
      }
    },
    {
      "cell_type": "code",
      "source": [
        "if \"AB\" in s:pass\n",
        "if \"CD\" in s:pass"
      ],
      "metadata": {
        "id": "_m472SGKMG6N"
      },
      "execution_count": null,
      "outputs": []
    },
    {
      "cell_type": "markdown",
      "source": [
        "Now we will replace these string with `\"\"`, indirectly removing them "
      ],
      "metadata": {
        "id": "C1wM4hE0MQtJ"
      }
    },
    {
      "cell_type": "code",
      "source": [
        "if \"AB\" in s:s = s.replace(\"AB\" , \"\")\n",
        "if \"CD\" in s:s = s.replace(\"CD\" , \"\")"
      ],
      "metadata": {
        "id": "ByhrUVVtMXXy"
      },
      "execution_count": null,
      "outputs": []
    },
    {
      "cell_type": "markdown",
      "source": [
        "Now we just need to do this iteratively "
      ],
      "metadata": {
        "id": "RQcxJHDZMaTp"
      }
    },
    {
      "cell_type": "code",
      "execution_count": null,
      "metadata": {
        "id": "pKafjUZ88CFq"
      },
      "outputs": [],
      "source": [
        "while (\"AB\" in s or \"CD\" in s):\n",
        "    if \"AB\" in s:\n",
        "        s = s.replace(\"AB\" , \"\")\n",
        "    if \"CD\" in s:\n",
        "        s = s.replace(\"CD\" , \"\")"
      ]
    },
    {
      "cell_type": "markdown",
      "metadata": {
        "id": "kBaGoHuEQn-t"
      },
      "source": [
        "Now we just need to make a function for this "
      ]
    },
    {
      "cell_type": "code",
      "source": [
        "class Solution:\n",
        "    \n",
        "    def minLength(self, s: str) -> int:\n",
        "        \n",
        "        while (\"AB\" in s or \"CD\" in s):\n",
        "            \n",
        "            if \"AB\" in s:\n",
        "                \n",
        "                s = s.replace(\"AB\" , \"\")\n",
        "            \n",
        "            if \"CD\" in s:\n",
        "                \n",
        "                s = s.replace(\"CD\" , \"\")\n",
        "        \n",
        "        return len(s)"
      ],
      "metadata": {
        "id": "mTkmyUlw0IMZ"
      },
      "execution_count": null,
      "outputs": []
    }
  ],
  "metadata": {
    "colab": {
      "provenance": []
    },
    "kernelspec": {
      "display_name": "Python 3",
      "name": "python3"
    },
    "language_info": {
      "name": "python"
    }
  },
  "nbformat": 4,
  "nbformat_minor": 0
}