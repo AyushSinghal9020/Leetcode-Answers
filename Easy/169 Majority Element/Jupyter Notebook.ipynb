{
  "nbformat": 4,
  "nbformat_minor": 0,
  "metadata": {
    "colab": {
      "provenance": []
    },
    "kernelspec": {
      "name": "python3",
      "display_name": "Python 3"
    },
    "language_info": {
      "name": "python"
    }
  },
  "cells": [
    {
      "cell_type": "markdown",
      "source": [
        "# Question 169\n",
        "## Majority Element\n",
        "### Problem Statement - \n",
        "\n",
        "Given an array `nums` of size `n`, return the majority element.\n",
        "\n",
        "The majority element is the element that appears more than `⌊n / 2⌋` times. You may assume that the majority element always exists in the array.\n",
        "\n",
        "### Examples\n",
        "```\n",
        "Input: nums = [3,2,3]\n",
        "\n",
        "Output: 3\n",
        "```\n",
        "\n",
        "#### Example 2\n",
        "```\n",
        "Input: nums = [2,2,1,1,1,2,2]\n",
        "\n",
        "Output: 2\n",
        "```\n",
        "### Constraints\n",
        "```\n",
        "n == nums.length\n",
        "\n",
        "1 <= n <= 5 * 104\n",
        "\n",
        "-109 <= nums[i] <= 109\n",
        "```\n",
        "\n",
        "\n"
      ],
      "metadata": {
        "id": "ri8o0UB1P7Fc"
      }
    },
    {
      "cell_type": "markdown",
      "source": [
        "Lets assume we have dummy sample  like this "
      ],
      "metadata": {
        "id": "QoBHVz0KQgUX"
      }
    },
    {
      "cell_type": "code",
      "execution_count": 21,
      "metadata": {
        "id": "pKafjUZ88CFq"
      },
      "outputs": [],
      "source": [
        "sample_array = [3,2,3]"
      ]
    },
    {
      "cell_type": "markdown",
      "source": [
        "One way if to make a `dictionary` that stores the `unique` values in the `sample_array` as `keys` and their `number of occurence` as `values`"
      ],
      "metadata": {
        "id": "kBaGoHuEQn-t"
      }
    },
    {
      "cell_type": "code",
      "source": [
        "unique = {}"
      ],
      "metadata": {
        "id": "fleB1pv6-jsm"
      },
      "execution_count": 30,
      "outputs": []
    },
    {
      "cell_type": "markdown",
      "source": [
        "Now we will iterate over the list and check if an `element` exist as `key` in the dictionary, if it do not exist, we add it, else we move on with life..."
      ],
      "metadata": {
        "id": "fNeYH1nZQxrl"
      }
    },
    {
      "cell_type": "code",
      "source": [
        "for i in sample_array:\n",
        "    if i in unique.keys():pass\n",
        "    else :unique[i] = 1"
      ],
      "metadata": {
        "id": "WE2kC4yQHvSM"
      },
      "execution_count": 31,
      "outputs": []
    },
    {
      "cell_type": "code",
      "source": [
        "unique"
      ],
      "metadata": {
        "colab": {
          "base_uri": "https://localhost:8080/"
        },
        "id": "6OxzQ6akmDRN",
        "outputId": "e1f60d4c-ac3a-4902-c758-f3d4a9fbcf9a"
      },
      "execution_count": 32,
      "outputs": [
        {
          "output_type": "execute_result",
          "data": {
            "text/plain": [
              "{3: 1, 2: 1}"
            ]
          },
          "metadata": {},
          "execution_count": 32
        }
      ]
    },
    {
      "cell_type": "markdown",
      "source": [
        "Instead of moving on with life, we can add $1$ to the occurence, if the element exist in the dictionary. "
      ],
      "metadata": {
        "id": "uIXR_NZTlntm"
      }
    },
    {
      "cell_type": "code",
      "source": [
        "unique = {}\n",
        "for i in sample_array:\n",
        "    if i in unique.keys():unique[i] += 1\n",
        "    else :unique[i] = 1\n",
        "unique"
      ],
      "metadata": {
        "colab": {
          "base_uri": "https://localhost:8080/"
        },
        "id": "5w_cB2vHlnLu",
        "outputId": "02537fb5-0109-4200-b627-6754b3e2d9b8"
      },
      "execution_count": 35,
      "outputs": [
        {
          "output_type": "execute_result",
          "data": {
            "text/plain": [
              "{3: 2, 2: 1}"
            ]
          },
          "metadata": {},
          "execution_count": 35
        }
      ]
    },
    {
      "cell_type": "markdown",
      "source": [
        "And thats correct, $3$ occured $2$ times, and $2$ occured $1$ time\n",
        "\n",
        "Now we need to find the maximum value of the dictionary "
      ],
      "metadata": {
        "id": "uil7zMsVmPc3"
      }
    },
    {
      "cell_type": "code",
      "source": [
        "max(unique.values())"
      ],
      "metadata": {
        "colab": {
          "base_uri": "https://localhost:8080/"
        },
        "id": "_CMvvmJTmCn1",
        "outputId": "31433257-bb7a-4424-c0b1-df386a9f2d2c"
      },
      "execution_count": 37,
      "outputs": [
        {
          "output_type": "execute_result",
          "data": {
            "text/plain": [
              "2"
            ]
          },
          "metadata": {},
          "execution_count": 37
        }
      ]
    },
    {
      "cell_type": "markdown",
      "source": [
        "And now we just need to find the key of this value, and we are done. We can do this, just by iterating over the dicionary"
      ],
      "metadata": {
        "id": "CVJ859bzmhx1"
      }
    },
    {
      "cell_type": "code",
      "source": [
        "[i for i in unique if unique[i]==max(unique.values())][0]"
      ],
      "metadata": {
        "colab": {
          "base_uri": "https://localhost:8080/"
        },
        "id": "z_bTS82Lmua9",
        "outputId": "bb55f00a-323e-4168-d248-3b80af49cc13"
      },
      "execution_count": 39,
      "outputs": [
        {
          "output_type": "execute_result",
          "data": {
            "text/plain": [
              "3"
            ]
          },
          "metadata": {},
          "execution_count": 39
        }
      ]
    },
    {
      "cell_type": "markdown",
      "source": [
        "And we got our answer, now we just need to define all of this into a `class`"
      ],
      "metadata": {
        "id": "rvnr96UXm99l"
      }
    },
    {
      "cell_type": "code",
      "source": [
        "class Solution:\n",
        "    \n",
        "    def majorityElement(self, nums: list[int]) -> int:\n",
        "        \n",
        "        uni = {}\n",
        "\n",
        "        for i in nums:\n",
        "            \n",
        "            if i in uni.keys():\n",
        "                \n",
        "                uni[i] += 1\n",
        "            \n",
        "            else :\n",
        "                \n",
        "                uni[i] = 1\n",
        "\n",
        "        return [i for i in uni if uni[i]==max(uni.values())][0]"
      ],
      "metadata": {
        "id": "L3rra93Hm9C2"
      },
      "execution_count": null,
      "outputs": []
    }
  ]
}