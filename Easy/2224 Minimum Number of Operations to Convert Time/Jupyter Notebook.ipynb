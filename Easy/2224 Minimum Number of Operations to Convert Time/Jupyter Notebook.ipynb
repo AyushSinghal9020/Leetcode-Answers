{
 "cells": [
  {
   "cell_type": "markdown",
   "id": "c8441c33",
   "metadata": {},
   "source": [
    "# Question 2224"
   ]
  },
  {
   "cell_type": "markdown",
   "id": "99032886",
   "metadata": {},
   "source": [
    "##  Minimum Number of Operations to Convert Time\n"
   ]
  },
  {
   "cell_type": "markdown",
   "id": "794451dc",
   "metadata": {},
   "source": [
    "## Problem Statement :- "
   ]
  },
  {
   "cell_type": "markdown",
   "id": "67f3c573",
   "metadata": {},
   "source": [
    "    You are given two strings current and correct representing two 24-hour times. 24-hour times are formatted as \"HH:MM\", where HH is between 00 and 23, and MM is between 00 and 59. The earliest 24-hour time is 00:00, and the latest is 23:59. In one operation you can increase the time current by 1, 5, 15, or 60 minutes. You can perform this operation any number of times. Return the minimum number of operations needed to convert current to correct."
   ]
  },
  {
   "cell_type": "markdown",
   "id": "5edfcb39",
   "metadata": {},
   "source": [
    "## Examples"
   ]
  },
  {
   "cell_type": "markdown",
   "id": "c7d3447d",
   "metadata": {},
   "source": [
    "### Example 1 "
   ]
  },
  {
   "cell_type": "markdown",
   "id": "213ac953",
   "metadata": {},
   "source": [
    "### Example : "
   ]
  },
  {
   "cell_type": "markdown",
   "id": "6c0b873a",
   "metadata": {},
   "source": [
    "    Input: \n",
    "        current = \"02:30\"\n",
    "        correct = \"04:35\"\n",
    "    Output: 3"
   ]
  },
  {
   "cell_type": "markdown",
   "id": "2538066f",
   "metadata": {},
   "source": [
    "### Explanantion : "
   ]
  },
  {
   "cell_type": "markdown",
   "id": "e9508c15",
   "metadata": {},
   "source": [
    "    We can convert current to correct in 3 operations as follows:\n",
    "    Add 60 minutes to current. current becomes \"03:30\".\n",
    "    Add 60 minutes to current. current becomes \"04:30\".\n",
    "    Add 5 minutes to current. current becomes \"04:35\".\n",
    "    It can be proven that it is not possible to convert current to correct in fewer than 3 operations."
   ]
  },
  {
   "cell_type": "markdown",
   "id": "85abfdc4",
   "metadata": {},
   "source": [
    "### Example 2 "
   ]
  },
  {
   "cell_type": "markdown",
   "id": "0945a189",
   "metadata": {},
   "source": [
    "### Example 2 : "
   ]
  },
  {
   "cell_type": "markdown",
   "id": "fdac7404",
   "metadata": {},
   "source": [
    "    Input: \n",
    "        current = \"11:00\"\n",
    "        correct = \"11:01\"\n",
    "    Output: 1"
   ]
  },
  {
   "cell_type": "markdown",
   "id": "bb2e926f",
   "metadata": {},
   "source": [
    "### Explanation : "
   ]
  },
  {
   "cell_type": "markdown",
   "id": "0886e155",
   "metadata": {},
   "source": [
    "    We only have to add one minute to current, so the minimum number of operations needed is 1."
   ]
  },
  {
   "cell_type": "markdown",
   "id": "03f3c1c0",
   "metadata": {},
   "source": [
    "## Constrainsts "
   ]
  },
  {
   "cell_type": "markdown",
   "id": "c4fe2df0",
   "metadata": {},
   "source": [
    "    1) Current and correct are in the format \"HH:MM\"\n",
    "    2) Current <= correct"
   ]
  },
  {
   "cell_type": "markdown",
   "id": "c033496f",
   "metadata": {},
   "source": [
    "## Index"
   ]
  },
  {
   "cell_type": "markdown",
   "id": "99fbd507",
   "metadata": {},
   "source": [
    "    1) rsplit(argument) function is used to split string in python at the desired position\n",
    "    2) Position is decided by the argument \n",
    "    3) int() function changes the string to integer format."
   ]
  },
  {
   "cell_type": "markdown",
   "id": "bc69c356",
   "metadata": {},
   "source": [
    "## Solution "
   ]
  },
  {
   "cell_type": "code",
   "execution_count": 1,
   "id": "2fc78c19",
   "metadata": {},
   "outputs": [],
   "source": [
    "class solution:\n",
    "    def answer(self, current_time, correct_time, count  = 0) :\n",
    "\n",
    "        a = current_time.rsplit(\":\")\n",
    "        b = correct_time.rsplit(\":\")\n",
    "\n",
    "        current_time = ((int(a[0]))*60) + int(a[1])\n",
    "        correct_time = ((int(b[0]))*60) + int(b[1])\n",
    "    \n",
    "        difference = correct_time - current_time\n",
    "    \n",
    "        if difference == 0:\n",
    "            return count\n",
    "\n",
    "        else :\n",
    "            while(difference != 0):\n",
    "                if difference>= 60:\n",
    "                    difference = difference - 60\n",
    "                    count  = count + 1\n",
    "        \n",
    "                elif difference>= 15:\n",
    "                    difference = difference - 15\n",
    "                    count = count + 1\n",
    "        \n",
    "                elif difference>= 5:\n",
    "                    difference = difference - 5\n",
    "                    count  = count + 1\n",
    "        \n",
    "                elif difference>= 1:\n",
    "                    difference = difference - 1\n",
    "                    count = count + 1\n",
    "            return count "
   ]
  }
 ],
 "metadata": {
  "kernelspec": {
   "display_name": "Python 3 (ipykernel)",
   "language": "python",
   "name": "python3"
  },
  "language_info": {
   "codemirror_mode": {
    "name": "ipython",
    "version": 3
   },
   "file_extension": ".py",
   "mimetype": "text/x-python",
   "name": "python",
   "nbconvert_exporter": "python",
   "pygments_lexer": "ipython3",
   "version": "3.10.5"
  }
 },
 "nbformat": 4,
 "nbformat_minor": 5
}
