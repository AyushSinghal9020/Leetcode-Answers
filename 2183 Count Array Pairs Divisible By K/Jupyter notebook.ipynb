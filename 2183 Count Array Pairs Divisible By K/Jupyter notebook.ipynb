{
 "cells": [
  {
   "cell_type": "markdown",
   "metadata": {},
   "source": [
    "# Question 2183"
   ]
  },
  {
   "cell_type": "markdown",
   "metadata": {},
   "source": [
    "## Count Array Pairs Divisible by K"
   ]
  },
  {
   "cell_type": "markdown",
   "metadata": {},
   "source": [
    "### Probelm Statement :-"
   ]
  },
  {
   "cell_type": "markdown",
   "metadata": {},
   "source": [
    "Given a **0-indexed** integer array `nums` of length `n` and an integer `k`, return the **number of pairs** `(i, j)` such that:\n",
    "\n",
    "- `0 <= i < j <= n - 1` and\n",
    "- `nums[i] * nums[j]` is divisible by `k`.\n",
    " "
   ]
  },
  {
   "cell_type": "markdown",
   "metadata": {},
   "source": [
    "### Examples"
   ]
  },
  {
   "cell_type": "markdown",
   "metadata": {},
   "source": [
    "#### Example 1 "
   ]
  },
  {
   "cell_type": "markdown",
   "metadata": {},
   "source": [
    "#### Example : "
   ]
  },
  {
   "cell_type": "markdown",
   "metadata": {},
   "source": [
    "    Input :\n",
    "        nums = [1,2,3,4,5], k = 2\n",
    "    Output: \n",
    "        7"
   ]
  },
  {
   "cell_type": "markdown",
   "metadata": {},
   "source": [
    "#### Explanation : "
   ]
  },
  {
   "cell_type": "markdown",
   "metadata": {},
   "source": [
    "The `7` pairs of indices whose corresponding products are divisible by `2` are\n",
    "`(0, 1), (0, 3), (1, 2), (1, 3), (1, 4), (2, 3),` and `(3, 4)`.\n",
    "Their products are `2, 4, 6, 8, 10, 12,` and `20` respectively.\n",
    "Other pairs such as `(0, 2)` and `(2, 4)` have products `3` and `15` respectively, which are not divisible by `2`.    "
   ]
  },
  {
   "cell_type": "markdown",
   "metadata": {},
   "source": []
  },
  {
   "cell_type": "markdown",
   "metadata": {},
   "source": [
    "#### Exmaple 2\n"
   ]
  },
  {
   "cell_type": "markdown",
   "metadata": {},
   "source": [
    "#### Example : \n"
   ]
  },
  {
   "cell_type": "markdown",
   "metadata": {},
   "source": [
    "    Input: \n",
    "        nums = [1,2,3,4], k = 5\n",
    "    Output:\n",
    "        0\n"
   ]
  },
  {
   "cell_type": "markdown",
   "metadata": {},
   "source": [
    "#### Explanation : "
   ]
  },
  {
   "cell_type": "markdown",
   "metadata": {},
   "source": [
    "There does not exist any pair of indices whose corresponding product is divisible by `5`."
   ]
  },
  {
   "cell_type": "markdown",
   "metadata": {},
   "source": [
    "## Constrainsts : "
   ]
  },
  {
   "cell_type": "markdown",
   "metadata": {},
   "source": [
    "- `1 <= nums.length <= 10^5`\n",
    "- `1 <= nums[i], k <= 10^5`"
   ]
  },
  {
   "cell_type": "markdown",
   "metadata": {},
   "source": [
    "## Solution "
   ]
  },
  {
   "cell_type": "code",
   "execution_count": null,
   "metadata": {},
   "outputs": [],
   "source": [
    "class Solution:\n",
    "    \n",
    "    def coutPairs(self, nums: List[int], k: int) -> int:\n",
    "    \n",
    "        N, output = len(nums), 0\n",
    "    \n",
    "        divisors = []\n",
    "    \n",
    "        counter = Counter()\n",
    "        \n",
    "        for i in range(1, k + 1):\n",
    "    \n",
    "            if k % i == 0:\n",
    "    \n",
    "                divisors.append(i)\n",
    "        \n",
    "        for i in range(0, N):\n",
    "    \n",
    "            remainder = kc \n",
    "            output += counter[remainder]\n",
    "    \n",
    "            for divisor in divisors:\n",
    "    \n",
    "                if nums[i] % divisor == 0:\n",
    "    \n",
    "                    counter[divisor] += 1\n",
    "            \n",
    "        return output"
   ]
  }
 ],
 "metadata": {
  "kernelspec": {
   "display_name": "Python 3.10.4 64-bit",
   "language": "python",
   "name": "python3"
  },
  "language_info": {
   "codemirror_mode": {
    "name": "ipython",
    "version": 3
   },
   "file_extension": ".py",
   "mimetype": "text/x-python",
   "name": "python",
   "nbconvert_exporter": "python",
   "pygments_lexer": "ipython3",
   "version": "3.10.4"
  },
  "orig_nbformat": 4,
  "vscode": {
   "interpreter": {
    "hash": "3ad933181bd8a04b432d3370b9dc3b0662ad032c4dfaa4e4f1596c548f763858"
   }
  }
 },
 "nbformat": 4,
 "nbformat_minor": 2
}
