{
  "nbformat": 4,
  "nbformat_minor": 0,
  "metadata": {
    "colab": {
      "provenance": []
    },
    "kernelspec": {
      "name": "python3",
      "display_name": "Python 3"
    },
    "language_info": {
      "name": "python"
    }
  },
  "cells": [
    {
      "cell_type": "markdown",
      "source": [
        "# Question 139\n",
        "## Word Break\n",
        "### Problem Statement - \n",
        "\n",
        "Given a string `s` and a dictionary of strings `wordDict`, return `true` if `s` can be segmented into a space-separated sequence of one or more dictionary words.\n",
        "\n",
        "**Note** that the same word in the dictionary may be reused multiple times in the segmentation.\n",
        "\n",
        " \n",
        "### Examples\n",
        "#### Example 1\n",
        "\n",
        "**Input**: `s = \"leetcode\", wordDict = [\"leet\",\"code\"]`\n",
        "\n",
        "**Output**: `true`\n",
        "\n",
        "**Explanation**: Return true because \"leetcode\" can be segmented as \"leet code\".\n",
        "\n",
        "#### Example 2\n",
        "\n",
        "**Input**: `s = \"applepenapple\", wordDict = [\"apple\",\"pen\"]`\n",
        "\n",
        "**Output**: `true`\n",
        "\n",
        "**Explanation**: Return true because \"applepenapple\" can be segmented as \"apple pen apple\".\n",
        "\n",
        "Note that you are allowed to reuse a dictionary word.\n",
        "\n",
        "#### Example 3\n",
        "\n",
        "**Input**: `s = \"catsandog\", wordDict = [\"cats\",\"dog\",\"sand\",\"and\",\"cat\"]`\n",
        "\n",
        "**Output**: `false`\n",
        "\n",
        "### Constraints\n",
        "* `1 <= s.length <= 300`\n",
        "* `1 <= wordDict.length <= 1000`\n",
        "* `1 <= wordDict[i].length <= 20`\n",
        "* `s` and `wordDict[i]` consist of only lowercase English letters.\n",
        "* All the strings of `wordDict` are unique.\n",
        " \n",
        "\n"
      ],
      "metadata": {
        "id": "L-tIiog30K6H"
      }
    },
    {
      "cell_type": "markdown",
      "source": [
        "For a dummy lets consider the first example `x = \"catsandog\"` , `wordDict = [\"cats\",\"dog\",\"sand\",\"and\",\"cat\"]`\n",
        "\n",
        "\n",
        "\n",
        "\n",
        "\n"
      ],
      "metadata": {
        "id": "cjKWseZq5-Au"
      }
    },
    {
      "cell_type": "code",
      "source": [
        "s = \"catsandog\"\n",
        "wordDict = [\"cats\",\"dog\",\"sand\",\"and\",\"cat\"]"
      ],
      "metadata": {
        "id": "rjELu7Vo6M_7"
      },
      "execution_count": 2,
      "outputs": []
    },
    {
      "cell_type": "markdown",
      "source": [
        "Lets first iterate over the list and remove the owrds from the string"
      ],
      "metadata": {
        "id": "9zShaPBZ6dz0"
      }
    },
    {
      "cell_type": "markdown",
      "source": [
        "Doing the list indexing "
      ],
      "metadata": {
        "id": "vUpyiuaWHRpv"
      }
    },
    {
      "cell_type": "code",
      "source": [
        "wordDict[0]"
      ],
      "metadata": {
        "colab": {
          "base_uri": "https://localhost:8080/",
          "height": 36
        },
        "id": "N68KN63THRMv",
        "outputId": "d623ea68-e15a-43d1-a9d8-94c076b01758"
      },
      "execution_count": 5,
      "outputs": [
        {
          "output_type": "execute_result",
          "data": {
            "text/plain": [
              "'cats'"
            ],
            "application/vnd.google.colaboratory.intrinsic+json": {
              "type": "string"
            }
          },
          "metadata": {},
          "execution_count": 5
        }
      ]
    },
    {
      "cell_type": "markdown",
      "source": [
        "Doing the string indexing at the list indexed "
      ],
      "metadata": {
        "id": "7VuHeJEuHYAf"
      }
    },
    {
      "cell_type": "code",
      "source": [
        "wordDict[0][-1]"
      ],
      "metadata": {
        "colab": {
          "base_uri": "https://localhost:8080/",
          "height": 36
        },
        "id": "r9XCYn9UHNwH",
        "outputId": "d6fddf14-c617-4eeb-edb3-eae59905ddc4"
      },
      "execution_count": 6,
      "outputs": [
        {
          "output_type": "execute_result",
          "data": {
            "text/plain": [
              "'s'"
            ],
            "application/vnd.google.colaboratory.intrinsic+json": {
              "type": "string"
            }
          },
          "metadata": {},
          "execution_count": 6
        }
      ]
    },
    {
      "cell_type": "markdown",
      "source": [
        "If we try to locate this word in the string "
      ],
      "metadata": {
        "id": "-516hqBCHfcA"
      }
    },
    {
      "cell_type": "code",
      "source": [
        "s.index(wordDict[0][-1])"
      ],
      "metadata": {
        "colab": {
          "base_uri": "https://localhost:8080/"
        },
        "id": "39PgJJYfHsNu",
        "outputId": "ec2c74cc-fb46-4aef-ce98-2a24f43ce3b2"
      },
      "execution_count": 7,
      "outputs": [
        {
          "output_type": "execute_result",
          "data": {
            "text/plain": [
              "3"
            ]
          },
          "metadata": {},
          "execution_count": 7
        }
      ]
    },
    {
      "cell_type": "markdown",
      "source": [
        "Now we just need to slice the list at this position"
      ],
      "metadata": {
        "id": "C-BctnZYHyl1"
      }
    },
    {
      "cell_type": "code",
      "source": [
        "s[s.index(wordDict[0][-1]):]"
      ],
      "metadata": {
        "colab": {
          "base_uri": "https://localhost:8080/",
          "height": 36
        },
        "id": "SEjeJ_hsH29H",
        "outputId": "47adf2e8-e729-41c7-d585-4b77e07acdf7"
      },
      "execution_count": 8,
      "outputs": [
        {
          "output_type": "execute_result",
          "data": {
            "text/plain": [
              "'sandog'"
            ],
            "application/vnd.google.colaboratory.intrinsic+json": {
              "type": "string"
            }
          },
          "metadata": {},
          "execution_count": 8
        }
      ]
    },
    {
      "cell_type": "markdown",
      "source": [
        "As the function is inclusive we need to atke a step forward and then do the same "
      ],
      "metadata": {
        "id": "zjO7mgGoH8x2"
      }
    },
    {
      "cell_type": "code",
      "source": [
        "s[s.index(wordDict[0][-1]) + 1:]"
      ],
      "metadata": {
        "colab": {
          "base_uri": "https://localhost:8080/",
          "height": 36
        },
        "id": "cGCYjtfJIDpn",
        "outputId": "4a5b590b-3550-4fb5-864c-c460efc5e00a"
      },
      "execution_count": 10,
      "outputs": [
        {
          "output_type": "execute_result",
          "data": {
            "text/plain": [
              "'andog'"
            ],
            "application/vnd.google.colaboratory.intrinsic+json": {
              "type": "string"
            }
          },
          "metadata": {},
          "execution_count": 10
        }
      ]
    },
    {
      "cell_type": "markdown",
      "source": [
        "What if we do this iteratively over the list "
      ],
      "metadata": {
        "id": "O8oinQLVHI2g"
      }
    },
    {
      "cell_type": "code",
      "source": [
        "for i in range(len(wordDict)):\n",
        "    a = s[s.index(wordDict[i][-1]) + 1:]\n",
        "    print(a)"
      ],
      "metadata": {
        "colab": {
          "base_uri": "https://localhost:8080/"
        },
        "id": "hmyGgHyfGgkE",
        "outputId": "956376df-bde4-4d82-aadb-c65f9d315d64"
      },
      "execution_count": 15,
      "outputs": [
        {
          "output_type": "stream",
          "name": "stdout",
          "text": [
            "andog\n",
            "\n",
            "og\n",
            "og\n",
            "sandog\n"
          ]
        }
      ]
    },
    {
      "cell_type": "markdown",
      "source": [
        "And we got pretty good outputs, that we want "
      ],
      "metadata": {
        "id": "01juGRonIoTi"
      }
    },
    {
      "cell_type": "markdown",
      "source": [
        "Now we just need to find a way, that this function then do not runs with the same input(string) but take the output, \n",
        "\n",
        "I dont know why but this line reminds me of recurssion, which does the pretty same thing "
      ],
      "metadata": {
        "id": "xTdIKA4OItLE"
      }
    },
    {
      "cell_type": "code",
      "source": [
        "i = 0\n",
        "def func(x , wordDict , value):\n",
        "    if value == len(wordDict) : \n",
        "        return True\n",
        "    elif wordDict[value] in x:\n",
        "        a = x[x.index(wordDict[value][-1]) + 1:]\n",
        "        return func(a , wordDict , value + 1)\n",
        "    else:\n",
        "        return False"
      ],
      "metadata": {
        "id": "hrouc6zrJAvG"
      },
      "execution_count": 16,
      "outputs": []
    },
    {
      "cell_type": "markdown",
      "source": [
        "And that is the actual answer, now we just need to beuatify it a little bit "
      ],
      "metadata": {
        "id": "3fiAUlfBJK5l"
      }
    },
    {
      "cell_type": "code",
      "source": [
        "class Solution:\n",
        "    def wordBreak(self, s: str, wordDict: list[str]) -> bool:\n",
        "        i = 0\n",
        "        def func(x , wordDict , value):\n",
        "            if value == len(wordDict) : \n",
        "                return True\n",
        "            elif wordDict[value] in x:\n",
        "                a = x[x.index(wordDict[value][-1]) + 1:]\n",
        "                return func(a , wordDict , value + 1)\n",
        "            else:\n",
        "                return False\n",
        "\n",
        "        func(s , wordDict , 0)"
      ],
      "metadata": {
        "id": "OCQcT9w7JKYY"
      },
      "execution_count": 17,
      "outputs": []
    }
  ]
}