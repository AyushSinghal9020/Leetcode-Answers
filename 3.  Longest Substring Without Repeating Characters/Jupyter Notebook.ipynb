{
 "cells": [
  {
   "cell_type": "markdown",
   "metadata": {},
   "source": [
    "# Question 3"
   ]
  },
  {
   "cell_type": "markdown",
   "metadata": {},
   "source": [
    "###  Longest Substring Without Repeating Characters"
   ]
  },
  {
   "cell_type": "markdown",
   "metadata": {},
   "source": [
    "### Problem Statement :-"
   ]
  },
  {
   "cell_type": "markdown",
   "metadata": {},
   "source": [
    "Given a string `s`, find the length of the **longest \n",
    "substring**((A `substring` is a contiguous non-empty sequebce of characters within a string) without repeating characters."
   ]
  },
  {
   "cell_type": "markdown",
   "metadata": {},
   "source": [
    "### Examples"
   ]
  },
  {
   "cell_type": "markdown",
   "metadata": {},
   "source": [
    "#### Example 1"
   ]
  },
  {
   "cell_type": "markdown",
   "metadata": {},
   "source": [
    "##### Example :"
   ]
  },
  {
   "cell_type": "markdown",
   "metadata": {},
   "source": [
    "    Input: \n",
    "        s = \"abcabcbb\"\n",
    "    Output: \n",
    "        3"
   ]
  },
  {
   "cell_type": "markdown",
   "metadata": {},
   "source": [
    "#### Explanation \n"
   ]
  },
  {
   "cell_type": "markdown",
   "metadata": {},
   "source": [
    "The answer is `abc`, with the length of `3`."
   ]
  },
  {
   "cell_type": "markdown",
   "metadata": {},
   "source": [
    "#### Example 2"
   ]
  },
  {
   "cell_type": "markdown",
   "metadata": {},
   "source": [
    "#### Example :-"
   ]
  },
  {
   "cell_type": "markdown",
   "metadata": {},
   "source": [
    "    Input: \n",
    "        s = \"bbbbb\"\n",
    "    Output: \n",
    "        1"
   ]
  },
  {
   "cell_type": "markdown",
   "metadata": {},
   "source": [
    "### Example 3"
   ]
  },
  {
   "cell_type": "markdown",
   "metadata": {},
   "source": [
    "#### Example "
   ]
  },
  {
   "cell_type": "markdown",
   "metadata": {},
   "source": [
    "    Input: \n",
    "        l1 = [9,9,9,9,9,9,9]\n",
    "        l2 = [9,9,9,9]\n",
    "    Output: \n",
    "        [8,9,9,9,0,0,0,1]"
   ]
  },
  {
   "cell_type": "markdown",
   "metadata": {},
   "source": [
    "#### Explanation "
   ]
  },
  {
   "cell_type": "markdown",
   "metadata": {},
   "source": [
    "The answer is `b`, with the length of `1`."
   ]
  },
  {
   "cell_type": "markdown",
   "metadata": {},
   "source": [
    "#### Example 3"
   ]
  },
  {
   "cell_type": "markdown",
   "metadata": {},
   "source": [
    "Example : "
   ]
  },
  {
   "cell_type": "markdown",
   "metadata": {},
   "source": [
    "    Input: \n",
    "        s = \"pwwkew\"\n",
    "    Output: \n",
    "        3"
   ]
  },
  {
   "cell_type": "markdown",
   "metadata": {},
   "source": [
    "#### Explantion"
   ]
  },
  {
   "cell_type": "markdown",
   "metadata": {},
   "source": [
    "The answer is `wke`, with the length of `3`.\n",
    "Notice that the answer must be a substring, `pwke` is a subsequence and not a substring."
   ]
  },
  {
   "cell_type": "markdown",
   "metadata": {},
   "source": [
    "#### Constraints :"
   ]
  },
  {
   "cell_type": "markdown",
   "metadata": {},
   "source": [
    "- `0 <= s.length <= 5 * 104`\n",
    "- `s` consists of English letters, digits, symbols and spaces"
   ]
  },
  {
   "cell_type": "markdown",
   "metadata": {},
   "source": [
    "#### Solution"
   ]
  },
  {
   "cell_type": "code",
   "execution_count": null,
   "metadata": {},
   "outputs": [],
   "source": [
    "class Solution:\n",
    "    # @return an integer\n",
    "    def lengthOfLongestSubstring(self, s):\n",
    "        start = maxLength = 0\n",
    "        usedChar = {}\n",
    "        \n",
    "        for i in range(len(s)):\n",
    "            if s[i] in usedChar and start <= usedChar[s[i]]:\n",
    "                start = usedChar[s[i]] + 1\n",
    "            else:\n",
    "                maxLength = max(maxLength, i - start + 1)\n",
    "\n",
    "            usedChar[s[i]] = i\n",
    "\n",
    "        return maxLength\n"
   ]
  }
 ],
 "metadata": {
  "kernelspec": {
   "display_name": "Python 3.10.4 64-bit",
   "language": "python",
   "name": "python3"
  },
  "language_info": {
   "codemirror_mode": {
    "name": "ipython",
    "version": 3
   },
   "file_extension": ".py",
   "mimetype": "text/x-python",
   "name": "python",
   "nbconvert_exporter": "python",
   "pygments_lexer": "ipython3",
   "version": "3.10.4"
  },
  "orig_nbformat": 4,
  "vscode": {
   "interpreter": {
    "hash": "3ad933181bd8a04b432d3370b9dc3b0662ad032c4dfaa4e4f1596c548f763858"
   }
  }
 },
 "nbformat": 4,
 "nbformat_minor": 2
}
