{
  "nbformat": 4,
  "nbformat_minor": 0,
  "metadata": {
    "colab": {
      "provenance": []
    },
    "kernelspec": {
      "name": "python3",
      "display_name": "Python 3"
    },
    "language_info": {
      "name": "python"
    }
  },
  "cells": [
    {
      "cell_type": "markdown",
      "source": [
        "# Question 9\n",
        "## Palindrome Number\n",
        "### Problem Statement - \n",
        "\n",
        "Given an integer `x`, return `true` if `x` is a [palindrome](https://www.google.com/search?q=palindrome&oq=palindo&aqs=chrome.1.69i57j0i10i433i512l2j0i10i512j0i10i131i433i512j0i10i433i512l2j0i10i512l3.3529j0j4&sourceid=chrome&ie=UTF-8) , and `false` otherwise.\n",
        "### Examples\n",
        "#### Example 1\n",
        "\n",
        "**Input**: x = 121\n",
        "\n",
        "**Output**: true\n",
        "\n",
        "**Explanation**: 121 reads as 121 from left to right and from right to left.\n",
        "\n",
        "#### Example 2\n",
        "**Input**: x = -121\n",
        "\n",
        "**Output**: false\n",
        "\n",
        "**Explanation**: From left to right, it reads -121. From right to left, it becomes 121-. Therefore it is not a palindrome.\n",
        "#### Example 3\n",
        "\n",
        "**Input**: x = 10\n",
        "\n",
        "**Output**: false\n",
        "\n",
        "**Explanation**: Reads 01 from right to left. Therefore it is not a palindrome.\n",
        " \n",
        "\n",
        "### Constraints\n",
        "* -231 <= x <= 231 - 1\n",
        " \n",
        "\n"
      ],
      "metadata": {
        "id": "L-tIiog30K6H"
      }
    },
    {
      "cell_type": "markdown",
      "source": [
        "The first inturition we get is to convert this into a string then into a list, rotate the list, then convert back into string and  then the number, if the number matches boom, True, else False. But the question try not to use string, For intialization we wil be using string conversion, but we will find a way not to use string. We will be using the first example as our dummy test case"
      ],
      "metadata": {
        "id": "NBwu7OiT1qXO"
      }
    },
    {
      "cell_type": "code",
      "source": [
        "input = 121"
      ],
      "metadata": {
        "id": "ssr-AohH0KeQ"
      },
      "execution_count": 17,
      "outputs": []
    },
    {
      "cell_type": "markdown",
      "source": [
        "For creating it into a string "
      ],
      "metadata": {
        "id": "yzE-753i22U6"
      }
    },
    {
      "cell_type": "code",
      "source": [
        "str(input)"
      ],
      "metadata": {
        "id": "8G4jYvaG3JMs",
        "colab": {
          "base_uri": "https://localhost:8080/",
          "height": 35
        },
        "outputId": "f2eb41ae-cdc0-4e5d-d930-6a3e18922972"
      },
      "execution_count": 18,
      "outputs": [
        {
          "output_type": "execute_result",
          "data": {
            "text/plain": [
              "'121'"
            ],
            "application/vnd.google.colaboratory.intrinsic+json": {
              "type": "string"
            }
          },
          "metadata": {},
          "execution_count": 18
        }
      ]
    },
    {
      "cell_type": "markdown",
      "source": [
        "Then to list "
      ],
      "metadata": {
        "id": "zBNOK_MK3RaU"
      }
    },
    {
      "cell_type": "code",
      "source": [
        "list(str(input))"
      ],
      "metadata": {
        "id": "BE26xsZq3lCb",
        "colab": {
          "base_uri": "https://localhost:8080/"
        },
        "outputId": "75221168-9e68-4f6c-af61-8ab541b4038e"
      },
      "execution_count": 19,
      "outputs": [
        {
          "output_type": "execute_result",
          "data": {
            "text/plain": [
              "['1', '2', '1']"
            ]
          },
          "metadata": {},
          "execution_count": 19
        }
      ]
    },
    {
      "cell_type": "markdown",
      "source": [
        "For rotating the list, we will just create a new list, and put the elements there in a sequence "
      ],
      "metadata": {
        "id": "cefBXilN3w9a"
      }
    },
    {
      "cell_type": "code",
      "source": [
        "z = [list(str(input))[-i] for i in range (1 , len(list(str(input))) + 1)]"
      ],
      "metadata": {
        "id": "IhZgrSYI4B-r"
      },
      "execution_count": 23,
      "outputs": []
    },
    {
      "cell_type": "code",
      "source": [
        "z"
      ],
      "metadata": {
        "colab": {
          "base_uri": "https://localhost:8080/"
        },
        "id": "FQPHEwHtXA18",
        "outputId": "de82706e-e599-4a20-f270-060fd2a1ebee"
      },
      "execution_count": 24,
      "outputs": [
        {
          "output_type": "execute_result",
          "data": {
            "text/plain": [
              "['1', '2', '1']"
            ]
          },
          "metadata": {},
          "execution_count": 24
        }
      ]
    },
    {
      "cell_type": "markdown",
      "source": [
        "Now we will just create a string of this reserved list "
      ],
      "metadata": {
        "id": "BNPWCM424U_q"
      }
    },
    {
      "cell_type": "code",
      "source": [
        "sample_str = \"\"\n",
        "for j in z: sample_str += j"
      ],
      "metadata": {
        "id": "zV-O2fUG4Urb"
      },
      "execution_count": 26,
      "outputs": []
    },
    {
      "cell_type": "code",
      "source": [
        "sample_str"
      ],
      "metadata": {
        "colab": {
          "base_uri": "https://localhost:8080/",
          "height": 35
        },
        "id": "WZRfwzPqXIJc",
        "outputId": "f4ed00a0-30ff-4057-9312-4f8d8af73495"
      },
      "execution_count": 27,
      "outputs": [
        {
          "output_type": "execute_result",
          "data": {
            "text/plain": [
              "'121'"
            ],
            "application/vnd.google.colaboratory.intrinsic+json": {
              "type": "string"
            }
          },
          "metadata": {},
          "execution_count": 27
        }
      ]
    },
    {
      "cell_type": "markdown",
      "source": [
        "Now we just need to check if the number is same or not "
      ],
      "metadata": {
        "id": "QawfWsHbXQQU"
      }
    },
    {
      "cell_type": "code",
      "source": [
        "if input == int(sample_str):\n",
        "    print(True)\n",
        "else : \n",
        "    print(False)"
      ],
      "metadata": {
        "colab": {
          "base_uri": "https://localhost:8080/"
        },
        "id": "8Hd4DNBIXPfU",
        "outputId": "3afd0fd7-5e9a-4092-de3a-ef569d8feae9"
      },
      "execution_count": 28,
      "outputs": [
        {
          "output_type": "stream",
          "name": "stdout",
          "text": [
            "True\n"
          ]
        }
      ]
    },
    {
      "cell_type": "markdown",
      "source": [
        "There is one edge case scenario here, if the inout is having a `-` sign, we will not be able to convert it into integer, and crashing the program, lets add a try catch statement to bypass the case"
      ],
      "metadata": {
        "id": "myYuINhyXhVq"
      }
    },
    {
      "cell_type": "code",
      "source": [
        "try :\n",
        "    if input == int(sample_str):\n",
        "        print(True)\n",
        "    else : \n",
        "        print(False)\n",
        "except :\n",
        "    print(False)"
      ],
      "metadata": {
        "colab": {
          "base_uri": "https://localhost:8080/"
        },
        "id": "Cy0AiEkEXxGC",
        "outputId": "b56ca6f6-a4bd-4902-ecff-d710d607841a"
      },
      "execution_count": 29,
      "outputs": [
        {
          "output_type": "stream",
          "name": "stdout",
          "text": [
            "True\n"
          ]
        }
      ]
    },
    {
      "cell_type": "markdown",
      "source": [
        "Now lets just place this code in a function and then in a class for generlization "
      ],
      "metadata": {
        "id": "B1DeYn4aXw0r"
      }
    },
    {
      "cell_type": "code",
      "source": [
        "class Solution:\n",
        "    def isPalindrome(self, x: int) -> bool:\n",
        "        \n",
        "        z = [list(str(input))[-i] \n",
        "             for i in range (1 , len(list(str(input))) + 1)]\n",
        "        \n",
        "        sample_str = \"\"\n",
        "        \n",
        "        for j in z: sample_str += j\n",
        "        \n",
        "        try :\n",
        "        \n",
        "            if input == int(sample_str): \n",
        "                \n",
        "                return True\n",
        "        \n",
        "            else : \n",
        "                \n",
        "                return False\n",
        "        \n",
        "        except : \n",
        "            \n",
        "            return False"
      ],
      "metadata": {
        "id": "MT6Izk44YBkQ"
      },
      "execution_count": 30,
      "outputs": []
    }
  ]
}