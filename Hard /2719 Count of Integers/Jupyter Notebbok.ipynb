{
  "cells": [
    {
      "cell_type": "markdown",
      "metadata": {
        "id": "ri8o0UB1P7Fc"
      },
      "source": [
        "# Question 2719\n",
        "****\n",
        "## Count of Integers\n",
        "****\n",
        "### Problem Statement - \n",
        "\n",
        "You are given two numeric strings `num1` and `num2` and two integers `max_sum` and `min_sum`. We denote an integer `x` to be good if:\n",
        "\n",
        "* `num1 <= x <= num2`\n",
        "* `min_sum <= digit_sum(x) <= max_sum`\n",
        "\n",
        "Return the number of good integers. Since the answer may be large, return it modulo $10^9 + 7$.\n",
        "\n",
        "Note that `digit_sum(x)` denotes the sum of the digits of `x`.\n",
        "****\n",
        "### Examples\n",
        "```\n",
        "Input: num1 = \"1\", num2 = \"12\", min_sum = 1, max_sum = 8\n",
        "\n",
        "Output: 11\n",
        "\n",
        "Explanation: There are 11 integers whose sum of digits lies between 1 and 8 are 1,2,3,4,5,6,7,8,10,11, and 12. Thus, we return 11.\n",
        "```\n",
        "```\n",
        "Input: num1 = \"1\", num2 = \"5\", min_sum = 1, max_sum = 5\n",
        "\n",
        "Output: 5\n",
        "\n",
        "Explanation: The 5 integers whose sum of digits lies between 1 and 5 are 1,2,3,4, and 5. Thus, we return 5.\n",
        "```\n",
        "****\n",
        "### Constraints\n",
        "```\n",
        "1 <= num1 <= num2 <= 10^22\n",
        "\n",
        "1 <= min_sum <= max_sum <= 400\n",
        "```\n",
        "\n",
        "\n"
      ]
    },
    {
      "cell_type": "markdown",
      "metadata": {
        "id": "QoBHVz0KQgUX"
      },
      "source": [
        "Lets assume we have dummy sample  like this "
      ]
    },
    {
      "cell_type": "code",
      "execution_count": 53,
      "metadata": {
        "id": "pKafjUZ88CFq"
      },
      "outputs": [],
      "source": [
        "num1 = \"1\"\n",
        "num2 = \"12\"\n",
        "min_sum = 1\n",
        "max_sum = 8"
      ]
    },
    {
      "cell_type": "markdown",
      "metadata": {
        "id": "kBaGoHuEQn-t"
      },
      "source": [
        "A `Brute Force Solution`, would be just checking the condtion\n",
        "* Iterste from `int(num1)` to `int(num2)`.\n",
        "* Sum the values\n",
        "* Check the condtion\n",
        "* If `True`, increase the count with $1$.\n",
        "\n",
        "Lets for once try to apply this \n",
        "\n",
        "# Iterating"
      ]
    },
    {
      "cell_type": "code",
      "source": [
        "for num in range(int(num1) , int(num2)):pass"
      ],
      "metadata": {
        "id": "mTkmyUlw0IMZ"
      },
      "execution_count": 55,
      "outputs": []
    },
    {
      "cell_type": "markdown",
      "source": [
        "# 2 | Summing"
      ],
      "metadata": {
        "id": "s_D2MYmB0ip2"
      }
    },
    {
      "cell_type": "code",
      "source": [
        "for num in range(int(num1) , int(num2)):\n",
        "    val = sum(int(j) for j in str(num))"
      ],
      "metadata": {
        "id": "hiqBDFbL0ocW"
      },
      "execution_count": 59,
      "outputs": []
    },
    {
      "cell_type": "markdown",
      "source": [
        "# 3 | Condition Gneration"
      ],
      "metadata": {
        "id": "-AT08X5_1Ags"
      }
    },
    {
      "cell_type": "code",
      "source": [
        "for num in range(int(num1) , int(num2)):\n",
        "    val = sum(int(j) for j in str(num))\n",
        "    condition = val >= min_sum and val <= max_sum\n",
        "    if condition:pass"
      ],
      "metadata": {
        "id": "O4Gw8n470_00"
      },
      "execution_count": 61,
      "outputs": []
    },
    {
      "cell_type": "markdown",
      "source": [
        "# 4 | Count"
      ],
      "metadata": {
        "id": "KbC20M9f1XBk"
      }
    },
    {
      "cell_type": "code",
      "execution_count": 62,
      "metadata": {
        "id": "b0mWT2bbXCdE"
      },
      "outputs": [],
      "source": [
        "count = 0\n",
        "\n",
        "for num in range(int(num1) , int(num2)):\n",
        "    val = sum(int(j) for j in str(num))\n",
        "    condition = val >= min_sum and val <= max_sum\n",
        "    if condition: count += 1"
      ]
    },
    {
      "cell_type": "code",
      "execution_count": 63,
      "metadata": {
        "colab": {
          "base_uri": "https://localhost:8080/"
        },
        "id": "Z4XqqkdT6Ytn",
        "outputId": "4ad82ee2-6ca9-47a3-d875-9223a78192b2"
      },
      "outputs": [
        {
          "output_type": "execute_result",
          "data": {
            "text/plain": [
              "10"
            ]
          },
          "metadata": {},
          "execution_count": 63
        }
      ],
      "source": [
        "count"
      ]
    },
    {
      "cell_type": "markdown",
      "source": [
        "There is a small problem with this code, this can be very `computationaly expensive`. Let me show you an example "
      ],
      "metadata": {
        "id": "7qg5K92l1rcw"
      }
    },
    {
      "cell_type": "code",
      "source": [
        "import tqdm"
      ],
      "metadata": {
        "id": "9b8WNsM611rt"
      },
      "execution_count": 66,
      "outputs": []
    },
    {
      "cell_type": "code",
      "source": [
        "num1 = \"1\"\n",
        "num2 = \"9999999\"\n",
        "min_sum = 1\n",
        "max_sum = 48"
      ],
      "metadata": {
        "id": "F5vAM06-15g8"
      },
      "execution_count": 81,
      "outputs": []
    },
    {
      "cell_type": "code",
      "source": [
        "count = 0\n",
        "\n",
        "for num in tqdm.tqdm(range(int(num1) , int(num2)) , total = abs(int(num1) - int(num2))):\n",
        "    val = sum(int(j) for j in str(num))\n",
        "    condition = val >= min_sum and val <= max_sum\n",
        "    if condition: count += 1"
      ],
      "metadata": {
        "colab": {
          "base_uri": "https://localhost:8080/"
        },
        "id": "u0GuPvLt1_qL",
        "outputId": "68c57c71-5373-4404-f025-b8c9d927b25d"
      },
      "execution_count": 82,
      "outputs": [
        {
          "output_type": "stream",
          "name": "stderr",
          "text": [
            "100%|██████████| 9999998/9999998 [00:25<00:00, 393417.52it/s]\n"
          ]
        }
      ]
    },
    {
      "cell_type": "markdown",
      "source": [
        "And it took around $25$ seconds (as of this run)\n",
        "\n",
        "We are given a constrain of `num2 <= 10^22`. We chose a very small number for example, if we took $10^{22}$, it would take around $674854088282:50:17$ $hours$ or around $111583017+$ $years$ "
      ],
      "metadata": {
        "id": "EQB10L6I2X0q"
      }
    }
  ],
  "metadata": {
    "colab": {
      "provenance": []
    },
    "kernelspec": {
      "display_name": "Python 3",
      "name": "python3"
    },
    "language_info": {
      "name": "python"
    }
  },
  "nbformat": 4,
  "nbformat_minor": 0
}