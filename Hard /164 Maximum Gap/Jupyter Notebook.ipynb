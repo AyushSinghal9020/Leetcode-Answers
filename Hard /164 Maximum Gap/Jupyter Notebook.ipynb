{
  "nbformat": 4,
  "nbformat_minor": 0,
  "metadata": {
    "colab": {
      "provenance": []
    },
    "kernelspec": {
      "name": "python3",
      "display_name": "Python 3"
    },
    "language_info": {
      "name": "python"
    }
  },
  "cells": [
    {
      "cell_type": "markdown",
      "source": [
        "# Question 164\n",
        "## Maximum Gap\n",
        "### Problem Statement - \n",
        "\n",
        "Given an integer array `nums`, return the maximum difference between two successive elements in its sorted form. If the array contains less than two elements, return `0`.\n",
        "\n",
        "You must write an algorithm that runs in linear time and uses linear extra space.\n",
        " \n",
        " \n",
        "### Examples\n",
        "#### Example 1\n",
        "\n",
        "**Input**: nums = [3,6,9,1]\n",
        "\n",
        "**Output**: 3\n",
        "\n",
        "**Explanation**: The sorted form of the array is [1,3,6,9], either (3,6) or (6,9) has the maximum difference 3.\n",
        "#### Example 2\n",
        "\n",
        "**Input**: nums = [10]\n",
        "\n",
        "**Output**: 0\n",
        "\n",
        "**Explanation**: The array contains less than 2 elements, therefore return 0.\n",
        "\n",
        "\n",
        "### Constraints\n",
        "\n",
        "* `1 <= nums.length <= 105`\n",
        "* `0 <= nums[i] <= 10`\n",
        "\n"
      ],
      "metadata": {
        "id": "L-tIiog30K6H"
      }
    },
    {
      "cell_type": "markdown",
      "source": [
        "For a dummy lets consider the first example `nums = [3,6,9,1]`\n",
        "\n",
        "\n",
        "\n",
        "\n"
      ],
      "metadata": {
        "id": "cjKWseZq5-Au"
      }
    },
    {
      "cell_type": "code",
      "source": [
        "nums = [3,6,9,1]"
      ],
      "metadata": {
        "id": "rjELu7Vo6M_7"
      },
      "execution_count": 5,
      "outputs": []
    },
    {
      "cell_type": "markdown",
      "source": [
        "As the question says, `in its sorted form`. So first we need to sort the array "
      ],
      "metadata": {
        "id": "9zShaPBZ6dz0"
      }
    },
    {
      "cell_type": "code",
      "source": [
        "nums.sort()"
      ],
      "metadata": {
        "id": "8zuQBTFmG55U"
      },
      "execution_count": 7,
      "outputs": []
    },
    {
      "cell_type": "code",
      "source": [
        "nums"
      ],
      "metadata": {
        "colab": {
          "base_uri": "https://localhost:8080/"
        },
        "id": "Y2a8Biv0KNMh",
        "outputId": "c17d02c6-9977-499d-db6f-05327b86ab82"
      },
      "execution_count": 8,
      "outputs": [
        {
          "output_type": "execute_result",
          "data": {
            "text/plain": [
              "[1, 3, 6, 9]"
            ]
          },
          "metadata": {},
          "execution_count": 8
        }
      ]
    },
    {
      "cell_type": "markdown",
      "source": [
        "Now lets try to excess the successive elements of the list, we can do this by just running a for loop "
      ],
      "metadata": {
        "id": "vUpyiuaWHRpv"
      }
    },
    {
      "cell_type": "code",
      "source": [
        "for i in range(len(nums)):pass"
      ],
      "metadata": {
        "id": "36ae_3Acz6X-"
      },
      "execution_count": 10,
      "outputs": []
    },
    {
      "cell_type": "markdown",
      "source": [
        "Now we need to do something with this loop, lets first try to get what values we are getting "
      ],
      "metadata": {
        "id": "Zf-BAlF5MysP"
      }
    },
    {
      "cell_type": "code",
      "source": [
        "for i in range(len(nums)):\n",
        "    print(i , i + 1)"
      ],
      "metadata": {
        "colab": {
          "base_uri": "https://localhost:8080/"
        },
        "id": "baL0C6dVKooM",
        "outputId": "0a106a73-10c3-4a2f-b962-c710cd14afb9"
      },
      "execution_count": 11,
      "outputs": [
        {
          "output_type": "stream",
          "name": "stdout",
          "text": [
            "0 1\n",
            "1 2\n",
            "2 3\n",
            "3 4\n"
          ]
        }
      ]
    },
    {
      "cell_type": "markdown",
      "source": [
        "Now we jsut need to find the elements at these indexes "
      ],
      "metadata": {
        "id": "0b51fc2eKshK"
      }
    },
    {
      "cell_type": "code",
      "source": [
        "for i in range(len(nums)):\n",
        "    print(nums[i] , nums[i + 1])"
      ],
      "metadata": {
        "colab": {
          "base_uri": "https://localhost:8080/",
          "height": 235
        },
        "id": "KboWGhseM8T_",
        "outputId": "b88e95f1-5811-48b9-8d62-91dd76121a19"
      },
      "execution_count": 12,
      "outputs": [
        {
          "output_type": "stream",
          "name": "stdout",
          "text": [
            "1 3\n",
            "3 6\n",
            "6 9\n"
          ]
        },
        {
          "output_type": "error",
          "ename": "IndexError",
          "evalue": "ignored",
          "traceback": [
            "\u001b[0;31m---------------------------------------------------------------------------\u001b[0m",
            "\u001b[0;31mIndexError\u001b[0m                                Traceback (most recent call last)",
            "\u001b[0;32m<ipython-input-12-d7c76aee489a>\u001b[0m in \u001b[0;36m<cell line: 1>\u001b[0;34m()\u001b[0m\n\u001b[1;32m      1\u001b[0m \u001b[0;32mfor\u001b[0m \u001b[0mi\u001b[0m \u001b[0;32min\u001b[0m \u001b[0mrange\u001b[0m\u001b[0;34m(\u001b[0m\u001b[0mlen\u001b[0m\u001b[0;34m(\u001b[0m\u001b[0mnums\u001b[0m\u001b[0;34m)\u001b[0m\u001b[0;34m)\u001b[0m\u001b[0;34m:\u001b[0m\u001b[0;34m\u001b[0m\u001b[0;34m\u001b[0m\u001b[0m\n\u001b[0;32m----> 2\u001b[0;31m     \u001b[0mprint\u001b[0m\u001b[0;34m(\u001b[0m\u001b[0mnums\u001b[0m\u001b[0;34m[\u001b[0m\u001b[0mi\u001b[0m\u001b[0;34m]\u001b[0m \u001b[0;34m,\u001b[0m \u001b[0mnums\u001b[0m\u001b[0;34m[\u001b[0m\u001b[0mi\u001b[0m \u001b[0;34m+\u001b[0m \u001b[0;36m1\u001b[0m\u001b[0;34m]\u001b[0m\u001b[0;34m)\u001b[0m\u001b[0;34m\u001b[0m\u001b[0;34m\u001b[0m\u001b[0m\n\u001b[0m",
            "\u001b[0;31mIndexError\u001b[0m: list index out of range"
          ]
        }
      ]
    },
    {
      "cell_type": "markdown",
      "source": [
        "Oops we got error, this is beacye we tried to acces an element that was out of the bounds of the list, for handling this, lets run the loop for `len(nums) - 1`"
      ],
      "metadata": {
        "id": "O_DAWPSXHNW9"
      }
    },
    {
      "cell_type": "code",
      "source": [
        "for i in range(len(nums) - 1):\n",
        "    print(nums[i] , nums[i + 1])"
      ],
      "metadata": {
        "colab": {
          "base_uri": "https://localhost:8080/"
        },
        "id": "PZe2myJtLF6Y",
        "outputId": "22f5331f-c707-4d99-cbd3-819fc2f9cea2"
      },
      "execution_count": 14,
      "outputs": [
        {
          "output_type": "stream",
          "name": "stdout",
          "text": [
            "1 3\n",
            "3 6\n",
            "6 9\n"
          ]
        }
      ]
    },
    {
      "cell_type": "markdown",
      "source": [
        "Lets try to get the differences of these elemnts"
      ],
      "metadata": {
        "id": "VDJJ0_R-NRBA"
      }
    },
    {
      "cell_type": "code",
      "source": [
        "for i in range(len(nums) - 1):\n",
        "    print(nums[i] - nums[i + 1])"
      ],
      "metadata": {
        "id": "XIz0gx02NfUX",
        "colab": {
          "base_uri": "https://localhost:8080/"
        },
        "outputId": "786dcac8-6398-4b6a-8f16-fa817976f194"
      },
      "execution_count": 15,
      "outputs": [
        {
          "output_type": "stream",
          "name": "stdout",
          "text": [
            "-2\n",
            "-3\n",
            "-3\n"
          ]
        }
      ]
    },
    {
      "cell_type": "markdown",
      "source": [
        "Opps this is negative, but we want something positive, for this we will use the `abs()` function "
      ],
      "metadata": {
        "id": "xV3CwXNPNgVf"
      }
    },
    {
      "cell_type": "code",
      "source": [
        "for i in range(len(nums) - 1):\n",
        "    print(abs(nums[i] - nums[i + 1]))"
      ],
      "metadata": {
        "colab": {
          "base_uri": "https://localhost:8080/"
        },
        "id": "Hr1Mp5v9Lh3u",
        "outputId": "6d97ee01-1fa2-45f3-e86c-50efabbb290d"
      },
      "execution_count": 16,
      "outputs": [
        {
          "output_type": "stream",
          "name": "stdout",
          "text": [
            "2\n",
            "3\n",
            "3\n"
          ]
        }
      ]
    },
    {
      "cell_type": "markdown",
      "source": [
        "Now we just need to find the maximum of these number, lets just intialize another variable, that updates everytime if a larger number appears"
      ],
      "metadata": {
        "id": "fNgJIm17Llke"
      }
    },
    {
      "cell_type": "code",
      "source": [
        "sum = 0\n",
        "for i in range(len(nums) - 1):\n",
        "    if abs(nums[i] - nums[i + 1]) > sum :\n",
        "        sum = abs(nums[i] - nums[i + 1])"
      ],
      "metadata": {
        "id": "vElUTTdvL2b0"
      },
      "execution_count": 17,
      "outputs": []
    },
    {
      "cell_type": "markdown",
      "source": [
        "And this can be our final function, but we have ignored one edge case, that is if the user enters a list with only $1$ value, we should return 0 for that "
      ],
      "metadata": {
        "id": "GcrI2kDiL6J0"
      }
    },
    {
      "cell_type": "code",
      "source": [
        "sum = 0\n",
        "if len(nums) < 2: print(0)\n",
        "for i in range(len(nums) - 1):\n",
        "    if abs(nums[i] - nums[i + 1]) > sum :\n",
        "        sum = abs(nums[i] - nums[i + 1])"
      ],
      "metadata": {
        "id": "BF8tLMn8GBpz"
      },
      "execution_count": 3,
      "outputs": []
    },
    {
      "cell_type": "markdown",
      "source": [
        "Now we just need to put all of this into a function for better usage "
      ],
      "metadata": {
        "id": "uXo6n3arMLhm"
      }
    },
    {
      "cell_type": "code",
      "source": [
        "class Solution:\n",
        "    def maximumGap(self, nums: List[int]) -> int:\n",
        "        nums.sort()\n",
        "        sum = 0\n",
        "        if len(nums) < 2: return sum\n",
        "        else :\n",
        "            for i in range(len(nums) - 1):\n",
        "                if abs(nums[i] - nums[i + 1]) > sum :\n",
        "                    sum = abs(nums[i] - nums[i + 1])\n",
        "            return sum"
      ],
      "metadata": {
        "id": "wkEu_rO8MQJq"
      },
      "execution_count": null,
      "outputs": []
    }
  ]
}