{
 "cells": [
  {
   "cell_type": "markdown",
   "metadata": {},
   "source": [
    "# Question 2181"
   ]
  },
  {
   "cell_type": "markdown",
   "metadata": {},
   "source": [
    "### Merge Nodes In Between Zeroes"
   ]
  },
  {
   "cell_type": "markdown",
   "metadata": {},
   "source": [
    "### Problem Statement :-"
   ]
  },
  {
   "cell_type": "markdown",
   "metadata": {},
   "source": [
    "You are given the head of a linked list, which contains a series of integers **separated** by 0's. The **beginning** and end of the linked list will have `Node.val == 0`.\n",
    "\n",
    "For **every** two consecutive `0`'s, **merge** all the nodes lying in between them into a single node whose value is the **sum** of all the merged nodes. The modified list should not contain any `0'`s.\n",
    "\n",
    "Return the `head` of the modified linked list.\n",
    "\n",
    "\n"
   ]
  },
  {
   "cell_type": "markdown",
   "metadata": {},
   "source": [
    "### Examples"
   ]
  },
  {
   "cell_type": "markdown",
   "metadata": {},
   "source": [
    "#### Example 1"
   ]
  },
  {
   "cell_type": "markdown",
   "metadata": {},
   "source": [
    "##### Example :"
   ]
  },
  {
   "cell_type": "markdown",
   "metadata": {},
   "source": [
    "    Input : \n",
    "        head = [0,3,1,0,4,5,2,0]\n",
    "    Output : \n",
    "        [4,11]"
   ]
  },
  {
   "cell_type": "markdown",
   "metadata": {},
   "source": [
    "#### Explanation \n"
   ]
  },
  {
   "cell_type": "markdown",
   "metadata": {},
   "source": [
    "The above figure represents the given linked list. The modified list contains\n",
    "- The sum of the nodes marked in green: 3 + 1 = 4.\n",
    "- The sum of the nodes marked in red: 4 + 5 + 2 = 11."
   ]
  },
  {
   "cell_type": "markdown",
   "metadata": {},
   "source": [
    "#### Example 2"
   ]
  },
  {
   "cell_type": "markdown",
   "metadata": {},
   "source": [
    "#### Example :-"
   ]
  },
  {
   "cell_type": "markdown",
   "metadata": {},
   "source": [
    "    Input :\n",
    "        head = [0,1,0,3,0,2,2,0]\n",
    "    Output : \n",
    "        [1,3,4]"
   ]
  },
  {
   "cell_type": "markdown",
   "metadata": {},
   "source": [
    "#### Explanation"
   ]
  },
  {
   "cell_type": "markdown",
   "metadata": {},
   "source": [
    "The above figure represents the given linked list. The modified list contains\n",
    "- The sum of the nodes marked in green: 1 = 1.\n",
    "- The sum of the nodes marked in red: 3 = 3.\n",
    "- The sum of the nodes marked in yellow: 2 + 2 = 4."
   ]
  },
  {
   "cell_type": "markdown",
   "metadata": {},
   "source": [
    "#### Solution"
   ]
  },
  {
   "cell_type": "code",
   "execution_count": null,
   "metadata": {},
   "outputs": [],
   "source": [
    "class Solution:\n",
    "    \n",
    "    def merge_nodes(self , head : Optional[ListNode]) -> Optional[ListNode]:\n",
    "        \n",
    "        test = current = head\n",
    "        current = current.next\n",
    "        sum = 0\n",
    "\n",
    "        while current:\n",
    "\n",
    "            if current.val == 0:\n",
    "\n",
    "                test = test.next\n",
    "                test.val = sum\n",
    "                sum = 0\n",
    "\n",
    "            else : \n",
    "\n",
    "                sum = sum + current.val\n",
    "\n",
    "            current = current.next\n",
    "\n",
    "        test.next = None\n",
    "        \n",
    "        return head.next"
   ]
  },
  {
   "cell_type": "code",
   "execution_count": null,
   "metadata": {},
   "outputs": [],
   "source": []
  }
 ],
 "metadata": {
  "kernelspec": {
   "display_name": "Python 3.10.4 64-bit",
   "language": "python",
   "name": "python3"
  },
  "language_info": {
   "codemirror_mode": {
    "name": "ipython",
    "version": 3
   },
   "file_extension": ".py",
   "mimetype": "text/x-python",
   "name": "python",
   "nbconvert_exporter": "python",
   "pygments_lexer": "ipython3",
   "version": "3.10.4"
  },
  "orig_nbformat": 4,
  "vscode": {
   "interpreter": {
    "hash": "3ad933181bd8a04b432d3370b9dc3b0662ad032c4dfaa4e4f1596c548f763858"
   }
  }
 },
 "nbformat": 4,
 "nbformat_minor": 2
}
